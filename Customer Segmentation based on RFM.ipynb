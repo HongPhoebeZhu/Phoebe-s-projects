{
 "cells": [
  {
   "cell_type": "markdown",
   "metadata": {},
   "source": [
    "# Rubikloud Presents: The 2018 Analytics By Design Case Competition\n",
    "\n",
    "contestant: Hong(Phoebe) Zhu"
   ]
  },
  {
   "cell_type": "markdown",
   "metadata": {},
   "source": [
    "### ------------------------------------- The code down below are provided officially  ---------------------------------------\n",
    "### ------------------------------------Considering copyright, no full data will be shown-------------------------------------"
   ]
  },
  {
   "cell_type": "code",
   "execution_count": null,
   "metadata": {
    "collapsed": true
   },
   "outputs": [],
   "source": [
    "installed.packages()[, c(1, 3)]"
   ]
  },
  {
   "cell_type": "code",
   "execution_count": 4,
   "metadata": {
    "ExecuteTime": {
     "end_time": "2018-05-03T00:32:34.918090Z",
     "start_time": "2018-05-03T00:31:39.145Z"
    }
   },
   "outputs": [
    {
     "name": "stderr",
     "output_type": "stream",
     "text": [
      "Warning message in dir.create(\"UserLibrary\"):\n",
      "“'UserLibrary' already exists”"
     ]
    }
   ],
   "source": [
    "# If you want to install a package that is not pre-installed, simply run the following line of code\n",
    "# In this example, we're installing the forcats package (http://forcats.tidyverse.org/)\n",
    "\n",
    "# For that we need to create first a folder where we can have our user installed packages: \n",
    "dir.create('UserLibrary')\n",
    "\n",
    "# And add our folder to the list of paths containing libraries.\n",
    "\n",
    ".libPaths( c( .libPaths(), 'UserLibrary') )\n",
    "\n",
    "# Now here we go!\n",
    "\n",
    "\n",
    "install.packages('forcats', lib='UserLibrary')\n",
    "# Note: if you restart your server, you will need to re-install your packages"
   ]
  },
  {
   "cell_type": "code",
   "execution_count": 352,
   "metadata": {
    "ExecuteTime": {
     "end_time": "2018-05-04T03:31:02.579839Z",
     "start_time": "2018-05-04T03:31:02.276Z"
    },
    "scrolled": true
   },
   "outputs": [
    {
     "data": {
      "text/html": [
       "<table>\n",
       "<thead><tr><th></th><th scope=col>Package</th><th scope=col>LibPath</th><th scope=col>Version</th><th scope=col>Priority</th><th scope=col>Depends</th><th scope=col>Imports</th><th scope=col>LinkingTo</th><th scope=col>Suggests</th><th scope=col>Enhances</th><th scope=col>License</th><th scope=col>License_is_FOSS</th><th scope=col>License_restricts_use</th><th scope=col>OS_type</th><th scope=col>MD5sum</th><th scope=col>NeedsCompilation</th><th scope=col>Built</th></tr></thead>\n",
       "<tbody>\n",
       "\t<tr><th scope=row>plyr</th><td>plyr                                                                    </td><td>/home/rubione/work/private/UserLibrary                                  </td><td>1.8.4                                                                   </td><td>NA                                                                      </td><td>R (&gt;= 3.1.0)                                                         </td><td>Rcpp (&gt;= 0.11.0)                                                     </td><td>Rcpp                                                                    </td><td>abind, testthat, tcltk, foreach, doParallel, itertools,\n",
       "iterators, covr</td><td>NA                                                                      </td><td>MIT + file LICENSE                                                      </td><td>NA                                                                      </td><td>NA                                                                      </td><td>NA                                                                      </td><td>NA                                                                      </td><td>yes                                                                     </td><td>3.3.3                                                                   </td></tr>\n",
       "</tbody>\n",
       "</table>\n"
      ],
      "text/latex": [
       "\\begin{tabular}{r|llllllllllllllll}\n",
       "  & Package & LibPath & Version & Priority & Depends & Imports & LinkingTo & Suggests & Enhances & License & License\\_is\\_FOSS & License\\_restricts\\_use & OS\\_type & MD5sum & NeedsCompilation & Built\\\\\n",
       "\\hline\n",
       "\tplyr & plyr                                                                     & /home/rubione/work/private/UserLibrary                                   & 1.8.4                                                                    & NA                                                                       & R (>= 3.1.0)                                                             & Rcpp (>= 0.11.0)                                                         & Rcpp                                                                     & abind, testthat, tcltk, foreach, doParallel, itertools,\n",
       "iterators, covr & NA                                                                       & MIT + file LICENSE                                                       & NA                                                                       & NA                                                                       & NA                                                                       & NA                                                                       & yes                                                                      & 3.3.3                                                                   \\\\\n",
       "\\end{tabular}\n"
      ],
      "text/markdown": [
       "\n",
       "| <!--/--> | Package | LibPath | Version | Priority | Depends | Imports | LinkingTo | Suggests | Enhances | License | License_is_FOSS | License_restricts_use | OS_type | MD5sum | NeedsCompilation | Built | \n",
       "|---|\n",
       "| plyr | plyr                                                                     | /home/rubione/work/private/UserLibrary                                   | 1.8.4                                                                    | NA                                                                       | R (>= 3.1.0)                                                             | Rcpp (>= 0.11.0)                                                         | Rcpp                                                                     | abind, testthat, tcltk, foreach, doParallel, itertools,\n",
       "iterators, covr | NA                                                                       | MIT + file LICENSE                                                       | NA                                                                       | NA                                                                       | NA                                                                       | NA                                                                       | yes                                                                      | 3.3.3                                                                    | \n",
       "\n",
       "\n"
      ],
      "text/plain": [
       "     Package LibPath                                Version Priority\n",
       "plyr plyr    /home/rubione/work/private/UserLibrary 1.8.4   NA      \n",
       "     Depends      Imports          LinkingTo\n",
       "plyr R (>= 3.1.0) Rcpp (>= 0.11.0) Rcpp     \n",
       "     Suggests                                                                \n",
       "plyr abind, testthat, tcltk, foreach, doParallel, itertools,\\niterators, covr\n",
       "     Enhances License            License_is_FOSS License_restricts_use OS_type\n",
       "plyr NA       MIT + file LICENSE NA              NA                    NA     \n",
       "     MD5sum NeedsCompilation Built\n",
       "plyr NA     yes              3.3.3"
      ]
     },
     "metadata": {},
     "output_type": "display_data"
    }
   ],
   "source": [
    "# Look, now `forcats` is installed! \n",
    "tail(installed.packages(), n=1)"
   ]
  },
  {
   "cell_type": "code",
   "execution_count": 4,
   "metadata": {
    "ExecuteTime": {
     "end_time": "2018-05-02T20:07:10.971078Z",
     "start_time": "2018-05-02T20:07:06.534Z"
    }
   },
   "outputs": [
    {
     "name": "stderr",
     "output_type": "stream",
     "text": [
      "\n",
      "Attaching package: ‘dplyr’\n",
      "\n",
      "The following objects are masked from ‘package:stats’:\n",
      "\n",
      "    filter, lag\n",
      "\n",
      "The following objects are masked from ‘package:base’:\n",
      "\n",
      "    intersect, setdiff, setequal, union\n",
      "\n",
      "\n",
      "Attaching package: ‘lubridate’\n",
      "\n",
      "The following object is masked from ‘package:base’:\n",
      "\n",
      "    date\n",
      "\n"
     ]
    }
   ],
   "source": [
    "library(dplyr)\n",
    "library(lubridate)\n",
    "library(tidyr)"
   ]
  },
  {
   "cell_type": "markdown",
   "metadata": {},
   "source": [
    "## Dataset\n",
    "\n",
    "The dataset you will work with is a typical dataset that a retailer would have access to. There are three primary tables:\n",
    "\n",
    "- **`customers`: anonymized list of all customers**\n",
    "  - `customer_id`: `bigint` - anonymized id of customer\n",
    "  - `registration_date`: `datetime` - date of registration with the loyalty program (may be on a date earlier than the transaction table goes)\n",
    "- **`products`: list of all products with corresponding attributes**\n",
    "  - `product_id`: bigint - anonymized id of product\n",
    "  - `price`: `float` - regular price of product\n",
    "  - `brand_id`: `varchar` - anonymized brand of product\n",
    "  - `division`: `varchar` - high-level categorization of product\n",
    "  - `category`: `varchar` - 2nd-level categorization of product\n",
    "  - `subcategory`: `varchar` - 3nd-level categorization of product\n",
    "  - `fineline`: `varchar` - 4nd-level categorization of product (usually corresponds to color or flavours of a product)\n",
    "- **`transactions`: customer purchase data, each row represents a single product purchased within an order from a customer**\n",
    "  - `customer_id`: `bigint` - foreign key into customers table\n",
    "  - `product_id`: `bigint` - foreign key into products table\n",
    "  - `sale_id`: `bigint` - order number; multiple products can be purchased in a single order\n",
    "  - `transaction_date`: `datetime` - week transaction occurred\n",
    "  - `product_quantity`: `int` - number of product purchased\n",
    "  - `product_price`: `int` - sales from this product in this transaction (i.e. `product_quantity * avg_price_per_product`), includes discounts if any\n",
    "  \n",
    "**NOTE: This dataset is confidential and private and is not to leave Rubikloud's servers.**"
   ]
  },
  {
   "cell_type": "markdown",
   "metadata": {},
   "source": [
    "## Accessing the data\n",
    "\n",
    "In order to access the data, all you need to do is reference the *relative path* of the data. **The datasets provided can not and should not be downloaded in any way**.\n",
    "\n",
    "For example, to read in the customers CSV files, simply use \n",
    "customers <- read.csv('/home/rubione/work/public/data/customers.csv')\n",
    "\n",
    "See below for a few examples.\n",
    "\n",
    "Let's see how our data looks."
   ]
  },
  {
   "cell_type": "code",
   "execution_count": 357,
   "metadata": {
    "ExecuteTime": {
     "end_time": "2018-05-04T03:33:42.615133Z",
     "start_time": "2018-05-04T03:33:35.369Z"
    }
   },
   "outputs": [
    {
     "name": "stdout",
     "output_type": "stream",
     "text": [
      "[1] 1000000       2\n"
     ]
    },
    {
     "data": {
      "text/html": [
       "<table>\n",
       "<thead><tr><th scope=col>customer_id</th><th scope=col>registration_date</th></tr></thead>\n",
       "<tbody>\n",
       "\t<tr><td>25540437           </td><td>2007-09-28 00:00:00</td></tr>\n",
       "\t<tr><td>13979277           </td><td>2007-10-07 00:00:00</td></tr>\n",
       "\t<tr><td>25381493           </td><td>2007-10-07 00:00:00</td></tr>\n",
       "\t<tr><td>41970813           </td><td>2007-10-07 00:00:00</td></tr>\n",
       "\t<tr><td>24930117           </td><td>2007-10-07 00:00:00</td></tr>\n",
       "\t<tr><td>39871125           </td><td>2007-10-07 00:00:00</td></tr>\n",
       "</tbody>\n",
       "</table>\n"
      ],
      "text/latex": [
       "\\begin{tabular}{r|ll}\n",
       " customer\\_id & registration\\_date\\\\\n",
       "\\hline\n",
       "\t 25540437            & 2007-09-28 00:00:00\\\\\n",
       "\t 13979277            & 2007-10-07 00:00:00\\\\\n",
       "\t 25381493            & 2007-10-07 00:00:00\\\\\n",
       "\t 41970813            & 2007-10-07 00:00:00\\\\\n",
       "\t 24930117            & 2007-10-07 00:00:00\\\\\n",
       "\t 39871125            & 2007-10-07 00:00:00\\\\\n",
       "\\end{tabular}\n"
      ],
      "text/markdown": [
       "\n",
       "customer_id | registration_date | \n",
       "|---|---|---|---|---|---|\n",
       "| 25540437            | 2007-09-28 00:00:00 | \n",
       "| 13979277            | 2007-10-07 00:00:00 | \n",
       "| 25381493            | 2007-10-07 00:00:00 | \n",
       "| 41970813            | 2007-10-07 00:00:00 | \n",
       "| 24930117            | 2007-10-07 00:00:00 | \n",
       "| 39871125            | 2007-10-07 00:00:00 | \n",
       "\n",
       "\n"
      ],
      "text/plain": [
       "  customer_id registration_date  \n",
       "1 25540437    2007-09-28 00:00:00\n",
       "2 13979277    2007-10-07 00:00:00\n",
       "3 25381493    2007-10-07 00:00:00\n",
       "4 41970813    2007-10-07 00:00:00\n",
       "5 24930117    2007-10-07 00:00:00\n",
       "6 39871125    2007-10-07 00:00:00"
      ]
     },
     "metadata": {},
     "output_type": "display_data"
    }
   ],
   "source": [
    "customers <- read.csv('/home/rubione/work/public/data/customers.csv')\n",
    "print(dim(customers))\n",
    "head(customers)"
   ]
  },
  {
   "cell_type": "code",
   "execution_count": 358,
   "metadata": {
    "ExecuteTime": {
     "end_time": "2018-05-04T03:33:44.447638Z",
     "start_time": "2018-05-04T03:33:40.335Z"
    }
   },
   "outputs": [
    {
     "name": "stdout",
     "output_type": "stream",
     "text": [
      "[1] 52843     7\n"
     ]
    },
    {
     "data": {
      "text/html": [
       "<table>\n",
       "<thead><tr><th scope=col>product_id</th><th scope=col>price</th><th scope=col>brand_id</th><th scope=col>division</th><th scope=col>category</th><th scope=col>subcategory</th><th scope=col>fineline</th></tr></thead>\n",
       "<tbody>\n",
       "\t<tr><td>42879                           </td><td>10                              </td><td>359                             </td><td>15                              </td><td>11                              </td><td>46                              </td><td>6f1ba46da1abfd8fa10ad4055427ebe1</td></tr>\n",
       "\t<tr><td>24926                           </td><td> 9                              </td><td> 70                             </td><td>15                              </td><td>11                              </td><td>46                              </td><td>dcda54e29207294d8e7e1b537338b1c0</td></tr>\n",
       "\t<tr><td>34251                           </td><td>13                              </td><td>213                             </td><td>15                              </td><td>11                              </td><td>46                              </td><td>d799ddd9de9cc9964d5e0d936d6f284d</td></tr>\n",
       "\t<tr><td> 1410                           </td><td> 6                              </td><td> 80                             </td><td>15                              </td><td>11                              </td><td>46                              </td><td>943bbfd3b1b538841834b5fe8f3f18ff</td></tr>\n",
       "\t<tr><td>12491                           </td><td>28                              </td><td> 32                             </td><td>15                              </td><td>11                              </td><td>46                              </td><td>b4b5b5ca5d5fc4e8fe2f24c655cec987</td></tr>\n",
       "\t<tr><td>49548                           </td><td>19                              </td><td>349                             </td><td>15                              </td><td>11                              </td><td>46                              </td><td>f6a7bf0dd91a7349da4c2fb95cb61b1f</td></tr>\n",
       "</tbody>\n",
       "</table>\n"
      ],
      "text/latex": [
       "\\begin{tabular}{r|lllllll}\n",
       " product\\_id & price & brand\\_id & division & category & subcategory & fineline\\\\\n",
       "\\hline\n",
       "\t 42879                            & 10                               & 359                              & 15                               & 11                               & 46                               & 6f1ba46da1abfd8fa10ad4055427ebe1\\\\\n",
       "\t 24926                            &  9                               &  70                              & 15                               & 11                               & 46                               & dcda54e29207294d8e7e1b537338b1c0\\\\\n",
       "\t 34251                            & 13                               & 213                              & 15                               & 11                               & 46                               & d799ddd9de9cc9964d5e0d936d6f284d\\\\\n",
       "\t  1410                            &  6                               &  80                              & 15                               & 11                               & 46                               & 943bbfd3b1b538841834b5fe8f3f18ff\\\\\n",
       "\t 12491                            & 28                               &  32                              & 15                               & 11                               & 46                               & b4b5b5ca5d5fc4e8fe2f24c655cec987\\\\\n",
       "\t 49548                            & 19                               & 349                              & 15                               & 11                               & 46                               & f6a7bf0dd91a7349da4c2fb95cb61b1f\\\\\n",
       "\\end{tabular}\n"
      ],
      "text/markdown": [
       "\n",
       "product_id | price | brand_id | division | category | subcategory | fineline | \n",
       "|---|---|---|---|---|---|\n",
       "| 42879                            | 10                               | 359                              | 15                               | 11                               | 46                               | 6f1ba46da1abfd8fa10ad4055427ebe1 | \n",
       "| 24926                            |  9                               |  70                              | 15                               | 11                               | 46                               | dcda54e29207294d8e7e1b537338b1c0 | \n",
       "| 34251                            | 13                               | 213                              | 15                               | 11                               | 46                               | d799ddd9de9cc9964d5e0d936d6f284d | \n",
       "|  1410                            |  6                               |  80                              | 15                               | 11                               | 46                               | 943bbfd3b1b538841834b5fe8f3f18ff | \n",
       "| 12491                            | 28                               |  32                              | 15                               | 11                               | 46                               | b4b5b5ca5d5fc4e8fe2f24c655cec987 | \n",
       "| 49548                            | 19                               | 349                              | 15                               | 11                               | 46                               | f6a7bf0dd91a7349da4c2fb95cb61b1f | \n",
       "\n",
       "\n"
      ],
      "text/plain": [
       "  product_id price brand_id division category subcategory\n",
       "1 42879      10    359      15       11       46         \n",
       "2 24926       9     70      15       11       46         \n",
       "3 34251      13    213      15       11       46         \n",
       "4  1410       6     80      15       11       46         \n",
       "5 12491      28     32      15       11       46         \n",
       "6 49548      19    349      15       11       46         \n",
       "  fineline                        \n",
       "1 6f1ba46da1abfd8fa10ad4055427ebe1\n",
       "2 dcda54e29207294d8e7e1b537338b1c0\n",
       "3 d799ddd9de9cc9964d5e0d936d6f284d\n",
       "4 943bbfd3b1b538841834b5fe8f3f18ff\n",
       "5 b4b5b5ca5d5fc4e8fe2f24c655cec987\n",
       "6 f6a7bf0dd91a7349da4c2fb95cb61b1f"
      ]
     },
     "metadata": {},
     "output_type": "display_data"
    }
   ],
   "source": [
    "products <- read.csv('/home/rubione/work/public/data/products.csv')\n",
    "print(dim(products))\n",
    "head(products)"
   ]
  },
  {
   "cell_type": "code",
   "execution_count": 7,
   "metadata": {
    "ExecuteTime": {
     "end_time": "2018-05-02T20:08:00.034058Z",
     "start_time": "2018-05-02T20:07:59.703Z"
    }
   },
   "outputs": [
    {
     "data": {
      "text/html": [
       "764"
      ],
      "text/latex": [
       "764"
      ],
      "text/markdown": [
       "764"
      ],
      "text/plain": [
       "[1] 764"
      ]
     },
     "metadata": {},
     "output_type": "display_data"
    },
    {
     "data": {
      "text/html": [
       "26"
      ],
      "text/latex": [
       "26"
      ],
      "text/markdown": [
       "26"
      ],
      "text/plain": [
       "[1] 26"
      ]
     },
     "metadata": {},
     "output_type": "display_data"
    },
    {
     "data": {
      "text/html": [
       "26"
      ],
      "text/latex": [
       "26"
      ],
      "text/markdown": [
       "26"
      ],
      "text/plain": [
       "[1] 26"
      ]
     },
     "metadata": {},
     "output_type": "display_data"
    },
    {
     "data": {
      "text/html": [
       "108"
      ],
      "text/latex": [
       "108"
      ],
      "text/markdown": [
       "108"
      ],
      "text/plain": [
       "[1] 108"
      ]
     },
     "metadata": {},
     "output_type": "display_data"
    },
    {
     "data": {
      "text/html": [
       "27760"
      ],
      "text/latex": [
       "27760"
      ],
      "text/markdown": [
       "27760"
      ],
      "text/plain": [
       "[1] 27760"
      ]
     },
     "metadata": {},
     "output_type": "display_data"
    }
   ],
   "source": [
    "length(unique(products$brand_id))\n",
    "length(unique(products$division))\n",
    "length(unique(products$category))\n",
    "length(unique(products$subcategory))\n",
    "length(unique(products$fineline))"
   ]
  },
  {
   "cell_type": "code",
   "execution_count": 359,
   "metadata": {
    "ExecuteTime": {
     "end_time": "2018-05-04T03:37:56.916918Z",
     "start_time": "2018-05-04T03:33:53.111Z"
    }
   },
   "outputs": [
    {
     "name": "stdout",
     "output_type": "stream",
     "text": [
      "[1] 18242155        6\n"
     ]
    },
    {
     "data": {
      "text/html": [
       "<table>\n",
       "<thead><tr><th scope=col>customer_id</th><th scope=col>product_id</th><th scope=col>sale_id</th><th scope=col>transaction_date</th><th scope=col>product_quantity</th><th scope=col>product_price</th></tr></thead>\n",
       "<tbody>\n",
       "\t<tr><td>19598045                        </td><td>29894                           </td><td>b376bf141dbadfee5c9f53b33cbe39ac</td><td>2009-12-21                      </td><td>1                               </td><td> 4                              </td></tr>\n",
       "\t<tr><td>39801397                        </td><td>30483                           </td><td>d0a12cc99c7fec2380e8781416a1403c</td><td>2009-12-14                      </td><td>1                               </td><td> 7                              </td></tr>\n",
       "\t<tr><td>49744497                        </td><td>30678                           </td><td>bf6bc6d2d575a4f17c0e82efe29a7585</td><td>2009-10-12                      </td><td>1                               </td><td> 6                              </td></tr>\n",
       "\t<tr><td>24637068                        </td><td>23630                           </td><td>27aa9ff7c603fdd379dc41c33fd8af3c</td><td>2009-03-09                      </td><td>1                               </td><td> 5                              </td></tr>\n",
       "\t<tr><td>24911294                        </td><td>14004                           </td><td>867718a9254e735f6416975df4131462</td><td>2010-05-30                      </td><td>1                               </td><td>17                              </td></tr>\n",
       "\t<tr><td>42953928                        </td><td>23069                           </td><td>32df6aadce7ac5b2bb052a9bb5fe2c3f</td><td>2010-06-06                      </td><td>1                               </td><td> 9                              </td></tr>\n",
       "</tbody>\n",
       "</table>\n"
      ],
      "text/latex": [
       "\\begin{tabular}{r|llllll}\n",
       " customer\\_id & product\\_id & sale\\_id & transaction\\_date & product\\_quantity & product\\_price\\\\\n",
       "\\hline\n",
       "\t 19598045                         & 29894                            & b376bf141dbadfee5c9f53b33cbe39ac & 2009-12-21                       & 1                                &  4                              \\\\\n",
       "\t 39801397                         & 30483                            & d0a12cc99c7fec2380e8781416a1403c & 2009-12-14                       & 1                                &  7                              \\\\\n",
       "\t 49744497                         & 30678                            & bf6bc6d2d575a4f17c0e82efe29a7585 & 2009-10-12                       & 1                                &  6                              \\\\\n",
       "\t 24637068                         & 23630                            & 27aa9ff7c603fdd379dc41c33fd8af3c & 2009-03-09                       & 1                                &  5                              \\\\\n",
       "\t 24911294                         & 14004                            & 867718a9254e735f6416975df4131462 & 2010-05-30                       & 1                                & 17                              \\\\\n",
       "\t 42953928                         & 23069                            & 32df6aadce7ac5b2bb052a9bb5fe2c3f & 2010-06-06                       & 1                                &  9                              \\\\\n",
       "\\end{tabular}\n"
      ],
      "text/markdown": [
       "\n",
       "customer_id | product_id | sale_id | transaction_date | product_quantity | product_price | \n",
       "|---|---|---|---|---|---|\n",
       "| 19598045                         | 29894                            | b376bf141dbadfee5c9f53b33cbe39ac | 2009-12-21                       | 1                                |  4                               | \n",
       "| 39801397                         | 30483                            | d0a12cc99c7fec2380e8781416a1403c | 2009-12-14                       | 1                                |  7                               | \n",
       "| 49744497                         | 30678                            | bf6bc6d2d575a4f17c0e82efe29a7585 | 2009-10-12                       | 1                                |  6                               | \n",
       "| 24637068                         | 23630                            | 27aa9ff7c603fdd379dc41c33fd8af3c | 2009-03-09                       | 1                                |  5                               | \n",
       "| 24911294                         | 14004                            | 867718a9254e735f6416975df4131462 | 2010-05-30                       | 1                                | 17                               | \n",
       "| 42953928                         | 23069                            | 32df6aadce7ac5b2bb052a9bb5fe2c3f | 2010-06-06                       | 1                                |  9                               | \n",
       "\n",
       "\n"
      ],
      "text/plain": [
       "  customer_id product_id sale_id                          transaction_date\n",
       "1 19598045    29894      b376bf141dbadfee5c9f53b33cbe39ac 2009-12-21      \n",
       "2 39801397    30483      d0a12cc99c7fec2380e8781416a1403c 2009-12-14      \n",
       "3 49744497    30678      bf6bc6d2d575a4f17c0e82efe29a7585 2009-10-12      \n",
       "4 24637068    23630      27aa9ff7c603fdd379dc41c33fd8af3c 2009-03-09      \n",
       "5 24911294    14004      867718a9254e735f6416975df4131462 2010-05-30      \n",
       "6 42953928    23069      32df6aadce7ac5b2bb052a9bb5fe2c3f 2010-06-06      \n",
       "  product_quantity product_price\n",
       "1 1                 4           \n",
       "2 1                 7           \n",
       "3 1                 6           \n",
       "4 1                 5           \n",
       "5 1                17           \n",
       "6 1                 9           "
      ]
     },
     "metadata": {},
     "output_type": "display_data"
    }
   ],
   "source": [
    "# Note that the transactions table is extremely large! Loading it will take some time.\n",
    "library(magrittr)\n",
    "transactions <- read.csv('/home/rubione/work/public/data/transactions.csv') %>% \n",
    "    mutate(transaction_date=parse_date_time(transaction_date, orders='ymd HMS'))\n",
    "print(dim(transactions))\n",
    "head(transactions)"
   ]
  },
  {
   "cell_type": "code",
   "execution_count": 9,
   "metadata": {
    "ExecuteTime": {
     "end_time": "2018-05-02T20:13:15.329558Z",
     "start_time": "2018-05-02T20:12:56.302Z"
    }
   },
   "outputs": [
    {
     "data": {
      "text/html": [
       "<table>\n",
       "<thead><tr><th scope=col>customer_id</th><th scope=col>product_id</th><th scope=col>transaction_date</th><th scope=col>product_quantity</th><th scope=col>product_price</th><th scope=col>month</th><th scope=col>year</th></tr></thead>\n",
       "<tbody>\n",
       "\t<tr><td>19598045  </td><td>29894     </td><td>2009-12-21</td><td>1         </td><td> 4        </td><td>12        </td><td>2009      </td></tr>\n",
       "\t<tr><td>39801397  </td><td>30483     </td><td>2009-12-14</td><td>1         </td><td> 7        </td><td>12        </td><td>2009      </td></tr>\n",
       "\t<tr><td>49744497  </td><td>30678     </td><td>2009-10-12</td><td>1         </td><td> 6        </td><td>10        </td><td>2009      </td></tr>\n",
       "\t<tr><td>24637068  </td><td>23630     </td><td>2009-03-09</td><td>1         </td><td> 5        </td><td> 3        </td><td>2009      </td></tr>\n",
       "\t<tr><td>24911294  </td><td>14004     </td><td>2010-05-30</td><td>1         </td><td>17        </td><td> 5        </td><td>2010      </td></tr>\n",
       "\t<tr><td>42953928  </td><td>23069     </td><td>2010-06-06</td><td>1         </td><td> 9        </td><td> 6        </td><td>2010      </td></tr>\n",
       "</tbody>\n",
       "</table>\n"
      ],
      "text/latex": [
       "\\begin{tabular}{r|lllllll}\n",
       " customer\\_id & product\\_id & transaction\\_date & product\\_quantity & product\\_price & month & year\\\\\n",
       "\\hline\n",
       "\t 19598045   & 29894      & 2009-12-21 & 1          &  4         & 12         & 2009      \\\\\n",
       "\t 39801397   & 30483      & 2009-12-14 & 1          &  7         & 12         & 2009      \\\\\n",
       "\t 49744497   & 30678      & 2009-10-12 & 1          &  6         & 10         & 2009      \\\\\n",
       "\t 24637068   & 23630      & 2009-03-09 & 1          &  5         &  3         & 2009      \\\\\n",
       "\t 24911294   & 14004      & 2010-05-30 & 1          & 17         &  5         & 2010      \\\\\n",
       "\t 42953928   & 23069      & 2010-06-06 & 1          &  9         &  6         & 2010      \\\\\n",
       "\\end{tabular}\n"
      ],
      "text/markdown": [
       "\n",
       "customer_id | product_id | transaction_date | product_quantity | product_price | month | year | \n",
       "|---|---|---|---|---|---|\n",
       "| 19598045   | 29894      | 2009-12-21 | 1          |  4         | 12         | 2009       | \n",
       "| 39801397   | 30483      | 2009-12-14 | 1          |  7         | 12         | 2009       | \n",
       "| 49744497   | 30678      | 2009-10-12 | 1          |  6         | 10         | 2009       | \n",
       "| 24637068   | 23630      | 2009-03-09 | 1          |  5         |  3         | 2009       | \n",
       "| 24911294   | 14004      | 2010-05-30 | 1          | 17         |  5         | 2010       | \n",
       "| 42953928   | 23069      | 2010-06-06 | 1          |  9         |  6         | 2010       | \n",
       "\n",
       "\n"
      ],
      "text/plain": [
       "  customer_id product_id transaction_date product_quantity product_price month\n",
       "1 19598045    29894      2009-12-21       1                 4            12   \n",
       "2 39801397    30483      2009-12-14       1                 7            12   \n",
       "3 49744497    30678      2009-10-12       1                 6            10   \n",
       "4 24637068    23630      2009-03-09       1                 5             3   \n",
       "5 24911294    14004      2010-05-30       1                17             5   \n",
       "6 42953928    23069      2010-06-06       1                 9             6   \n",
       "  year\n",
       "1 2009\n",
       "2 2009\n",
       "3 2009\n",
       "4 2009\n",
       "5 2010\n",
       "6 2010"
      ]
     },
     "metadata": {},
     "output_type": "display_data"
    }
   ],
   "source": [
    "transactions$sale_id<-NULL\n",
    "transactions$month <- as.numeric(format(as.Date(transactions$transaction_date), \"%m\"))\n",
    "transactions$year <- as.numeric(format(as.Date(transactions$transaction_date), \"%Y\"))\n",
    "head(transactions)"
   ]
  },
  {
   "cell_type": "code",
   "execution_count": 10,
   "metadata": {
    "ExecuteTime": {
     "end_time": "2018-05-02T20:13:42.485459Z",
     "start_time": "2018-05-02T20:13:42.058Z"
    }
   },
   "outputs": [
    {
     "data": {
      "text/html": [
       "<table>\n",
       "<thead><tr><th scope=col>customer_id</th><th scope=col>product_id</th><th scope=col>transaction_date</th><th scope=col>product_quantity</th><th scope=col>product_price</th><th scope=col>month</th><th scope=col>year</th><th scope=col>revenue</th></tr></thead>\n",
       "<tbody>\n",
       "\t<tr><td>19598045  </td><td>29894     </td><td>2009-12-21</td><td>1         </td><td> 4        </td><td>12        </td><td>2009      </td><td> 4        </td></tr>\n",
       "\t<tr><td>39801397  </td><td>30483     </td><td>2009-12-14</td><td>1         </td><td> 7        </td><td>12        </td><td>2009      </td><td> 7        </td></tr>\n",
       "\t<tr><td>49744497  </td><td>30678     </td><td>2009-10-12</td><td>1         </td><td> 6        </td><td>10        </td><td>2009      </td><td> 6        </td></tr>\n",
       "\t<tr><td>24637068  </td><td>23630     </td><td>2009-03-09</td><td>1         </td><td> 5        </td><td> 3        </td><td>2009      </td><td> 5        </td></tr>\n",
       "\t<tr><td>24911294  </td><td>14004     </td><td>2010-05-30</td><td>1         </td><td>17        </td><td> 5        </td><td>2010      </td><td>17        </td></tr>\n",
       "\t<tr><td>42953928  </td><td>23069     </td><td>2010-06-06</td><td>1         </td><td> 9        </td><td> 6        </td><td>2010      </td><td> 9        </td></tr>\n",
       "</tbody>\n",
       "</table>\n"
      ],
      "text/latex": [
       "\\begin{tabular}{r|llllllll}\n",
       " customer\\_id & product\\_id & transaction\\_date & product\\_quantity & product\\_price & month & year & revenue\\\\\n",
       "\\hline\n",
       "\t 19598045   & 29894      & 2009-12-21 & 1          &  4         & 12         & 2009       &  4        \\\\\n",
       "\t 39801397   & 30483      & 2009-12-14 & 1          &  7         & 12         & 2009       &  7        \\\\\n",
       "\t 49744497   & 30678      & 2009-10-12 & 1          &  6         & 10         & 2009       &  6        \\\\\n",
       "\t 24637068   & 23630      & 2009-03-09 & 1          &  5         &  3         & 2009       &  5        \\\\\n",
       "\t 24911294   & 14004      & 2010-05-30 & 1          & 17         &  5         & 2010       & 17        \\\\\n",
       "\t 42953928   & 23069      & 2010-06-06 & 1          &  9         &  6         & 2010       &  9        \\\\\n",
       "\\end{tabular}\n"
      ],
      "text/markdown": [
       "\n",
       "customer_id | product_id | transaction_date | product_quantity | product_price | month | year | revenue | \n",
       "|---|---|---|---|---|---|\n",
       "| 19598045   | 29894      | 2009-12-21 | 1          |  4         | 12         | 2009       |  4         | \n",
       "| 39801397   | 30483      | 2009-12-14 | 1          |  7         | 12         | 2009       |  7         | \n",
       "| 49744497   | 30678      | 2009-10-12 | 1          |  6         | 10         | 2009       |  6         | \n",
       "| 24637068   | 23630      | 2009-03-09 | 1          |  5         |  3         | 2009       |  5         | \n",
       "| 24911294   | 14004      | 2010-05-30 | 1          | 17         |  5         | 2010       | 17         | \n",
       "| 42953928   | 23069      | 2010-06-06 | 1          |  9         |  6         | 2010       |  9         | \n",
       "\n",
       "\n"
      ],
      "text/plain": [
       "  customer_id product_id transaction_date product_quantity product_price month\n",
       "1 19598045    29894      2009-12-21       1                 4            12   \n",
       "2 39801397    30483      2009-12-14       1                 7            12   \n",
       "3 49744497    30678      2009-10-12       1                 6            10   \n",
       "4 24637068    23630      2009-03-09       1                 5             3   \n",
       "5 24911294    14004      2010-05-30       1                17             5   \n",
       "6 42953928    23069      2010-06-06       1                 9             6   \n",
       "  year revenue\n",
       "1 2009  4     \n",
       "2 2009  7     \n",
       "3 2009  6     \n",
       "4 2009  5     \n",
       "5 2010 17     \n",
       "6 2010  9     "
      ]
     },
     "metadata": {},
     "output_type": "display_data"
    }
   ],
   "source": [
    "transactions$revenue <- transactions$product_quantity * transactions$product_price\n",
    "head(transactions)"
   ]
  },
  {
   "cell_type": "markdown",
   "metadata": {},
   "source": [
    "## Split train/test for transactions\n",
    "\n",
    "Let's start splitting our training and test data in order to run an RFM model.\n",
    "\n"
   ]
  },
  {
   "cell_type": "code",
   "execution_count": 11,
   "metadata": {
    "ExecuteTime": {
     "end_time": "2018-05-02T20:14:15.979039Z",
     "start_time": "2018-05-02T20:14:15.283Z"
    }
   },
   "outputs": [
    {
     "name": "stdout",
     "output_type": "stream",
     "text": [
      "[1] \"Start at 2009-01-05 until 2010-12-26\"\n"
     ]
    }
   ],
   "source": [
    "print(paste(\"Start at\", min(transactions$transaction_date), \"until\", max(transactions$transaction_date)))"
   ]
  },
  {
   "cell_type": "code",
   "execution_count": 12,
   "metadata": {
    "ExecuteTime": {
     "end_time": "2018-05-02T20:16:39.194769Z",
     "start_time": "2018-05-02T20:16:38.319Z"
    },
    "collapsed": true
   },
   "outputs": [],
   "source": [
    "train_txns <- transactions %>% filter(transaction_date >= '2009-01-01' & transaction_date < '2010-01-01')"
   ]
  },
  {
   "cell_type": "code",
   "execution_count": 13,
   "metadata": {
    "ExecuteTime": {
     "end_time": "2018-05-02T20:16:49.954693Z",
     "start_time": "2018-05-02T20:16:49.486Z"
    }
   },
   "outputs": [
    {
     "name": "stdout",
     "output_type": "stream",
     "text": [
      "[1] \"Train: \"\n",
      "[1] \" * rows: 6978669\"\n",
      "[1] \" * min date: 2009-01-05\"\n",
      "[1] \" * max date: 2009-12-28\"\n"
     ]
    }
   ],
   "source": [
    "print('Train: ')\n",
    "print(paste(' * rows:', dim(train_txns)[1]))\n",
    "print(paste(' * min date:', min(train_txns$transaction_date)))\n",
    "print(paste(' * max date:', max(train_txns$transaction_date)))\n"
   ]
  },
  {
   "cell_type": "code",
   "execution_count": 14,
   "metadata": {
    "ExecuteTime": {
     "end_time": "2018-05-02T20:16:56.247358Z",
     "start_time": "2018-05-02T20:16:55.711Z"
    }
   },
   "outputs": [
    {
     "data": {
      "text/html": [
       "1000000"
      ],
      "text/latex": [
       "1000000"
      ],
      "text/markdown": [
       "1000000"
      ],
      "text/plain": [
       "[1] 1000000"
      ]
     },
     "metadata": {},
     "output_type": "display_data"
    },
    {
     "data": {
      "text/html": [
       "544583"
      ],
      "text/latex": [
       "544583"
      ],
      "text/markdown": [
       "544583"
      ],
      "text/plain": [
       "[1] 544583"
      ]
     },
     "metadata": {},
     "output_type": "display_data"
    }
   ],
   "source": [
    "length(unique(customers$customer_id))\n",
    "length(unique(train_txns$customer_id))"
   ]
  },
  {
   "cell_type": "markdown",
   "metadata": {
    "ExecuteTime": {
     "end_time": "2018-04-26T17:52:23.300809Z",
     "start_time": "2018-04-26T17:52:59.845Z"
    }
   },
   "source": [
    "## Feature Extraction"
   ]
  },
  {
   "cell_type": "code",
   "execution_count": 15,
   "metadata": {
    "ExecuteTime": {
     "end_time": "2018-05-02T20:16:58.963864Z",
     "start_time": "2018-05-02T20:16:58.813Z"
    },
    "collapsed": true
   },
   "outputs": [],
   "source": [
    "extract_rfm <- function(transactions, customers){\n",
    "transactions %>% \n",
    "mutate(dtdiff=as.numeric(difftime(max(transaction_date), transaction_date, units='days'))) %>%\n",
    "group_by(customer_id) %>% \n",
    "summarise(\n",
    "    recency=360 - max(dtdiff),\n",
    "    frequency=n(),\n",
    "    monetary=sum(product_price),\n",
    ") %>%\n",
    "mutate(\n",
    "    recency=ntile(recency, 10), \n",
    "    frequency=ntile(frequency, 10),\n",
    "    monetary=ntile(monetary, 10)\n",
    ") %>%\n",
    "right_join(customers, by='customer_id') %>%\n",
    "select(customer_id, recency, frequency, monetary) %>%\n",
    "mutate_if(is.numeric , replace_na, replace = 0)}"
   ]
  },
  {
   "cell_type": "code",
   "execution_count": 16,
   "metadata": {
    "ExecuteTime": {
     "end_time": "2018-05-02T20:17:19.320437Z",
     "start_time": "2018-05-02T20:17:04.190Z"
    }
   },
   "outputs": [
    {
     "data": {
      "text/html": [
       "<table>\n",
       "<thead><tr><th scope=col>customer_id</th><th scope=col>recency</th><th scope=col>frequency</th><th scope=col>monetary</th></tr></thead>\n",
       "<tbody>\n",
       "\t<tr><td>25540437</td><td>6       </td><td> 9      </td><td>10      </td></tr>\n",
       "\t<tr><td>13979277</td><td>6       </td><td> 8      </td><td> 7      </td></tr>\n",
       "\t<tr><td>25381493</td><td>1       </td><td>10      </td><td>10      </td></tr>\n",
       "\t<tr><td>41970813</td><td>3       </td><td> 8      </td><td>10      </td></tr>\n",
       "\t<tr><td>24930117</td><td>1       </td><td>10      </td><td>10      </td></tr>\n",
       "\t<tr><td>39871125</td><td>9       </td><td> 2      </td><td> 1      </td></tr>\n",
       "</tbody>\n",
       "</table>\n"
      ],
      "text/latex": [
       "\\begin{tabular}{r|llll}\n",
       " customer\\_id & recency & frequency & monetary\\\\\n",
       "\\hline\n",
       "\t 25540437 & 6        &  9       & 10      \\\\\n",
       "\t 13979277 & 6        &  8       &  7      \\\\\n",
       "\t 25381493 & 1        & 10       & 10      \\\\\n",
       "\t 41970813 & 3        &  8       & 10      \\\\\n",
       "\t 24930117 & 1        & 10       & 10      \\\\\n",
       "\t 39871125 & 9        &  2       &  1      \\\\\n",
       "\\end{tabular}\n"
      ],
      "text/markdown": [
       "\n",
       "customer_id | recency | frequency | monetary | \n",
       "|---|---|---|---|---|---|\n",
       "| 25540437 | 6        |  9       | 10       | \n",
       "| 13979277 | 6        |  8       |  7       | \n",
       "| 25381493 | 1        | 10       | 10       | \n",
       "| 41970813 | 3        |  8       | 10       | \n",
       "| 24930117 | 1        | 10       | 10       | \n",
       "| 39871125 | 9        |  2       |  1       | \n",
       "\n",
       "\n"
      ],
      "text/plain": [
       "  customer_id recency frequency monetary\n",
       "1 25540437    6        9        10      \n",
       "2 13979277    6        8         7      \n",
       "3 25381493    1       10        10      \n",
       "4 41970813    3        8        10      \n",
       "5 24930117    1       10        10      \n",
       "6 39871125    9        2         1      "
      ]
     },
     "metadata": {},
     "output_type": "display_data"
    }
   ],
   "source": [
    "features = extract_rfm(train_txns, customers)\n",
    "head(features)"
   ]
  },
  {
   "cell_type": "markdown",
   "metadata": {},
   "source": [
    "### -------------------------------------------- The code down below are written by me ---------------------------------------"
   ]
  },
  {
   "cell_type": "markdown",
   "metadata": {},
   "source": [
    "# Part 1 :  Customer Segmentation (2 ways)"
   ]
  },
  {
   "cell_type": "markdown",
   "metadata": {},
   "source": [
    "### ---------------- Segmentation based on RFM, using K-Means ------------------"
   ]
  },
  {
   "cell_type": "markdown",
   "metadata": {},
   "source": [
    "#### Try: Divide the 100 sample individuals into 3 benefit segments"
   ]
  },
  {
   "cell_type": "code",
   "execution_count": 17,
   "metadata": {
    "ExecuteTime": {
     "end_time": "2018-05-02T20:17:46.721588Z",
     "start_time": "2018-05-02T20:17:43.539Z"
    },
    "scrolled": true
   },
   "outputs": [
    {
     "data": {
      "text/plain": [
       "\n",
       "     1      2      3 \n",
       "255812 268059 476129 "
      ]
     },
     "metadata": {},
     "output_type": "display_data"
    },
    {
     "data": {
      "text/html": [
       "<table>\n",
       "<thead><tr><th scope=col>cluster</th><th scope=col>recency</th><th scope=col>frequency</th><th scope=col>monetary</th></tr></thead>\n",
       "<tbody>\n",
       "\t<tr><td>1         </td><td>7.67506216</td><td>3.2853893 </td><td>3.34134442</td></tr>\n",
       "\t<tr><td>2         </td><td>3.68182751</td><td>7.8603703 </td><td>7.81685375</td></tr>\n",
       "\t<tr><td>3         </td><td>0.09426437</td><td>0.1002186 </td><td>0.09465502</td></tr>\n",
       "</tbody>\n",
       "</table>\n"
      ],
      "text/latex": [
       "\\begin{tabular}{r|llll}\n",
       " cluster & recency & frequency & monetary\\\\\n",
       "\\hline\n",
       "\t 1          & 7.67506216 & 3.2853893  & 3.34134442\\\\\n",
       "\t 2          & 3.68182751 & 7.8603703  & 7.81685375\\\\\n",
       "\t 3          & 0.09426437 & 0.1002186  & 0.09465502\\\\\n",
       "\\end{tabular}\n"
      ],
      "text/markdown": [
       "\n",
       "cluster | recency | frequency | monetary | \n",
       "|---|---|---|\n",
       "| 1          | 7.67506216 | 3.2853893  | 3.34134442 | \n",
       "| 2          | 3.68182751 | 7.8603703  | 7.81685375 | \n",
       "| 3          | 0.09426437 | 0.1002186  | 0.09465502 | \n",
       "\n",
       "\n"
      ],
      "text/plain": [
       "  cluster recency    frequency monetary  \n",
       "1 1       7.67506216 3.2853893 3.34134442\n",
       "2 2       3.68182751 7.8603703 7.81685375\n",
       "3 3       0.09426437 0.1002186 0.09465502"
      ]
     },
     "metadata": {},
     "output_type": "display_data"
    },
    {
     "data": {
      "text/html": [
       "<table>\n",
       "<thead><tr><th scope=col>cluster</th><th scope=col>recency</th><th scope=col>frequency</th><th scope=col>monetary</th></tr></thead>\n",
       "<tbody>\n",
       "\t<tr><td>1</td><td>8</td><td>3</td><td>3</td></tr>\n",
       "\t<tr><td>2</td><td>3</td><td>8</td><td>8</td></tr>\n",
       "\t<tr><td>3</td><td>0</td><td>0</td><td>0</td></tr>\n",
       "</tbody>\n",
       "</table>\n"
      ],
      "text/latex": [
       "\\begin{tabular}{r|llll}\n",
       " cluster & recency & frequency & monetary\\\\\n",
       "\\hline\n",
       "\t 1 & 8 & 3 & 3\\\\\n",
       "\t 2 & 3 & 8 & 8\\\\\n",
       "\t 3 & 0 & 0 & 0\\\\\n",
       "\\end{tabular}\n"
      ],
      "text/markdown": [
       "\n",
       "cluster | recency | frequency | monetary | \n",
       "|---|---|---|\n",
       "| 1 | 8 | 3 | 3 | \n",
       "| 2 | 3 | 8 | 8 | \n",
       "| 3 | 0 | 0 | 0 | \n",
       "\n",
       "\n"
      ],
      "text/plain": [
       "  cluster recency frequency monetary\n",
       "1 1       8       3         3       \n",
       "2 2       3       8         8       \n",
       "3 3       0       0         0       "
      ]
     },
     "metadata": {},
     "output_type": "display_data"
    }
   ],
   "source": [
    "library(dplyr)\n",
    "df1 <-  features[,c(2:4)]\n",
    "\n",
    "#Divide the 100 sample individuals into 3 benefit segments.\n",
    "result1 = kmeans(df1, 3, iter.max = 10, nstart = 1, algorithm = c(\"Hartigan-Wong\", \"Lloyd\", \"Forgy\",\"MacQueen\"), trace=FALSE) \n",
    "category_3 = result1$cluster\n",
    "temp = cbind(df1[,c(1:3)], cluster =category_3)\n",
    "mean_category3 = aggregate(.~cluster, temp ,mean ) \n",
    "median_category3 = aggregate(.~cluster, temp ,median )\n",
    "num_in_clusters3 = table(result1$cluster)\n",
    "\n",
    "num_in_clusters3\n",
    "mean_category3\n",
    "median_category3"
   ]
  },
  {
   "cell_type": "markdown",
   "metadata": {},
   "source": [
    "#### Try: Divide the 100 sample individuals into 4 benefit segments"
   ]
  },
  {
   "cell_type": "code",
   "execution_count": 31,
   "metadata": {
    "ExecuteTime": {
     "end_time": "2018-05-02T18:29:21.563559Z",
     "start_time": "2018-05-02T18:29:04.632Z"
    }
   },
   "outputs": [
    {
     "data": {
      "text/plain": [
       "\n",
       "     1      2      3      4 \n",
       "182971 165545 178176 473308 "
      ]
     },
     "metadata": {},
     "output_type": "display_data"
    },
    {
     "data": {
      "text/html": [
       "<table>\n",
       "<thead><tr><th scope=col>cluster</th><th scope=col>recency</th><th scope=col>frequency</th><th scope=col>monetary</th></tr></thead>\n",
       "<tbody>\n",
       "\t<tr><td>1         </td><td>3.02277410</td><td>8.57871466</td><td>8.52678293</td></tr>\n",
       "\t<tr><td>2         </td><td>8.22971398</td><td>2.40790117</td><td>2.47745930</td></tr>\n",
       "\t<tr><td>3         </td><td>5.83141950</td><td>5.55691563</td><td>5.55728605</td></tr>\n",
       "\t<tr><td>4         </td><td>0.08602221</td><td>0.07779501</td><td>0.07340252</td></tr>\n",
       "</tbody>\n",
       "</table>\n"
      ],
      "text/latex": [
       "\\begin{tabular}{r|llll}\n",
       " cluster & recency & frequency & monetary\\\\\n",
       "\\hline\n",
       "\t 1          & 3.02277410 & 8.57871466 & 8.52678293\\\\\n",
       "\t 2          & 8.22971398 & 2.40790117 & 2.47745930\\\\\n",
       "\t 3          & 5.83141950 & 5.55691563 & 5.55728605\\\\\n",
       "\t 4          & 0.08602221 & 0.07779501 & 0.07340252\\\\\n",
       "\\end{tabular}\n"
      ],
      "text/markdown": [
       "\n",
       "cluster | recency | frequency | monetary | \n",
       "|---|---|---|---|\n",
       "| 1          | 3.02277410 | 8.57871466 | 8.52678293 | \n",
       "| 2          | 8.22971398 | 2.40790117 | 2.47745930 | \n",
       "| 3          | 5.83141950 | 5.55691563 | 5.55728605 | \n",
       "| 4          | 0.08602221 | 0.07779501 | 0.07340252 | \n",
       "\n",
       "\n"
      ],
      "text/plain": [
       "  cluster recency    frequency  monetary  \n",
       "1 1       3.02277410 8.57871466 8.52678293\n",
       "2 2       8.22971398 2.40790117 2.47745930\n",
       "3 3       5.83141950 5.55691563 5.55728605\n",
       "4 4       0.08602221 0.07779501 0.07340252"
      ]
     },
     "metadata": {},
     "output_type": "display_data"
    },
    {
     "data": {
      "text/html": [
       "<table>\n",
       "<thead><tr><th scope=col>cluster</th><th scope=col>recency</th><th scope=col>frequency</th><th scope=col>monetary</th></tr></thead>\n",
       "<tbody>\n",
       "\t<tr><td>1</td><td>3</td><td>9</td><td>9</td></tr>\n",
       "\t<tr><td>2</td><td>9</td><td>2</td><td>2</td></tr>\n",
       "\t<tr><td>3</td><td>6</td><td>6</td><td>6</td></tr>\n",
       "\t<tr><td>4</td><td>0</td><td>0</td><td>0</td></tr>\n",
       "</tbody>\n",
       "</table>\n"
      ],
      "text/latex": [
       "\\begin{tabular}{r|llll}\n",
       " cluster & recency & frequency & monetary\\\\\n",
       "\\hline\n",
       "\t 1 & 3 & 9 & 9\\\\\n",
       "\t 2 & 9 & 2 & 2\\\\\n",
       "\t 3 & 6 & 6 & 6\\\\\n",
       "\t 4 & 0 & 0 & 0\\\\\n",
       "\\end{tabular}\n"
      ],
      "text/markdown": [
       "\n",
       "cluster | recency | frequency | monetary | \n",
       "|---|---|---|---|\n",
       "| 1 | 3 | 9 | 9 | \n",
       "| 2 | 9 | 2 | 2 | \n",
       "| 3 | 6 | 6 | 6 | \n",
       "| 4 | 0 | 0 | 0 | \n",
       "\n",
       "\n"
      ],
      "text/plain": [
       "  cluster recency frequency monetary\n",
       "1 1       3       9         9       \n",
       "2 2       9       2         2       \n",
       "3 3       6       6         6       \n",
       "4 4       0       0         0       "
      ]
     },
     "metadata": {},
     "output_type": "display_data"
    }
   ],
   "source": [
    "#Divide the 100 sample individuals into 4 benefit segments.\n",
    "result1 = kmeans(df1, 4, iter.max = 10, nstart = 1, algorithm = c(\"Hartigan-Wong\", \"Lloyd\", \"Forgy\",\"MacQueen\"), trace=FALSE) \n",
    "category_4 = result1$cluster\n",
    "temp = cbind(df1[,c(1:3)], cluster =category_4)\n",
    "mean_category4 = aggregate(.~cluster, temp ,mean ) \n",
    "median_category4 = aggregate(.~cluster, temp ,median )\n",
    "num_in_clusters4 = table(result1$cluster)\n",
    "\n",
    "num_in_clusters4\n",
    "mean_category4\n",
    "median_category4"
   ]
  },
  {
   "cell_type": "markdown",
   "metadata": {
    "ExecuteTime": {
     "end_time": "2018-05-04T03:08:47.896580Z",
     "start_time": "2018-05-04T03:08:47.586Z"
    }
   },
   "source": [
    "#### Try: Divide the 100 sample individuals into 5 benefit segments"
   ]
  },
  {
   "cell_type": "code",
   "execution_count": 32,
   "metadata": {
    "ExecuteTime": {
     "end_time": "2018-05-02T18:29:46.001255Z",
     "start_time": "2018-05-02T18:29:31.567Z"
    }
   },
   "outputs": [
    {
     "data": {
      "text/plain": [
       "\n",
       "     1      2      3      4      5 \n",
       "150687 106021 168211 109016 466065 "
      ]
     },
     "metadata": {},
     "output_type": "display_data"
    },
    {
     "data": {
      "text/html": [
       "<table>\n",
       "<thead><tr><th scope=col>cluster</th><th scope=col>recency</th><th scope=col>frequency</th><th scope=col>monetary</th></tr></thead>\n",
       "<tbody>\n",
       "\t<tr><td>1         </td><td>2.79178695</td><td>8.83626988</td><td>8.78799100</td></tr>\n",
       "\t<tr><td>2         </td><td>7.33938559</td><td>6.63326134</td><td>6.79587063</td></tr>\n",
       "\t<tr><td>3         </td><td>8.27856680</td><td>2.49462282</td><td>2.55246090</td></tr>\n",
       "\t<tr><td>4         </td><td>3.46682138</td><td>4.80967931</td><td>4.63948411</td></tr>\n",
       "\t<tr><td>5         </td><td>0.05557594</td><td>0.03534056</td><td>0.03289455</td></tr>\n",
       "</tbody>\n",
       "</table>\n"
      ],
      "text/latex": [
       "\\begin{tabular}{r|llll}\n",
       " cluster & recency & frequency & monetary\\\\\n",
       "\\hline\n",
       "\t 1          & 2.79178695 & 8.83626988 & 8.78799100\\\\\n",
       "\t 2          & 7.33938559 & 6.63326134 & 6.79587063\\\\\n",
       "\t 3          & 8.27856680 & 2.49462282 & 2.55246090\\\\\n",
       "\t 4          & 3.46682138 & 4.80967931 & 4.63948411\\\\\n",
       "\t 5          & 0.05557594 & 0.03534056 & 0.03289455\\\\\n",
       "\\end{tabular}\n"
      ],
      "text/markdown": [
       "\n",
       "cluster | recency | frequency | monetary | \n",
       "|---|---|---|---|---|\n",
       "| 1          | 2.79178695 | 8.83626988 | 8.78799100 | \n",
       "| 2          | 7.33938559 | 6.63326134 | 6.79587063 | \n",
       "| 3          | 8.27856680 | 2.49462282 | 2.55246090 | \n",
       "| 4          | 3.46682138 | 4.80967931 | 4.63948411 | \n",
       "| 5          | 0.05557594 | 0.03534056 | 0.03289455 | \n",
       "\n",
       "\n"
      ],
      "text/plain": [
       "  cluster recency    frequency  monetary  \n",
       "1 1       2.79178695 8.83626988 8.78799100\n",
       "2 2       7.33938559 6.63326134 6.79587063\n",
       "3 3       8.27856680 2.49462282 2.55246090\n",
       "4 4       3.46682138 4.80967931 4.63948411\n",
       "5 5       0.05557594 0.03534056 0.03289455"
      ]
     },
     "metadata": {},
     "output_type": "display_data"
    },
    {
     "data": {
      "text/html": [
       "<table>\n",
       "<thead><tr><th scope=col>cluster</th><th scope=col>recency</th><th scope=col>frequency</th><th scope=col>monetary</th></tr></thead>\n",
       "<tbody>\n",
       "\t<tr><td>1</td><td>3</td><td>9</td><td>9</td></tr>\n",
       "\t<tr><td>2</td><td>7</td><td>7</td><td>7</td></tr>\n",
       "\t<tr><td>3</td><td>8</td><td>2</td><td>2</td></tr>\n",
       "\t<tr><td>4</td><td>4</td><td>5</td><td>5</td></tr>\n",
       "\t<tr><td>5</td><td>0</td><td>0</td><td>0</td></tr>\n",
       "</tbody>\n",
       "</table>\n"
      ],
      "text/latex": [
       "\\begin{tabular}{r|llll}\n",
       " cluster & recency & frequency & monetary\\\\\n",
       "\\hline\n",
       "\t 1 & 3 & 9 & 9\\\\\n",
       "\t 2 & 7 & 7 & 7\\\\\n",
       "\t 3 & 8 & 2 & 2\\\\\n",
       "\t 4 & 4 & 5 & 5\\\\\n",
       "\t 5 & 0 & 0 & 0\\\\\n",
       "\\end{tabular}\n"
      ],
      "text/markdown": [
       "\n",
       "cluster | recency | frequency | monetary | \n",
       "|---|---|---|---|---|\n",
       "| 1 | 3 | 9 | 9 | \n",
       "| 2 | 7 | 7 | 7 | \n",
       "| 3 | 8 | 2 | 2 | \n",
       "| 4 | 4 | 5 | 5 | \n",
       "| 5 | 0 | 0 | 0 | \n",
       "\n",
       "\n"
      ],
      "text/plain": [
       "  cluster recency frequency monetary\n",
       "1 1       3       9         9       \n",
       "2 2       7       7         7       \n",
       "3 3       8       2         2       \n",
       "4 4       4       5         5       \n",
       "5 5       0       0         0       "
      ]
     },
     "metadata": {},
     "output_type": "display_data"
    }
   ],
   "source": [
    "#Divide the 100 sample individuals into 5 benefit segments.\n",
    "result1 = kmeans(df1, 5, iter.max = 10, nstart = 1, algorithm = c(\"Hartigan-Wong\", \"Lloyd\", \"Forgy\",\"MacQueen\"), trace=FALSE) \n",
    "category_5 <- result1$cluster\n",
    "temp = cbind(df1[,c(1:3)], cluster =category_5)\n",
    "mean_category5 = aggregate(.~cluster, temp ,mean ) \n",
    "median_category5 = aggregate(.~cluster, temp ,median )\n",
    "num_in_clusters5 = table(result1$cluster)\n",
    "\n",
    "num_in_clusters5\n",
    "mean_category5\n",
    "median_category5"
   ]
  },
  {
   "cell_type": "markdown",
   "metadata": {},
   "source": [
    "#### Try: Divide the 100 sample individuals into 6 benefit segments"
   ]
  },
  {
   "cell_type": "code",
   "execution_count": 34,
   "metadata": {
    "ExecuteTime": {
     "end_time": "2018-05-02T18:30:17.098512Z",
     "start_time": "2018-05-02T18:30:00.414Z"
    }
   },
   "outputs": [
    {
     "data": {
      "text/plain": [
       "\n",
       "     1      2      3      4      5      6 \n",
       " 99080 140886  91253 464609  80426 123746 "
      ]
     },
     "metadata": {},
     "output_type": "display_data"
    },
    {
     "data": {
      "text/html": [
       "<table>\n",
       "<thead><tr><th scope=col>cluster</th><th scope=col>recency</th><th scope=col>frequency</th><th scope=col>monetary</th></tr></thead>\n",
       "<tbody>\n",
       "\t<tr><td>1         </td><td>3.21188938</td><td>4.83325595</td><td>4.66254542</td></tr>\n",
       "\t<tr><td>2         </td><td>8.19454736</td><td>2.14329316</td><td>2.18194853</td></tr>\n",
       "\t<tr><td>3         </td><td>7.92098890</td><td>5.06084184</td><td>5.21692438</td></tr>\n",
       "\t<tr><td>4         </td><td>0.04321483</td><td>0.03054612</td><td>0.02850139</td></tr>\n",
       "\t<tr><td>5         </td><td>6.12748365</td><td>7.88583294</td><td>7.97893716</td></tr>\n",
       "\t<tr><td>6         </td><td>2.31740824</td><td>8.92253487</td><td>8.84727587</td></tr>\n",
       "</tbody>\n",
       "</table>\n"
      ],
      "text/latex": [
       "\\begin{tabular}{r|llll}\n",
       " cluster & recency & frequency & monetary\\\\\n",
       "\\hline\n",
       "\t 1          & 3.21188938 & 4.83325595 & 4.66254542\\\\\n",
       "\t 2          & 8.19454736 & 2.14329316 & 2.18194853\\\\\n",
       "\t 3          & 7.92098890 & 5.06084184 & 5.21692438\\\\\n",
       "\t 4          & 0.04321483 & 0.03054612 & 0.02850139\\\\\n",
       "\t 5          & 6.12748365 & 7.88583294 & 7.97893716\\\\\n",
       "\t 6          & 2.31740824 & 8.92253487 & 8.84727587\\\\\n",
       "\\end{tabular}\n"
      ],
      "text/markdown": [
       "\n",
       "cluster | recency | frequency | monetary | \n",
       "|---|---|---|---|---|---|\n",
       "| 1          | 3.21188938 | 4.83325595 | 4.66254542 | \n",
       "| 2          | 8.19454736 | 2.14329316 | 2.18194853 | \n",
       "| 3          | 7.92098890 | 5.06084184 | 5.21692438 | \n",
       "| 4          | 0.04321483 | 0.03054612 | 0.02850139 | \n",
       "| 5          | 6.12748365 | 7.88583294 | 7.97893716 | \n",
       "| 6          | 2.31740824 | 8.92253487 | 8.84727587 | \n",
       "\n",
       "\n"
      ],
      "text/plain": [
       "  cluster recency    frequency  monetary  \n",
       "1 1       3.21188938 4.83325595 4.66254542\n",
       "2 2       8.19454736 2.14329316 2.18194853\n",
       "3 3       7.92098890 5.06084184 5.21692438\n",
       "4 4       0.04321483 0.03054612 0.02850139\n",
       "5 5       6.12748365 7.88583294 7.97893716\n",
       "6 6       2.31740824 8.92253487 8.84727587"
      ]
     },
     "metadata": {},
     "output_type": "display_data"
    },
    {
     "data": {
      "text/html": [
       "<table>\n",
       "<thead><tr><th scope=col>cluster</th><th scope=col>recency</th><th scope=col>frequency</th><th scope=col>monetary</th></tr></thead>\n",
       "<tbody>\n",
       "\t<tr><td>1</td><td>3</td><td>5</td><td>5</td></tr>\n",
       "\t<tr><td>2</td><td>8</td><td>2</td><td>2</td></tr>\n",
       "\t<tr><td>3</td><td>8</td><td>5</td><td>5</td></tr>\n",
       "\t<tr><td>4</td><td>0</td><td>0</td><td>0</td></tr>\n",
       "\t<tr><td>5</td><td>6</td><td>8</td><td>8</td></tr>\n",
       "\t<tr><td>6</td><td>2</td><td>9</td><td>9</td></tr>\n",
       "</tbody>\n",
       "</table>\n"
      ],
      "text/latex": [
       "\\begin{tabular}{r|llll}\n",
       " cluster & recency & frequency & monetary\\\\\n",
       "\\hline\n",
       "\t 1 & 3 & 5 & 5\\\\\n",
       "\t 2 & 8 & 2 & 2\\\\\n",
       "\t 3 & 8 & 5 & 5\\\\\n",
       "\t 4 & 0 & 0 & 0\\\\\n",
       "\t 5 & 6 & 8 & 8\\\\\n",
       "\t 6 & 2 & 9 & 9\\\\\n",
       "\\end{tabular}\n"
      ],
      "text/markdown": [
       "\n",
       "cluster | recency | frequency | monetary | \n",
       "|---|---|---|---|---|---|\n",
       "| 1 | 3 | 5 | 5 | \n",
       "| 2 | 8 | 2 | 2 | \n",
       "| 3 | 8 | 5 | 5 | \n",
       "| 4 | 0 | 0 | 0 | \n",
       "| 5 | 6 | 8 | 8 | \n",
       "| 6 | 2 | 9 | 9 | \n",
       "\n",
       "\n"
      ],
      "text/plain": [
       "  cluster recency frequency monetary\n",
       "1 1       3       5         5       \n",
       "2 2       8       2         2       \n",
       "3 3       8       5         5       \n",
       "4 4       0       0         0       \n",
       "5 5       6       8         8       \n",
       "6 6       2       9         9       "
      ]
     },
     "metadata": {},
     "output_type": "display_data"
    }
   ],
   "source": [
    "#Divide the 100 sample individuals into 6 benefit segments.\n",
    "result1 = kmeans(df1, 6, iter.max = 10, nstart = 1, algorithm = c(\"Hartigan-Wong\", \"Lloyd\", \"Forgy\",\"MacQueen\"), trace=FALSE) \n",
    "category_6 <- result1$cluster\n",
    "temp = cbind(df1[,c(1:3)], cluster =category_6)\n",
    "mean_category6 = aggregate(.~cluster, temp ,mean ) #0,0,0 bought for the first time and never come back??\n",
    "median_category6 = aggregate(.~cluster, temp ,median )\n",
    "num_in_clusters6 = table(result1$cluster)\n",
    "\n",
    "num_in_clusters6\n",
    "mean_category6\n",
    "median_category6"
   ]
  },
  {
   "cell_type": "code",
   "execution_count": 35,
   "metadata": {
    "ExecuteTime": {
     "end_time": "2018-05-02T18:30:56.798367Z",
     "start_time": "2018-05-02T18:30:56.513Z"
    }
   },
   "outputs": [
    {
     "data": {
      "text/html": [
       "<table>\n",
       "<thead><tr><th scope=col>customer_id</th><th scope=col>recency</th><th scope=col>frequency</th><th scope=col>monetary</th></tr></thead>\n",
       "<tbody>\n",
       "\t<tr><td>25540437</td><td>6       </td><td> 9      </td><td>10      </td></tr>\n",
       "\t<tr><td>13979277</td><td>6       </td><td> 8      </td><td> 7      </td></tr>\n",
       "\t<tr><td>25381493</td><td>1       </td><td>10      </td><td>10      </td></tr>\n",
       "\t<tr><td>41970813</td><td>3       </td><td> 8      </td><td>10      </td></tr>\n",
       "\t<tr><td>24930117</td><td>1       </td><td>10      </td><td>10      </td></tr>\n",
       "\t<tr><td>39871125</td><td>9       </td><td> 2      </td><td> 1      </td></tr>\n",
       "</tbody>\n",
       "</table>\n"
      ],
      "text/latex": [
       "\\begin{tabular}{r|llll}\n",
       " customer\\_id & recency & frequency & monetary\\\\\n",
       "\\hline\n",
       "\t 25540437 & 6        &  9       & 10      \\\\\n",
       "\t 13979277 & 6        &  8       &  7      \\\\\n",
       "\t 25381493 & 1        & 10       & 10      \\\\\n",
       "\t 41970813 & 3        &  8       & 10      \\\\\n",
       "\t 24930117 & 1        & 10       & 10      \\\\\n",
       "\t 39871125 & 9        &  2       &  1      \\\\\n",
       "\\end{tabular}\n"
      ],
      "text/markdown": [
       "\n",
       "customer_id | recency | frequency | monetary | \n",
       "|---|---|---|---|---|---|\n",
       "| 25540437 | 6        |  9       | 10       | \n",
       "| 13979277 | 6        |  8       |  7       | \n",
       "| 25381493 | 1        | 10       | 10       | \n",
       "| 41970813 | 3        |  8       | 10       | \n",
       "| 24930117 | 1        | 10       | 10       | \n",
       "| 39871125 | 9        |  2       |  1       | \n",
       "\n",
       "\n"
      ],
      "text/plain": [
       "  customer_id recency frequency monetary\n",
       "1 25540437    6        9        10      \n",
       "2 13979277    6        8         7      \n",
       "3 25381493    1       10        10      \n",
       "4 41970813    3        8        10      \n",
       "5 24930117    1       10        10      \n",
       "6 39871125    9        2         1      "
      ]
     },
     "metadata": {},
     "output_type": "display_data"
    }
   ],
   "source": [
    "head(features)"
   ]
  },
  {
   "cell_type": "markdown",
   "metadata": {},
   "source": [
    "### After deviding to 3,4,5,6 segments according to RFM, we decided to have 4 segmentation, which will capture most features of each segment\n",
    "\n",
    "#### cluster1: customers with nearly no value\n",
    "#### cluster2: customers with high value: low recency, high frequency and monetary value\n",
    "#### cluster3: customers with low value: high recency, low frequency and monetary value\n",
    "#### cluster4: customers with medium value: medium recency,  frequency and monetary value"
   ]
  },
  {
   "cell_type": "code",
   "execution_count": 18,
   "metadata": {
    "ExecuteTime": {
     "end_time": "2018-05-02T20:18:24.044873Z",
     "start_time": "2018-05-02T20:18:20.543Z"
    }
   },
   "outputs": [
    {
     "data": {
      "text/plain": [
       "\n",
       "     1      2      3      4 \n",
       "471852 161684 176119 190345 "
      ]
     },
     "metadata": {},
     "output_type": "display_data"
    },
    {
     "data": {
      "text/html": [
       "<table>\n",
       "<thead><tr><th scope=col>cluster</th><th scope=col>customer_id</th><th scope=col>recency</th><th scope=col>frequency</th><th scope=col>monetary</th></tr></thead>\n",
       "<tbody>\n",
       "\t<tr><td>1         </td><td>25684468  </td><td>0.0739448 </td><td>0.07320516</td><td>0.06920178</td></tr>\n",
       "\t<tr><td>2         </td><td>34784044  </td><td>2.8592563 </td><td>8.76488088</td><td>8.71462235</td></tr>\n",
       "\t<tr><td>3         </td><td>26740107  </td><td>8.1178521 </td><td>2.48467230</td><td>2.54447845</td></tr>\n",
       "\t<tr><td>4         </td><td>30324307  </td><td>5.6124773 </td><td>5.81008695</td><td>5.80736557</td></tr>\n",
       "</tbody>\n",
       "</table>\n"
      ],
      "text/latex": [
       "\\begin{tabular}{r|lllll}\n",
       " cluster & customer\\_id & recency & frequency & monetary\\\\\n",
       "\\hline\n",
       "\t 1          & 25684468   & 0.0739448  & 0.07320516 & 0.06920178\\\\\n",
       "\t 2          & 34784044   & 2.8592563  & 8.76488088 & 8.71462235\\\\\n",
       "\t 3          & 26740107   & 8.1178521  & 2.48467230 & 2.54447845\\\\\n",
       "\t 4          & 30324307   & 5.6124773  & 5.81008695 & 5.80736557\\\\\n",
       "\\end{tabular}\n"
      ],
      "text/markdown": [
       "\n",
       "cluster | customer_id | recency | frequency | monetary | \n",
       "|---|---|---|---|\n",
       "| 1          | 25684468   | 0.0739448  | 0.07320516 | 0.06920178 | \n",
       "| 2          | 34784044   | 2.8592563  | 8.76488088 | 8.71462235 | \n",
       "| 3          | 26740107   | 8.1178521  | 2.48467230 | 2.54447845 | \n",
       "| 4          | 30324307   | 5.6124773  | 5.81008695 | 5.80736557 | \n",
       "\n",
       "\n"
      ],
      "text/plain": [
       "  cluster customer_id recency   frequency  monetary  \n",
       "1 1       25684468    0.0739448 0.07320516 0.06920178\n",
       "2 2       34784044    2.8592563 8.76488088 8.71462235\n",
       "3 3       26740107    8.1178521 2.48467230 2.54447845\n",
       "4 4       30324307    5.6124773 5.81008695 5.80736557"
      ]
     },
     "metadata": {},
     "output_type": "display_data"
    },
    {
     "data": {
      "text/html": [
       "<table>\n",
       "<thead><tr><th scope=col>cluster</th><th scope=col>customer_id</th><th scope=col>recency</th><th scope=col>frequency</th><th scope=col>monetary</th></tr></thead>\n",
       "<tbody>\n",
       "\t<tr><td>1       </td><td>26947078</td><td>0       </td><td>0       </td><td>0       </td></tr>\n",
       "\t<tr><td>2       </td><td>39863496</td><td>3       </td><td>9       </td><td>9       </td></tr>\n",
       "\t<tr><td>3       </td><td>24780660</td><td>8       </td><td>2       </td><td>2       </td></tr>\n",
       "\t<tr><td>4       </td><td>32365392</td><td>6       </td><td>6       </td><td>6       </td></tr>\n",
       "</tbody>\n",
       "</table>\n"
      ],
      "text/latex": [
       "\\begin{tabular}{r|lllll}\n",
       " cluster & customer\\_id & recency & frequency & monetary\\\\\n",
       "\\hline\n",
       "\t 1        & 26947078 & 0        & 0        & 0       \\\\\n",
       "\t 2        & 39863496 & 3        & 9        & 9       \\\\\n",
       "\t 3        & 24780660 & 8        & 2        & 2       \\\\\n",
       "\t 4        & 32365392 & 6        & 6        & 6       \\\\\n",
       "\\end{tabular}\n"
      ],
      "text/markdown": [
       "\n",
       "cluster | customer_id | recency | frequency | monetary | \n",
       "|---|---|---|---|\n",
       "| 1        | 26947078 | 0        | 0        | 0        | \n",
       "| 2        | 39863496 | 3        | 9        | 9        | \n",
       "| 3        | 24780660 | 8        | 2        | 2        | \n",
       "| 4        | 32365392 | 6        | 6        | 6        | \n",
       "\n",
       "\n"
      ],
      "text/plain": [
       "  cluster customer_id recency frequency monetary\n",
       "1 1       26947078    0       0         0       \n",
       "2 2       39863496    3       9         9       \n",
       "3 3       24780660    8       2         2       \n",
       "4 4       32365392    6       6         6       "
      ]
     },
     "metadata": {},
     "output_type": "display_data"
    }
   ],
   "source": [
    "# after deviding to 3,4,5,6 segments according to RFM, we decided to have 4 segmentation, which will capture most features of each segment\n",
    "df1 <-  features[,c(2:4)]\n",
    "result1 = kmeans(df1, 4, iter.max = 10, nstart = 1, algorithm = c(\"Hartigan-Wong\", \"Lloyd\", \"Forgy\",\"MacQueen\"), trace=FALSE) \n",
    "category_4 = result1$cluster\n",
    "temp = cbind(features, cluster =category_4)\n",
    "mean_category4 = aggregate(.~cluster, temp ,mean ) \n",
    "median_category4 = aggregate(.~cluster, temp ,median )\n",
    "num_in_clusters4 = table(result1$cluster)\n",
    "\n",
    "num_in_clusters4\n",
    "mean_category4\n",
    "median_category4"
   ]
  },
  {
   "cell_type": "code",
   "execution_count": 19,
   "metadata": {
    "ExecuteTime": {
     "end_time": "2018-05-02T20:18:30.690586Z",
     "start_time": "2018-05-02T20:18:30.406Z"
    },
    "scrolled": true
   },
   "outputs": [
    {
     "data": {
      "text/html": [
       "<table>\n",
       "<thead><tr><th scope=col>customer_id</th><th scope=col>recency</th><th scope=col>frequency</th><th scope=col>monetary</th><th scope=col>cluster</th></tr></thead>\n",
       "<tbody>\n",
       "\t<tr><td>25540437</td><td>6       </td><td> 9      </td><td>10      </td><td>2       </td></tr>\n",
       "\t<tr><td>13979277</td><td>6       </td><td> 8      </td><td> 7      </td><td>4       </td></tr>\n",
       "\t<tr><td>25381493</td><td>1       </td><td>10      </td><td>10      </td><td>2       </td></tr>\n",
       "\t<tr><td>41970813</td><td>3       </td><td> 8      </td><td>10      </td><td>2       </td></tr>\n",
       "\t<tr><td>24930117</td><td>1       </td><td>10      </td><td>10      </td><td>2       </td></tr>\n",
       "\t<tr><td>39871125</td><td>9       </td><td> 2      </td><td> 1      </td><td>3       </td></tr>\n",
       "</tbody>\n",
       "</table>\n"
      ],
      "text/latex": [
       "\\begin{tabular}{r|lllll}\n",
       " customer\\_id & recency & frequency & monetary & cluster\\\\\n",
       "\\hline\n",
       "\t 25540437 & 6        &  9       & 10       & 2       \\\\\n",
       "\t 13979277 & 6        &  8       &  7       & 4       \\\\\n",
       "\t 25381493 & 1        & 10       & 10       & 2       \\\\\n",
       "\t 41970813 & 3        &  8       & 10       & 2       \\\\\n",
       "\t 24930117 & 1        & 10       & 10       & 2       \\\\\n",
       "\t 39871125 & 9        &  2       &  1       & 3       \\\\\n",
       "\\end{tabular}\n"
      ],
      "text/markdown": [
       "\n",
       "customer_id | recency | frequency | monetary | cluster | \n",
       "|---|---|---|---|---|---|\n",
       "| 25540437 | 6        |  9       | 10       | 2        | \n",
       "| 13979277 | 6        |  8       |  7       | 4        | \n",
       "| 25381493 | 1        | 10       | 10       | 2        | \n",
       "| 41970813 | 3        |  8       | 10       | 2        | \n",
       "| 24930117 | 1        | 10       | 10       | 2        | \n",
       "| 39871125 | 9        |  2       |  1       | 3        | \n",
       "\n",
       "\n"
      ],
      "text/plain": [
       "  customer_id recency frequency monetary cluster\n",
       "1 25540437    6        9        10       2      \n",
       "2 13979277    6        8         7       4      \n",
       "3 25381493    1       10        10       2      \n",
       "4 41970813    3        8        10       2      \n",
       "5 24930117    1       10        10       2      \n",
       "6 39871125    9        2         1       3      "
      ]
     },
     "metadata": {},
     "output_type": "display_data"
    }
   ],
   "source": [
    "custmoer_4cluster <- temp\n",
    "head(custmoer_4cluster)\n",
    "#customer_id with 4 segementation: cluster1, 2, 3, 4\n",
    "#          recency  frequency  monetary\n",
    "#cluster1:    0         0         0     (471852)\n",
    "#cluster2:    3         9         9     (161684)\n",
    "#cluster3:    8         2         2     (176119)\n",
    "#cluster4:    6         6         6     (190345)"
   ]
  },
  {
   "cell_type": "code",
   "execution_count": 20,
   "metadata": {
    "ExecuteTime": {
     "end_time": "2018-05-02T14:21:12.339839Z",
     "start_time": "2018-05-02T14:21:05.032Z"
    },
    "collapsed": true
   },
   "outputs": [],
   "source": [
    "write.csv(custmoer_4cluster, \"customerSeg.csv\")"
   ]
  },
  {
   "cell_type": "markdown",
   "metadata": {},
   "source": [
    "### ---------------- Segmentation based on RFM, using CLV Scale ------------------"
   ]
  },
  {
   "cell_type": "code",
   "execution_count": 355,
   "metadata": {
    "ExecuteTime": {
     "end_time": "2018-05-04T03:33:15.288033Z",
     "start_time": "2018-05-04T03:33:11.321Z"
    },
    "scrolled": true
   },
   "outputs": [
    {
     "name": "stderr",
     "output_type": "stream",
     "text": [
      "\n",
      "Attaching package: ‘dplyr’\n",
      "\n",
      "The following objects are masked from ‘package:plyr’:\n",
      "\n",
      "    arrange, count, desc, failwith, id, mutate, rename, summarise,\n",
      "    summarize\n",
      "\n",
      "The following objects are masked from ‘package:stats’:\n",
      "\n",
      "    filter, lag\n",
      "\n",
      "The following objects are masked from ‘package:base’:\n",
      "\n",
      "    intersect, setdiff, setequal, union\n",
      "\n",
      "\n",
      "Attaching package: ‘lubridate’\n",
      "\n",
      "The following object is masked from ‘package:plyr’:\n",
      "\n",
      "    here\n",
      "\n",
      "The following object is masked from ‘package:base’:\n",
      "\n",
      "    date\n",
      "\n",
      "\n",
      "Attaching package: ‘tidyr’\n",
      "\n",
      "The following object is masked from ‘package:Matrix’:\n",
      "\n",
      "    expand\n",
      "\n"
     ]
    }
   ],
   "source": [
    "library(dplyr)\n",
    "library(lubridate)\n",
    "library(tidyr)"
   ]
  },
  {
   "cell_type": "code",
   "execution_count": null,
   "metadata": {
    "collapsed": true
   },
   "outputs": [],
   "source": [
    "# Train/History period will be [2009-01, 2009-12], to cover all possible combination of R, F, M\n",
    "# Test/predict period will be [2010-01, 20010-2], as period 1, see how many purchased again, as 1st period's retention,\n",
    "# Predict period 2 will be [2010-03, 20010-4], as period 2, see how many purchased again, as 2ed period's retention,\n",
    "#same for period 3, 4, 5, 6 \n",
    "\n",
    "train_txns <- transactions %>% filter(transaction_date >= '2009-01-01' & transaction_date < '2010-01-01')\n",
    "features_predict1 <- transactions %>% filter(transaction_date >= '20010-01-01' & transaction_date < '2010-03-01')\n",
    "features_predict2 <- transactions %>% filter(transaction_date >= '20010-03-01' & transaction_date < '2010-05-01')\n",
    "features_predict3 <- transactions %>% filter(transaction_date >= '20010-05-01' & transaction_date < '2010-07-01')\n",
    "features_predict4 <- transactions %>% filter(transaction_date >= '20010-07-01' & transaction_date < '2010-09-01')\n",
    "features_predict5 <- transactions %>% filter(transaction_date >= '20010-09-01' & transaction_date < '2010-11-01')\n",
    "features_predict6 <- transactions %>% filter(transaction_date >= '20010-11-01' & transaction_date < '2010-12-31')"
   ]
  },
  {
   "cell_type": "code",
   "execution_count": null,
   "metadata": {
    "collapsed": true
   },
   "outputs": [],
   "source": [
    "install.packages('plyr', lib='UserLibrary')\n",
    "require(plyr)"
   ]
  },
  {
   "cell_type": "code",
   "execution_count": null,
   "metadata": {
    "collapsed": true
   },
   "outputs": [],
   "source": [
    "Buy <- rep(0, nrow(features))\n",
    "features <- cbind(features, Buy)"
   ]
  },
  {
   "cell_type": "code",
   "execution_count": null,
   "metadata": {
    "collapsed": true
   },
   "outputs": [],
   "source": [
    "features_predict1 <- cbind(features_predict1, Buy)\n",
    "features_old <- features[which(!(features$recency == 0 & features$frequency == 0 & features$monetary == 0)),]\n",
    "features_new <- features[which(features$recency == 0 & features$frequency == 0 & features$monetary == 0),]"
   ]
  },
  {
   "cell_type": "code",
   "execution_count": null,
   "metadata": {
    "collapsed": true
   },
   "outputs": [],
   "source": [
    "features_predict1_old <- features_predict1[which(!(features_predict1$recency == 0 & features_predict1$frequency == 0 & features_predict1$monetary == 0)),]\n",
    "features_predict1_new <- features_predict1[which(features_predict1$recency == 0 & features_predict1$frequency == 0 & features_predict1$monetary == 0),]"
   ]
  },
  {
   "cell_type": "markdown",
   "metadata": {},
   "source": [
    "#### if the customer repurchased in the next period, assigh 1 to 'Buy'"
   ]
  },
  {
   "cell_type": "code",
   "execution_count": null,
   "metadata": {
    "collapsed": true
   },
   "outputs": [],
   "source": [
    "eatures_old[features_old$customer_id %in% features_predict1_old$customer_id, ]$Buy <- 1"
   ]
  },
  {
   "cell_type": "markdown",
   "metadata": {},
   "source": [
    "#### Calculate the Number customer who repurchased"
   ]
  },
  {
   "cell_type": "code",
   "execution_count": null,
   "metadata": {
    "collapsed": true
   },
   "outputs": [],
   "source": [
    "Var <- c(\"recency\",\"frequency\",\"monetary\",\"Buy\")\n",
    "b <- features_old[ ,names(features) %in% Var, drop = F]\n",
    "a <- ddply(b, Var, summarize, Number = length(Buy))"
   ]
  },
  {
   "cell_type": "markdown",
   "metadata": {},
   "source": [
    "#### Calculate the customers' retention rate"
   ]
  },
  {
   "cell_type": "code",
   "execution_count": null,
   "metadata": {
    "collapsed": true
   },
   "outputs": [],
   "source": [
    "numerator <- ave(a$Number,a[,names(a) %in% Var,drop=F],FUN=sum)\n",
    "Var2 <- c(\"recency\",\"frequency\",\"monetary\")\n",
    "denominator <- ave(a$Number,a[,names(a) %in% Var2,drop=F],FUN=sum)\n",
    "retention1 <- numerator/denominator#Retention rate in period 1\n",
    "a <- cbind(a, retention1)\n",
    "a_buy <- a[a$Buy == 1,]\n",
    "a_notbuy <- a[a$Buy != 1,]"
   ]
  },
  {
   "cell_type": "code",
   "execution_count": null,
   "metadata": {
    "collapsed": true
   },
   "outputs": [],
   "source": [
    "features_predict2_old <- features_predict2[which(!(features_predict2$recency == 0 & features_predict2$frequency == 0 & features_predict2$monetary == 0)),]\n",
    "features_predict3_old <- features_predict3[which(!(features_predict3$recency == 0 & features_predict3$frequency == 0 & features_predict3$monetary == 0)),]\n",
    "features_predict4_old <- features_predict4[which(!(features_predict4$recency == 0 & features_predict4$frequency == 0 & features_predict4$monetary == 0)),]\n",
    "features_predict5_old <- features_predict5[which(!(features_predict5$recency == 0 & features_predict5$frequency == 0 & features_predict5$monetary == 0)),]\n",
    "features_predict6_old <- features_predict6[which(!(features_predict6$recency == 0 & features_predict6$frequency == 0 & features_predict6$monetary == 0)),]"
   ]
  },
  {
   "cell_type": "code",
   "execution_count": null,
   "metadata": {
    "collapsed": true
   },
   "outputs": [],
   "source": [
    "features_old$Buy <- 0\n",
    "features_old[features_old$customer_id %in% features_predict2_old$customer_id, ]$Buy <- 1\n",
    "Var <- c(\"recency\",\"frequency\",\"monetary\",\"Buy\")\n",
    "b <- features_old[ ,names(features) %in% Var, drop = F]\n",
    "a2 <- ddply(b, Var, summarize, Number = length(Buy))\n",
    "\n",
    "numerator <- ave(a2$Number,a2[,names(a2) %in% Var,drop=F],FUN=sum)\n",
    "\n",
    "Var2 <- c(\"recency\",\"frequency\",\"monetary\")\n",
    "denominator <- ave(a2$Number,a2[,names(a2) %in% Var2,drop=F],FUN=sum)\n",
    "\n",
    "retention2 <- numerator/denominator#Retention rate in period 1\n",
    "a2 <- cbind(a2, retention2)\n",
    "\n",
    "a_buy2 <- a2[a2$Buy == 1,]"
   ]
  },
  {
   "cell_type": "code",
   "execution_count": null,
   "metadata": {
    "collapsed": true
   },
   "outputs": [],
   "source": [
    "temp <- merge(a_buy[ , c(\"recency\",\"frequency\",\"monetary\",\"retention1\")], a_buy2[ , c(\"recency\",\"frequency\",\"monetary\",\"retention2\")], by = c(\"recency\",\"frequency\",\"monetary\"), all.x=TRUE)\n",
    "temp"
   ]
  },
  {
   "cell_type": "code",
   "execution_count": null,
   "metadata": {
    "collapsed": true
   },
   "outputs": [],
   "source": [
    "features_old$Buy <- 0\n",
    "features_old[features_old$customer_id %in% features_predict3_old$customer_id, ]$Buy <- 1\n",
    "Var <- c(\"recency\",\"frequency\",\"monetary\",\"Buy\")\n",
    "b <- features_old[ ,names(features) %in% Var, drop = F]\n",
    "a2 <- ddply(b, Var, summarize, Number = length(Buy))\n",
    "numerator <- ave(a2$Number,a2[,names(a2) %in% Var,drop=F],FUN=sum)\n",
    "Var2 <- c(\"recency\",\"frequency\",\"monetary\")\n",
    "denominator <- ave(a2$Number,a2[,names(a2) %in% Var2,drop=F],FUN=sum)\n",
    "retention3 <- numerator/denominator#Retention rate in period 1\n",
    "a2 <- cbind(a2, retention3)\n",
    "a_buy3 <- a2[a2$Buy == 1,]\n",
    "\n",
    "temp <- merge(temp, a_buy3[ , c(\"recency\",\"frequency\",\"monetary\",\"retention3\")], by = c(\"recency\",\"frequency\",\"monetary\"), all.x=TRUE)\n",
    "temp"
   ]
  },
  {
   "cell_type": "code",
   "execution_count": null,
   "metadata": {
    "collapsed": true
   },
   "outputs": [],
   "source": [
    "features_old$Buy <- 0\n",
    "features_old[features_old$customer_id %in% features_predict4_old$customer_id, ]$Buy <- 1\n",
    "Var <- c(\"recency\",\"frequency\",\"monetary\",\"Buy\")\n",
    "b <- features_old[ ,names(features) %in% Var, drop = F]\n",
    "a2 <- ddply(b, Var, summarize, Number = length(Buy))\n",
    "numerator <- ave(a2$Number,a2[,names(a2) %in% Var,drop=F],FUN=sum)\n",
    "Var2 <- c(\"recency\",\"frequency\",\"monetary\")\n",
    "denominator <- ave(a2$Number,a2[,names(a2) %in% Var2,drop=F],FUN=sum)\n",
    "retention4 <- numerator/denominator#Retention rate in period 1\n",
    "a2 <- cbind(a2, retention4)\n",
    "a_buy4 <- a2[a2$Buy == 1,]\n",
    "temp <- merge(temp, a_buy4[ , c(\"recency\",\"frequency\",\"monetary\",\"retention4\")], by = c(\"recency\",\"frequency\",\"monetary\"), all.x=TRUE)\n",
    "\n",
    "features_old$Buy <- 0\n",
    "features_old[features_old$customer_id %in% features_predict5_old$customer_id, ]$Buy <- 1\n",
    "Var <- c(\"recency\",\"frequency\",\"monetary\",\"Buy\")\n",
    "b <- features_old[ ,names(features) %in% Var, drop = F]\n",
    "a2 <- ddply(b, Var, summarize, Number = length(Buy))\n",
    "numerator <- ave(a2$Number,a2[,names(a2) %in% Var,drop=F],FUN=sum)\n",
    "Var2 <- c(\"recency\",\"frequency\",\"monetary\")\n",
    "denominator <- ave(a2$Number,a2[,names(a2) %in% Var2,drop=F],FUN=sum)\n",
    "retention5 <- numerator/denominator#Retention rate in period 1\n",
    "a2 <- cbind(a2, retention5)\n",
    "a_buy5 <- a2[a2$Buy == 1,]\n",
    "temp <- merge(temp, a_buy5[ , c(\"recency\",\"frequency\",\"monetary\",\"retention5\")], by = c(\"recency\",\"frequency\",\"monetary\"), all.x=TRUE)\n",
    "\n",
    "features_old$Buy <- 0\n",
    "features_old[features_old$customer_id %in% features_predict6_old$customer_id, ]$Buy <- 1\n",
    "Var <- c(\"recency\",\"frequency\",\"monetary\",\"Buy\")\n",
    "b <- features_old[ ,names(features) %in% Var, drop = F]\n",
    "a2 <- ddply(b, Var, summarize, Number = length(Buy))\n",
    "numerator <- ave(a2$Number,a2[,names(a2) %in% Var,drop=F],FUN=sum)\n",
    "Var2 <- c(\"recency\",\"frequency\",\"monetary\")\n",
    "denominator <- ave(a2$Number,a2[,names(a2) %in% Var2,drop=F],FUN=sum)\n",
    "retention6 <- numerator/denominator#Retention rate in period 1\n",
    "a2 <- cbind(a2, retention6)\n",
    "a_buy6 <- a2[a2$Buy == 1,]\n",
    "temp <- merge(temp, a_buy6[ , c(\"recency\",\"frequency\",\"monetary\",\"retention6\")], by = c(\"recency\",\"frequency\",\"monetary\"), all.x=TRUE)\n",
    "temp"
   ]
  },
  {
   "cell_type": "code",
   "execution_count": null,
   "metadata": {
    "collapsed": true
   },
   "outputs": [],
   "source": [
    "temp[is.na(temp)] <- 0\n",
    "temp"
   ]
  },
  {
   "cell_type": "code",
   "execution_count": null,
   "metadata": {
    "collapsed": true
   },
   "outputs": [],
   "source": [
    "#Calculate CLV(actually next year's value): \n",
    "#assume cost of any kind(variable/acquisition...)=0; dr(discount rate) = 0; rev(Revenue) = monetary; i(periode) = 1,2,3,4,5,6\n",
    "#According to CLV = ∑ buyers*(rev-cost) / (1+dr)^i:\n",
    "#thus:  CLV = monetary * (retention1 + retention2 + retention3 + retention4 + retention5 + retention6)\n",
    "\n",
    "temp$CLV = temp$monetary * rowSums(temp[,c(4:9)], na.rm=TRUE)\n",
    "temp"
   ]
  },
  {
   "cell_type": "code",
   "execution_count": null,
   "metadata": {
    "collapsed": true
   },
   "outputs": [],
   "source": [
    "# In order to get all the customers with non-zero RFM value (beacuse first each period has zero RFM value)\n",
    "nrow(overall)\n",
    "nrow(overall[which(!(overall$recency == 0 & overall$frequency == 0 & overall$monetary == 0)),])\n",
    "nrow(overall[which(overall$recency == 0 & overall$frequency == 0 & overall$monetary == 0),])"
   ]
  },
  {
   "cell_type": "code",
   "execution_count": null,
   "metadata": {
    "collapsed": true
   },
   "outputs": [],
   "source": [
    "overall_CLV <- overall[which(!(overall$recency == 0 & overall$frequency == 0 & overall$monetary == 0)),]\n",
    "overall_CLV_0 <- overall[which(overall$recency == 0 & overall$frequency == 0 & overall$monetary == 0),]"
   ]
  },
  {
   "cell_type": "code",
   "execution_count": null,
   "metadata": {
    "collapsed": true
   },
   "outputs": [],
   "source": []
  },
  {
   "cell_type": "markdown",
   "metadata": {},
   "source": [
    "### Method: divide next year into 6 periods, by calculating the retension rate in each period, adding up every period value to conclude the \"CLV\" based on fist year\n",
    "\n",
    "### Formula: Customers Retention Rate(Revenue-Cost) / (1+Discount Date)^i"
   ]
  },
  {
   "cell_type": "code",
   "execution_count": 356,
   "metadata": {
    "ExecuteTime": {
     "end_time": "2018-05-04T03:33:18.903480Z",
     "start_time": "2018-05-04T03:33:18.771Z"
    }
   },
   "outputs": [
    {
     "ename": "ERROR",
     "evalue": "Error in eval(expr, envir, enclos): object 'transactions' not found\n",
     "output_type": "error",
     "traceback": [
      "Error in eval(expr, envir, enclos): object 'transactions' not found\nTraceback:\n",
      "1. transactions %>% filter(transaction_date >= \"2009-01-01\" & transaction_date < \n .     \"2010-01-01\")",
      "2. eval(lhs, parent, parent)",
      "3. eval(expr, envir, enclos)"
     ]
    }
   ],
   "source": [
    "# Train/History period will be [2009-01, 2009-12], to cover all possible combination of R, F, M\n",
    "# Test/predict period will be [2010-01, 20010-2], as period 1, see how many purchased again, as 1st period's retention,\n",
    "# Predict period 2 will be [2010-03, 20010-4], as period 2, see how many purchased again, as 2ed period's retention,\n",
    "#same for period 3, 4, 5, 6 \n",
    "\n",
    "train_txns <- transactions %>% filter(transaction_date >= '2009-01-01' & transaction_date < '2010-01-01')\n",
    "test_txns <- transactions %>% filter(transaction_date >= '2010-01-01' & transaction_date < '2010-03-01')\n",
    "test_txns2 <- transactions %>% filter(transaction_date >= '2010-03-01' & transaction_date < '2010-05-01')\n",
    "test_txns3 <- transactions %>% filter(transaction_date >= '2010-05-01' & transaction_date < '2010-07-01')\n",
    "test_txns4 <- transactions %>% filter(transaction_date >= '2010-07-01' & transaction_date < '2010-09-01')\n",
    "test_txns5 <- transactions %>% filter(transaction_date >= '2010-09-01' & transaction_date < '2010-11-01')\n",
    "test_txns6 <- transactions %>% filter(transaction_date >= '2010-11-01' & transaction_date <= '2010-12-31')"
   ]
  },
  {
   "cell_type": "code",
   "execution_count": null,
   "metadata": {
    "collapsed": true
   },
   "outputs": [],
   "source": [
    "features = extract_rfm(train_txns, customers)\n",
    "# checking \n",
    "features_predict1 = extract_rfm(test_txns, customers)\n",
    "features_predict2 = extract_rfm(test_txns2, customers)\n",
    "features_predict3 = extract_rfm(test_txns3, customers)\n",
    "features_predict4 = extract_rfm(test_txns4, customers)\n",
    "features_predict5 = extract_rfm(test_txns5, customers)\n",
    "features_predict6 = extract_rfm(test_txns6, customers)"
   ]
  },
  {
   "cell_type": "code",
   "execution_count": null,
   "metadata": {
    "collapsed": true
   },
   "outputs": [],
   "source": [
    "overall_txns <- transactions %>% filter(transaction_date >= '2009-01-01' & transaction_date < '2010-12-31')\n",
    "overall = extract_rfm(overall_txns, customers)"
   ]
  },
  {
   "cell_type": "code",
   "execution_count": null,
   "metadata": {
    "collapsed": true
   },
   "outputs": [],
   "source": []
  },
  {
   "cell_type": "code",
   "execution_count": null,
   "metadata": {
    "collapsed": true
   },
   "outputs": [],
   "source": []
  },
  {
   "cell_type": "code",
   "execution_count": null,
   "metadata": {
    "collapsed": true
   },
   "outputs": [],
   "source": []
  },
  {
   "cell_type": "code",
   "execution_count": null,
   "metadata": {
    "collapsed": true
   },
   "outputs": [],
   "source": []
  },
  {
   "cell_type": "code",
   "execution_count": null,
   "metadata": {
    "collapsed": true
   },
   "outputs": [],
   "source": []
  },
  {
   "cell_type": "markdown",
   "metadata": {},
   "source": [
    "# Part 2 : Product significance checking"
   ]
  },
  {
   "cell_type": "markdown",
   "metadata": {},
   "source": [
    "### data preparing"
   ]
  },
  {
   "cell_type": "code",
   "execution_count": 281,
   "metadata": {
    "ExecuteTime": {
     "end_time": "2018-05-04T00:52:31.662541Z",
     "start_time": "2018-05-04T00:52:31.412Z"
    }
   },
   "outputs": [
    {
     "data": {
      "text/html": [
       "<table>\n",
       "<thead><tr><th scope=col>X</th><th scope=col>customer_id</th><th scope=col>recency</th><th scope=col>frequency</th><th scope=col>monetary</th><th scope=col>cluster</th></tr></thead>\n",
       "<tbody>\n",
       "\t<tr><td>1       </td><td>25540437</td><td>6       </td><td> 9      </td><td>10      </td><td>4       </td></tr>\n",
       "\t<tr><td>2       </td><td>13979277</td><td>6       </td><td> 8      </td><td> 7      </td><td>1       </td></tr>\n",
       "\t<tr><td>3       </td><td>25381493</td><td>1       </td><td>10      </td><td>10      </td><td>4       </td></tr>\n",
       "\t<tr><td>4       </td><td>41970813</td><td>3       </td><td> 8      </td><td>10      </td><td>4       </td></tr>\n",
       "\t<tr><td>5       </td><td>24930117</td><td>1       </td><td>10      </td><td>10      </td><td>4       </td></tr>\n",
       "\t<tr><td>6       </td><td>39871125</td><td>9       </td><td> 2      </td><td> 1      </td><td>2       </td></tr>\n",
       "</tbody>\n",
       "</table>\n"
      ],
      "text/latex": [
       "\\begin{tabular}{r|llllll}\n",
       " X & customer\\_id & recency & frequency & monetary & cluster\\\\\n",
       "\\hline\n",
       "\t 1        & 25540437 & 6        &  9       & 10       & 4       \\\\\n",
       "\t 2        & 13979277 & 6        &  8       &  7       & 1       \\\\\n",
       "\t 3        & 25381493 & 1        & 10       & 10       & 4       \\\\\n",
       "\t 4        & 41970813 & 3        &  8       & 10       & 4       \\\\\n",
       "\t 5        & 24930117 & 1        & 10       & 10       & 4       \\\\\n",
       "\t 6        & 39871125 & 9        &  2       &  1       & 2       \\\\\n",
       "\\end{tabular}\n"
      ],
      "text/markdown": [
       "\n",
       "X | customer_id | recency | frequency | monetary | cluster | \n",
       "|---|---|---|---|---|---|\n",
       "| 1        | 25540437 | 6        |  9       | 10       | 4        | \n",
       "| 2        | 13979277 | 6        |  8       |  7       | 1        | \n",
       "| 3        | 25381493 | 1        | 10       | 10       | 4        | \n",
       "| 4        | 41970813 | 3        |  8       | 10       | 4        | \n",
       "| 5        | 24930117 | 1        | 10       | 10       | 4        | \n",
       "| 6        | 39871125 | 9        |  2       |  1       | 2        | \n",
       "\n",
       "\n"
      ],
      "text/plain": [
       "  X customer_id recency frequency monetary cluster\n",
       "1 1 25540437    6        9        10       4      \n",
       "2 2 13979277    6        8         7       1      \n",
       "3 3 25381493    1       10        10       4      \n",
       "4 4 41970813    3        8        10       4      \n",
       "5 5 24930117    1       10        10       4      \n",
       "6 6 39871125    9        2         1       2      "
      ]
     },
     "metadata": {},
     "output_type": "display_data"
    }
   ],
   "source": [
    "customerSeg <- read.csv(file=\"customerSeg.csv\", header=TRUE, sep=\",\")\n",
    "head(customerSeg)"
   ]
  },
  {
   "cell_type": "code",
   "execution_count": 20,
   "metadata": {
    "ExecuteTime": {
     "end_time": "2018-05-02T20:21:01.220881Z",
     "start_time": "2018-05-02T20:21:01.096Z"
    },
    "collapsed": true
   },
   "outputs": [],
   "source": [
    "custmoer_cluster <- custmoer_4cluster[ , c(\"customer_id\",\"cluster\")]"
   ]
  },
  {
   "cell_type": "code",
   "execution_count": 26,
   "metadata": {
    "ExecuteTime": {
     "end_time": "2018-05-02T20:25:24.249379Z",
     "start_time": "2018-05-02T20:25:23.936Z"
    }
   },
   "outputs": [
    {
     "data": {
      "text/html": [
       "<table>\n",
       "<thead><tr><th scope=col>customer_id</th><th scope=col>product_id</th><th scope=col>product_quantity</th><th scope=col>product_price</th><th scope=col>month</th><th scope=col>year</th><th scope=col>revenue</th></tr></thead>\n",
       "<tbody>\n",
       "\t<tr><td>19598045</td><td>29894   </td><td>1       </td><td> 4      </td><td>12      </td><td>2009    </td><td> 4      </td></tr>\n",
       "\t<tr><td>39801397</td><td>30483   </td><td>1       </td><td> 7      </td><td>12      </td><td>2009    </td><td> 7      </td></tr>\n",
       "\t<tr><td>49744497</td><td>30678   </td><td>1       </td><td> 6      </td><td>10      </td><td>2009    </td><td> 6      </td></tr>\n",
       "\t<tr><td>24637068</td><td>23630   </td><td>1       </td><td> 5      </td><td> 3      </td><td>2009    </td><td> 5      </td></tr>\n",
       "\t<tr><td>24911294</td><td>14004   </td><td>1       </td><td>17      </td><td> 5      </td><td>2010    </td><td>17      </td></tr>\n",
       "\t<tr><td>42953928</td><td>23069   </td><td>1       </td><td> 9      </td><td> 6      </td><td>2010    </td><td> 9      </td></tr>\n",
       "</tbody>\n",
       "</table>\n"
      ],
      "text/latex": [
       "\\begin{tabular}{r|lllllll}\n",
       " customer\\_id & product\\_id & product\\_quantity & product\\_price & month & year & revenue\\\\\n",
       "\\hline\n",
       "\t 19598045 & 29894    & 1        &  4       & 12       & 2009     &  4      \\\\\n",
       "\t 39801397 & 30483    & 1        &  7       & 12       & 2009     &  7      \\\\\n",
       "\t 49744497 & 30678    & 1        &  6       & 10       & 2009     &  6      \\\\\n",
       "\t 24637068 & 23630    & 1        &  5       &  3       & 2009     &  5      \\\\\n",
       "\t 24911294 & 14004    & 1        & 17       &  5       & 2010     & 17      \\\\\n",
       "\t 42953928 & 23069    & 1        &  9       &  6       & 2010     &  9      \\\\\n",
       "\\end{tabular}\n"
      ],
      "text/markdown": [
       "\n",
       "customer_id | product_id | product_quantity | product_price | month | year | revenue | \n",
       "|---|---|---|---|---|---|\n",
       "| 19598045 | 29894    | 1        |  4       | 12       | 2009     |  4       | \n",
       "| 39801397 | 30483    | 1        |  7       | 12       | 2009     |  7       | \n",
       "| 49744497 | 30678    | 1        |  6       | 10       | 2009     |  6       | \n",
       "| 24637068 | 23630    | 1        |  5       |  3       | 2009     |  5       | \n",
       "| 24911294 | 14004    | 1        | 17       |  5       | 2010     | 17       | \n",
       "| 42953928 | 23069    | 1        |  9       |  6       | 2010     |  9       | \n",
       "\n",
       "\n"
      ],
      "text/plain": [
       "  customer_id product_id product_quantity product_price month year revenue\n",
       "1 19598045    29894      1                 4            12    2009  4     \n",
       "2 39801397    30483      1                 7            12    2009  7     \n",
       "3 49744497    30678      1                 6            10    2009  6     \n",
       "4 24637068    23630      1                 5             3    2009  5     \n",
       "5 24911294    14004      1                17             5    2010 17     \n",
       "6 42953928    23069      1                 9             6    2010  9     "
      ]
     },
     "metadata": {},
     "output_type": "display_data"
    }
   ],
   "source": [
    "temp <- transactions[ , c(\"customer_id\",\"product_id\",\"product_quantity\",\"product_price\",\"month\",\"year\",\"revenue\")]"
   ]
  },
  {
   "cell_type": "code",
   "execution_count": 27,
   "metadata": {
    "ExecuteTime": {
     "end_time": "2018-05-02T20:28:21.541028Z",
     "start_time": "2018-05-02T20:26:20.681Z"
    }
   },
   "outputs": [
    {
     "data": {
      "text/html": [
       "<table>\n",
       "<thead><tr><th scope=col>customer_id</th><th scope=col>cluster</th><th scope=col>product_id</th><th scope=col>product_quantity</th><th scope=col>product_price</th><th scope=col>month</th><th scope=col>year</th><th scope=col>revenue</th></tr></thead>\n",
       "<tbody>\n",
       "\t<tr><td>15855</td><td>4    </td><td>30332</td><td>1    </td><td> 9   </td><td>6    </td><td>2010 </td><td> 9   </td></tr>\n",
       "\t<tr><td>15855</td><td>4    </td><td>27029</td><td>1    </td><td>25   </td><td>5    </td><td>2009 </td><td>25   </td></tr>\n",
       "\t<tr><td>15855</td><td>4    </td><td>23022</td><td>1    </td><td>21   </td><td>5    </td><td>2009 </td><td>21   </td></tr>\n",
       "\t<tr><td>15855</td><td>4    </td><td>20882</td><td>1    </td><td>19   </td><td>5    </td><td>2009 </td><td>19   </td></tr>\n",
       "\t<tr><td>15855</td><td>4    </td><td>25876</td><td>1    </td><td>29   </td><td>5    </td><td>2009 </td><td>29   </td></tr>\n",
       "\t<tr><td>15855</td><td>4    </td><td>  405</td><td>1    </td><td>35   </td><td>5    </td><td>2009 </td><td>35   </td></tr>\n",
       "</tbody>\n",
       "</table>\n"
      ],
      "text/latex": [
       "\\begin{tabular}{r|llllllll}\n",
       " customer\\_id & cluster & product\\_id & product\\_quantity & product\\_price & month & year & revenue\\\\\n",
       "\\hline\n",
       "\t 15855 & 4     & 30332 & 1     &  9    & 6     & 2010  &  9   \\\\\n",
       "\t 15855 & 4     & 27029 & 1     & 25    & 5     & 2009  & 25   \\\\\n",
       "\t 15855 & 4     & 23022 & 1     & 21    & 5     & 2009  & 21   \\\\\n",
       "\t 15855 & 4     & 20882 & 1     & 19    & 5     & 2009  & 19   \\\\\n",
       "\t 15855 & 4     & 25876 & 1     & 29    & 5     & 2009  & 29   \\\\\n",
       "\t 15855 & 4     &   405 & 1     & 35    & 5     & 2009  & 35   \\\\\n",
       "\\end{tabular}\n"
      ],
      "text/markdown": [
       "\n",
       "customer_id | cluster | product_id | product_quantity | product_price | month | year | revenue | \n",
       "|---|---|---|---|---|---|\n",
       "| 15855 | 4     | 30332 | 1     |  9    | 6     | 2010  |  9    | \n",
       "| 15855 | 4     | 27029 | 1     | 25    | 5     | 2009  | 25    | \n",
       "| 15855 | 4     | 23022 | 1     | 21    | 5     | 2009  | 21    | \n",
       "| 15855 | 4     | 20882 | 1     | 19    | 5     | 2009  | 19    | \n",
       "| 15855 | 4     | 25876 | 1     | 29    | 5     | 2009  | 29    | \n",
       "| 15855 | 4     |   405 | 1     | 35    | 5     | 2009  | 35    | \n",
       "\n",
       "\n"
      ],
      "text/plain": [
       "  customer_id cluster product_id product_quantity product_price month year\n",
       "1 15855       4       30332      1                 9            6     2010\n",
       "2 15855       4       27029      1                25            5     2009\n",
       "3 15855       4       23022      1                21            5     2009\n",
       "4 15855       4       20882      1                19            5     2009\n",
       "5 15855       4       25876      1                29            5     2009\n",
       "6 15855       4         405      1                35            5     2009\n",
       "  revenue\n",
       "1  9     \n",
       "2 25     \n",
       "3 21     \n",
       "4 19     \n",
       "5 29     \n",
       "6 35     "
      ]
     },
     "metadata": {},
     "output_type": "display_data"
    }
   ],
   "source": [
    "overall_table <- merge(custmoer_cluster, temp, by = c(\"customer_id\"), all.x=TRUE)\n",
    "head(overall_table)"
   ]
  },
  {
   "cell_type": "code",
   "execution_count": 28,
   "metadata": {
    "ExecuteTime": {
     "end_time": "2018-05-02T20:32:39.597078Z",
     "start_time": "2018-05-02T20:30:03.786Z"
    },
    "collapsed": true
   },
   "outputs": [],
   "source": [
    "write.csv(overall_table, \"overall_table(transaction+cluster).csv\")"
   ]
  },
  {
   "cell_type": "code",
   "execution_count": 30,
   "metadata": {
    "ExecuteTime": {
     "end_time": "2018-05-02T20:49:25.610144Z",
     "start_time": "2018-05-02T20:48:10.983Z"
    }
   },
   "outputs": [
    {
     "data": {
      "text/html": [
       "<table>\n",
       "<thead><tr><th scope=col>product_id</th><th scope=col>customer_id</th><th scope=col>cluster</th><th scope=col>product_quantity</th><th scope=col>product_price</th><th scope=col>month</th><th scope=col>year</th><th scope=col>revenue</th><th scope=col>price</th><th scope=col>brand_id</th><th scope=col>division</th><th scope=col>category</th><th scope=col>subcategory</th><th scope=col>fineline</th></tr></thead>\n",
       "<tbody>\n",
       "\t<tr><td>1                               </td><td>38348191                        </td><td>2                               </td><td>1                               </td><td> 26                             </td><td> 5                              </td><td>2009                            </td><td> 26                             </td><td>100                             </td><td>6                               </td><td>7                               </td><td>10                              </td><td>31                              </td><td>78652f7f0f810e26d037cd7500073518</td></tr>\n",
       "\t<tr><td>1                               </td><td>38348191                        </td><td>2                               </td><td>1                               </td><td>100                             </td><td>11                              </td><td>2009                            </td><td>100                             </td><td>100                             </td><td>6                               </td><td>7                               </td><td>10                              </td><td>31                              </td><td>78652f7f0f810e26d037cd7500073518</td></tr>\n",
       "\t<tr><td>1                               </td><td>38348191                        </td><td>2                               </td><td>1                               </td><td>100                             </td><td> 7                              </td><td>2009                            </td><td>100                             </td><td>100                             </td><td>6                               </td><td>7                               </td><td>10                              </td><td>31                              </td><td>78652f7f0f810e26d037cd7500073518</td></tr>\n",
       "\t<tr><td>2                               </td><td>42674422                        </td><td>4                               </td><td>1                               </td><td> 35                             </td><td> 2                              </td><td>2010                            </td><td> 35                             </td><td> 35                             </td><td>1                               </td><td>1                               </td><td> 1                              </td><td>15                              </td><td>8f04a641de9e906d943249f74dadb195</td></tr>\n",
       "\t<tr><td>2                               </td><td>38403273                        </td><td>4                               </td><td>1                               </td><td> 35                             </td><td>11                              </td><td>2010                            </td><td> 35                             </td><td> 35                             </td><td>1                               </td><td>1                               </td><td> 1                              </td><td>15                              </td><td>8f04a641de9e906d943249f74dadb195</td></tr>\n",
       "\t<tr><td>2                               </td><td> 1367118                        </td><td>1                               </td><td>1                               </td><td> 35                             </td><td>12                              </td><td>2010                            </td><td> 35                             </td><td> 35                             </td><td>1                               </td><td>1                               </td><td> 1                              </td><td>15                              </td><td>8f04a641de9e906d943249f74dadb195</td></tr>\n",
       "</tbody>\n",
       "</table>\n"
      ],
      "text/latex": [
       "\\begin{tabular}{r|llllllllllllll}\n",
       " product\\_id & customer\\_id & cluster & product\\_quantity & product\\_price & month & year & revenue & price & brand\\_id & division & category & subcategory & fineline\\\\\n",
       "\\hline\n",
       "\t 1                                & 38348191                         & 2                                & 1                                &  26                              &  5                               & 2009                             &  26                              & 100                              & 6                                & 7                                & 10                               & 31                               & 78652f7f0f810e26d037cd7500073518\\\\\n",
       "\t 1                                & 38348191                         & 2                                & 1                                & 100                              & 11                               & 2009                             & 100                              & 100                              & 6                                & 7                                & 10                               & 31                               & 78652f7f0f810e26d037cd7500073518\\\\\n",
       "\t 1                                & 38348191                         & 2                                & 1                                & 100                              &  7                               & 2009                             & 100                              & 100                              & 6                                & 7                                & 10                               & 31                               & 78652f7f0f810e26d037cd7500073518\\\\\n",
       "\t 2                                & 42674422                         & 4                                & 1                                &  35                              &  2                               & 2010                             &  35                              &  35                              & 1                                & 1                                &  1                               & 15                               & 8f04a641de9e906d943249f74dadb195\\\\\n",
       "\t 2                                & 38403273                         & 4                                & 1                                &  35                              & 11                               & 2010                             &  35                              &  35                              & 1                                & 1                                &  1                               & 15                               & 8f04a641de9e906d943249f74dadb195\\\\\n",
       "\t 2                                &  1367118                         & 1                                & 1                                &  35                              & 12                               & 2010                             &  35                              &  35                              & 1                                & 1                                &  1                               & 15                               & 8f04a641de9e906d943249f74dadb195\\\\\n",
       "\\end{tabular}\n"
      ],
      "text/markdown": [
       "\n",
       "product_id | customer_id | cluster | product_quantity | product_price | month | year | revenue | price | brand_id | division | category | subcategory | fineline | \n",
       "|---|---|---|---|---|---|\n",
       "| 1                                | 38348191                         | 2                                | 1                                |  26                              |  5                               | 2009                             |  26                              | 100                              | 6                                | 7                                | 10                               | 31                               | 78652f7f0f810e26d037cd7500073518 | \n",
       "| 1                                | 38348191                         | 2                                | 1                                | 100                              | 11                               | 2009                             | 100                              | 100                              | 6                                | 7                                | 10                               | 31                               | 78652f7f0f810e26d037cd7500073518 | \n",
       "| 1                                | 38348191                         | 2                                | 1                                | 100                              |  7                               | 2009                             | 100                              | 100                              | 6                                | 7                                | 10                               | 31                               | 78652f7f0f810e26d037cd7500073518 | \n",
       "| 2                                | 42674422                         | 4                                | 1                                |  35                              |  2                               | 2010                             |  35                              |  35                              | 1                                | 1                                |  1                               | 15                               | 8f04a641de9e906d943249f74dadb195 | \n",
       "| 2                                | 38403273                         | 4                                | 1                                |  35                              | 11                               | 2010                             |  35                              |  35                              | 1                                | 1                                |  1                               | 15                               | 8f04a641de9e906d943249f74dadb195 | \n",
       "| 2                                |  1367118                         | 1                                | 1                                |  35                              | 12                               | 2010                             |  35                              |  35                              | 1                                | 1                                |  1                               | 15                               | 8f04a641de9e906d943249f74dadb195 | \n",
       "\n",
       "\n"
      ],
      "text/plain": [
       "  product_id customer_id cluster product_quantity product_price month year\n",
       "1 1          38348191    2       1                 26            5    2009\n",
       "2 1          38348191    2       1                100           11    2009\n",
       "3 1          38348191    2       1                100            7    2009\n",
       "4 2          42674422    4       1                 35            2    2010\n",
       "5 2          38403273    4       1                 35           11    2010\n",
       "6 2           1367118    1       1                 35           12    2010\n",
       "  revenue price brand_id division category subcategory\n",
       "1  26     100   6        7        10       31         \n",
       "2 100     100   6        7        10       31         \n",
       "3 100     100   6        7        10       31         \n",
       "4  35      35   1        1         1       15         \n",
       "5  35      35   1        1         1       15         \n",
       "6  35      35   1        1         1       15         \n",
       "  fineline                        \n",
       "1 78652f7f0f810e26d037cd7500073518\n",
       "2 78652f7f0f810e26d037cd7500073518\n",
       "3 78652f7f0f810e26d037cd7500073518\n",
       "4 8f04a641de9e906d943249f74dadb195\n",
       "5 8f04a641de9e906d943249f74dadb195\n",
       "6 8f04a641de9e906d943249f74dadb195"
      ]
     },
     "metadata": {},
     "output_type": "display_data"
    }
   ],
   "source": [
    "overall_product_transaction <- merge(overall_table,products,by = c(\"product_id\"), all.x=TRUE)\n",
    "head(overall_product_transaction)"
   ]
  },
  {
   "cell_type": "code",
   "execution_count": 31,
   "metadata": {
    "ExecuteTime": {
     "end_time": "2018-05-02T20:53:17.618614Z",
     "start_time": "2018-05-02T20:49:44.959Z"
    },
    "collapsed": true
   },
   "outputs": [],
   "source": [
    "write.csv(overall_product_transaction, \"overall_product_transaction.csv\")"
   ]
  },
  {
   "cell_type": "code",
   "execution_count": 286,
   "metadata": {
    "ExecuteTime": {
     "end_time": "2018-05-04T01:03:45.707196Z",
     "start_time": "2018-05-04T00:59:51.006Z"
    },
    "collapsed": true
   },
   "outputs": [],
   "source": [
    "overall_product_transaction <- read.csv(file=\"overall_product_transaction.csv\", header=TRUE, sep=\",\")"
   ]
  },
  {
   "cell_type": "code",
   "execution_count": 3,
   "metadata": {
    "ExecuteTime": {
     "end_time": "2018-05-02T23:42:32.917490Z",
     "start_time": "2018-05-02T23:44:06.979Z"
    }
   },
   "outputs": [
    {
     "data": {
      "text/html": [
       "<table>\n",
       "<thead><tr><th scope=col>X</th><th scope=col>cluster</th><th scope=col>product_quantity</th><th scope=col>product_price</th><th scope=col>month</th><th scope=col>year</th><th scope=col>revenue</th><th scope=col>price</th><th scope=col>brand_id</th><th scope=col>division</th><th scope=col>category</th><th scope=col>subcategory</th><th scope=col>fineline</th></tr></thead>\n",
       "<tbody>\n",
       "\t<tr><td>1                               </td><td>2                               </td><td>1                               </td><td> 26                             </td><td> 5                              </td><td>2009                            </td><td> 26                             </td><td>100                             </td><td>6                               </td><td>7                               </td><td>10                              </td><td>31                              </td><td>78652f7f0f810e26d037cd7500073518</td></tr>\n",
       "\t<tr><td>2                               </td><td>2                               </td><td>1                               </td><td>100                             </td><td>11                              </td><td>2009                            </td><td>100                             </td><td>100                             </td><td>6                               </td><td>7                               </td><td>10                              </td><td>31                              </td><td>78652f7f0f810e26d037cd7500073518</td></tr>\n",
       "\t<tr><td>3                               </td><td>2                               </td><td>1                               </td><td>100                             </td><td> 7                              </td><td>2009                            </td><td>100                             </td><td>100                             </td><td>6                               </td><td>7                               </td><td>10                              </td><td>31                              </td><td>78652f7f0f810e26d037cd7500073518</td></tr>\n",
       "\t<tr><td>4                               </td><td>4                               </td><td>1                               </td><td> 35                             </td><td> 2                              </td><td>2010                            </td><td> 35                             </td><td> 35                             </td><td>1                               </td><td>1                               </td><td> 1                              </td><td>15                              </td><td>8f04a641de9e906d943249f74dadb195</td></tr>\n",
       "\t<tr><td>5                               </td><td>4                               </td><td>1                               </td><td> 35                             </td><td>11                              </td><td>2010                            </td><td> 35                             </td><td> 35                             </td><td>1                               </td><td>1                               </td><td> 1                              </td><td>15                              </td><td>8f04a641de9e906d943249f74dadb195</td></tr>\n",
       "\t<tr><td>6                               </td><td>1                               </td><td>1                               </td><td> 35                             </td><td>12                              </td><td>2010                            </td><td> 35                             </td><td> 35                             </td><td>1                               </td><td>1                               </td><td> 1                              </td><td>15                              </td><td>8f04a641de9e906d943249f74dadb195</td></tr>\n",
       "</tbody>\n",
       "</table>\n"
      ],
      "text/latex": [
       "\\begin{tabular}{r|lllllllllllll}\n",
       " X & cluster & product\\_quantity & product\\_price & month & year & revenue & price & brand\\_id & division & category & subcategory & fineline\\\\\n",
       "\\hline\n",
       "\t 1                                & 2                                & 1                                &  26                              &  5                               & 2009                             &  26                              & 100                              & 6                                & 7                                & 10                               & 31                               & 78652f7f0f810e26d037cd7500073518\\\\\n",
       "\t 2                                & 2                                & 1                                & 100                              & 11                               & 2009                             & 100                              & 100                              & 6                                & 7                                & 10                               & 31                               & 78652f7f0f810e26d037cd7500073518\\\\\n",
       "\t 3                                & 2                                & 1                                & 100                              &  7                               & 2009                             & 100                              & 100                              & 6                                & 7                                & 10                               & 31                               & 78652f7f0f810e26d037cd7500073518\\\\\n",
       "\t 4                                & 4                                & 1                                &  35                              &  2                               & 2010                             &  35                              &  35                              & 1                                & 1                                &  1                               & 15                               & 8f04a641de9e906d943249f74dadb195\\\\\n",
       "\t 5                                & 4                                & 1                                &  35                              & 11                               & 2010                             &  35                              &  35                              & 1                                & 1                                &  1                               & 15                               & 8f04a641de9e906d943249f74dadb195\\\\\n",
       "\t 6                                & 1                                & 1                                &  35                              & 12                               & 2010                             &  35                              &  35                              & 1                                & 1                                &  1                               & 15                               & 8f04a641de9e906d943249f74dadb195\\\\\n",
       "\\end{tabular}\n"
      ],
      "text/markdown": [
       "\n",
       "X | cluster | product_quantity | product_price | month | year | revenue | price | brand_id | division | category | subcategory | fineline | \n",
       "|---|---|---|---|---|---|\n",
       "| 1                                | 2                                | 1                                |  26                              |  5                               | 2009                             |  26                              | 100                              | 6                                | 7                                | 10                               | 31                               | 78652f7f0f810e26d037cd7500073518 | \n",
       "| 2                                | 2                                | 1                                | 100                              | 11                               | 2009                             | 100                              | 100                              | 6                                | 7                                | 10                               | 31                               | 78652f7f0f810e26d037cd7500073518 | \n",
       "| 3                                | 2                                | 1                                | 100                              |  7                               | 2009                             | 100                              | 100                              | 6                                | 7                                | 10                               | 31                               | 78652f7f0f810e26d037cd7500073518 | \n",
       "| 4                                | 4                                | 1                                |  35                              |  2                               | 2010                             |  35                              |  35                              | 1                                | 1                                |  1                               | 15                               | 8f04a641de9e906d943249f74dadb195 | \n",
       "| 5                                | 4                                | 1                                |  35                              | 11                               | 2010                             |  35                              |  35                              | 1                                | 1                                |  1                               | 15                               | 8f04a641de9e906d943249f74dadb195 | \n",
       "| 6                                | 1                                | 1                                |  35                              | 12                               | 2010                             |  35                              |  35                              | 1                                | 1                                |  1                               | 15                               | 8f04a641de9e906d943249f74dadb195 | \n",
       "\n",
       "\n"
      ],
      "text/plain": [
       "  X cluster product_quantity product_price month year revenue price brand_id\n",
       "1 1 2       1                 26            5    2009  26     100   6       \n",
       "2 2 2       1                100           11    2009 100     100   6       \n",
       "3 3 2       1                100            7    2009 100     100   6       \n",
       "4 4 4       1                 35            2    2010  35      35   1       \n",
       "5 5 4       1                 35           11    2010  35      35   1       \n",
       "6 6 1       1                 35           12    2010  35      35   1       \n",
       "  division category subcategory fineline                        \n",
       "1 7        10       31          78652f7f0f810e26d037cd7500073518\n",
       "2 7        10       31          78652f7f0f810e26d037cd7500073518\n",
       "3 7        10       31          78652f7f0f810e26d037cd7500073518\n",
       "4 1         1       15          8f04a641de9e906d943249f74dadb195\n",
       "5 1         1       15          8f04a641de9e906d943249f74dadb195\n",
       "6 1         1       15          8f04a641de9e906d943249f74dadb195"
      ]
     },
     "metadata": {},
     "output_type": "display_data"
    }
   ],
   "source": [
    "overall_product_transaction$customer_id<-NULL\n",
    "overall_product_transaction$product_id<-NULL\n",
    "head(overall_product_transaction)"
   ]
  },
  {
   "cell_type": "code",
   "execution_count": 4,
   "metadata": {
    "ExecuteTime": {
     "end_time": "2018-05-02T23:46:08.491440Z",
     "start_time": "2018-05-02T23:44:53.649Z"
    }
   },
   "outputs": [
    {
     "data": {
      "text/html": [
       "<table>\n",
       "<thead><tr><th scope=col>cluster</th><th scope=col>year</th><th scope=col>month</th><th scope=col>price</th><th scope=col>brand_id</th><th scope=col>division</th><th scope=col>category</th><th scope=col>subcategory</th><th scope=col>fineline</th><th scope=col>product_quantity</th></tr></thead>\n",
       "<tbody>\n",
       "\t<tr><td>1                               </td><td>2010                            </td><td>1                               </td><td>13                              </td><td>423                             </td><td>7                               </td><td>8                               </td><td>45                              </td><td>00037a8f553c98f5eaa669bb79cde391</td><td>2                               </td></tr>\n",
       "\t<tr><td>2                               </td><td>2010                            </td><td>1                               </td><td>13                              </td><td>423                             </td><td>7                               </td><td>8                               </td><td>45                              </td><td>00037a8f553c98f5eaa669bb79cde391</td><td>6                               </td></tr>\n",
       "\t<tr><td>4                               </td><td>2010                            </td><td>1                               </td><td>13                              </td><td>423                             </td><td>7                               </td><td>8                               </td><td>45                              </td><td>00037a8f553c98f5eaa669bb79cde391</td><td>2                               </td></tr>\n",
       "\t<tr><td>2                               </td><td>2010                            </td><td>2                               </td><td>13                              </td><td>423                             </td><td>7                               </td><td>8                               </td><td>45                              </td><td>00037a8f553c98f5eaa669bb79cde391</td><td>6                               </td></tr>\n",
       "\t<tr><td>4                               </td><td>2010                            </td><td>2                               </td><td>13                              </td><td>423                             </td><td>7                               </td><td>8                               </td><td>45                              </td><td>00037a8f553c98f5eaa669bb79cde391</td><td>5                               </td></tr>\n",
       "\t<tr><td>1                               </td><td>2010                            </td><td>3                               </td><td>13                              </td><td>423                             </td><td>7                               </td><td>8                               </td><td>45                              </td><td>00037a8f553c98f5eaa669bb79cde391</td><td>2                               </td></tr>\n",
       "</tbody>\n",
       "</table>\n"
      ],
      "text/latex": [
       "\\begin{tabular}{r|llllllllll}\n",
       " cluster & year & month & price & brand\\_id & division & category & subcategory & fineline & product\\_quantity\\\\\n",
       "\\hline\n",
       "\t 1                                & 2010                             & 1                                & 13                               & 423                              & 7                                & 8                                & 45                               & 00037a8f553c98f5eaa669bb79cde391 & 2                               \\\\\n",
       "\t 2                                & 2010                             & 1                                & 13                               & 423                              & 7                                & 8                                & 45                               & 00037a8f553c98f5eaa669bb79cde391 & 6                               \\\\\n",
       "\t 4                                & 2010                             & 1                                & 13                               & 423                              & 7                                & 8                                & 45                               & 00037a8f553c98f5eaa669bb79cde391 & 2                               \\\\\n",
       "\t 2                                & 2010                             & 2                                & 13                               & 423                              & 7                                & 8                                & 45                               & 00037a8f553c98f5eaa669bb79cde391 & 6                               \\\\\n",
       "\t 4                                & 2010                             & 2                                & 13                               & 423                              & 7                                & 8                                & 45                               & 00037a8f553c98f5eaa669bb79cde391 & 5                               \\\\\n",
       "\t 1                                & 2010                             & 3                                & 13                               & 423                              & 7                                & 8                                & 45                               & 00037a8f553c98f5eaa669bb79cde391 & 2                               \\\\\n",
       "\\end{tabular}\n"
      ],
      "text/markdown": [
       "\n",
       "cluster | year | month | price | brand_id | division | category | subcategory | fineline | product_quantity | \n",
       "|---|---|---|---|---|---|\n",
       "| 1                                | 2010                             | 1                                | 13                               | 423                              | 7                                | 8                                | 45                               | 00037a8f553c98f5eaa669bb79cde391 | 2                                | \n",
       "| 2                                | 2010                             | 1                                | 13                               | 423                              | 7                                | 8                                | 45                               | 00037a8f553c98f5eaa669bb79cde391 | 6                                | \n",
       "| 4                                | 2010                             | 1                                | 13                               | 423                              | 7                                | 8                                | 45                               | 00037a8f553c98f5eaa669bb79cde391 | 2                                | \n",
       "| 2                                | 2010                             | 2                                | 13                               | 423                              | 7                                | 8                                | 45                               | 00037a8f553c98f5eaa669bb79cde391 | 6                                | \n",
       "| 4                                | 2010                             | 2                                | 13                               | 423                              | 7                                | 8                                | 45                               | 00037a8f553c98f5eaa669bb79cde391 | 5                                | \n",
       "| 1                                | 2010                             | 3                                | 13                               | 423                              | 7                                | 8                                | 45                               | 00037a8f553c98f5eaa669bb79cde391 | 2                                | \n",
       "\n",
       "\n"
      ],
      "text/plain": [
       "  cluster year month price brand_id division category subcategory\n",
       "1 1       2010 1     13    423      7        8        45         \n",
       "2 2       2010 1     13    423      7        8        45         \n",
       "3 4       2010 1     13    423      7        8        45         \n",
       "4 2       2010 2     13    423      7        8        45         \n",
       "5 4       2010 2     13    423      7        8        45         \n",
       "6 1       2010 3     13    423      7        8        45         \n",
       "  fineline                         product_quantity\n",
       "1 00037a8f553c98f5eaa669bb79cde391 2               \n",
       "2 00037a8f553c98f5eaa669bb79cde391 6               \n",
       "3 00037a8f553c98f5eaa669bb79cde391 2               \n",
       "4 00037a8f553c98f5eaa669bb79cde391 6               \n",
       "5 00037a8f553c98f5eaa669bb79cde391 5               \n",
       "6 00037a8f553c98f5eaa669bb79cde391 2               "
      ]
     },
     "metadata": {},
     "output_type": "display_data"
    }
   ],
   "source": [
    "revenue_factor <- aggregate(product_quantity ~ cluster+year+month+price+brand_id+division+category+subcategory+fineline, data=overall_product_transaction, FUN=sum)\n",
    "head(revenue_factor)"
   ]
  },
  {
   "cell_type": "code",
   "execution_count": 5,
   "metadata": {
    "ExecuteTime": {
     "end_time": "2018-05-02T23:48:14.905256Z",
     "start_time": "2018-05-02T23:48:14.865Z"
    }
   },
   "outputs": [
    {
     "data": {
      "text/html": [
       "<table>\n",
       "<thead><tr><th scope=col>cluster</th><th scope=col>year</th><th scope=col>month</th><th scope=col>price</th><th scope=col>brand_id</th><th scope=col>division</th><th scope=col>category</th><th scope=col>subcategory</th><th scope=col>fineline</th><th scope=col>product_quantity</th><th scope=col>revenue</th></tr></thead>\n",
       "<tbody>\n",
       "\t<tr><td>1                               </td><td>2010                            </td><td>1                               </td><td>13                              </td><td>423                             </td><td>7                               </td><td>8                               </td><td>45                              </td><td>00037a8f553c98f5eaa669bb79cde391</td><td>2                               </td><td>26                              </td></tr>\n",
       "\t<tr><td>2                               </td><td>2010                            </td><td>1                               </td><td>13                              </td><td>423                             </td><td>7                               </td><td>8                               </td><td>45                              </td><td>00037a8f553c98f5eaa669bb79cde391</td><td>6                               </td><td>78                              </td></tr>\n",
       "\t<tr><td>4                               </td><td>2010                            </td><td>1                               </td><td>13                              </td><td>423                             </td><td>7                               </td><td>8                               </td><td>45                              </td><td>00037a8f553c98f5eaa669bb79cde391</td><td>2                               </td><td>26                              </td></tr>\n",
       "\t<tr><td>2                               </td><td>2010                            </td><td>2                               </td><td>13                              </td><td>423                             </td><td>7                               </td><td>8                               </td><td>45                              </td><td>00037a8f553c98f5eaa669bb79cde391</td><td>6                               </td><td>78                              </td></tr>\n",
       "\t<tr><td>4                               </td><td>2010                            </td><td>2                               </td><td>13                              </td><td>423                             </td><td>7                               </td><td>8                               </td><td>45                              </td><td>00037a8f553c98f5eaa669bb79cde391</td><td>5                               </td><td>65                              </td></tr>\n",
       "\t<tr><td>1                               </td><td>2010                            </td><td>3                               </td><td>13                              </td><td>423                             </td><td>7                               </td><td>8                               </td><td>45                              </td><td>00037a8f553c98f5eaa669bb79cde391</td><td>2                               </td><td>26                              </td></tr>\n",
       "</tbody>\n",
       "</table>\n"
      ],
      "text/latex": [
       "\\begin{tabular}{r|lllllllllll}\n",
       " cluster & year & month & price & brand\\_id & division & category & subcategory & fineline & product\\_quantity & revenue\\\\\n",
       "\\hline\n",
       "\t 1                                & 2010                             & 1                                & 13                               & 423                              & 7                                & 8                                & 45                               & 00037a8f553c98f5eaa669bb79cde391 & 2                                & 26                              \\\\\n",
       "\t 2                                & 2010                             & 1                                & 13                               & 423                              & 7                                & 8                                & 45                               & 00037a8f553c98f5eaa669bb79cde391 & 6                                & 78                              \\\\\n",
       "\t 4                                & 2010                             & 1                                & 13                               & 423                              & 7                                & 8                                & 45                               & 00037a8f553c98f5eaa669bb79cde391 & 2                                & 26                              \\\\\n",
       "\t 2                                & 2010                             & 2                                & 13                               & 423                              & 7                                & 8                                & 45                               & 00037a8f553c98f5eaa669bb79cde391 & 6                                & 78                              \\\\\n",
       "\t 4                                & 2010                             & 2                                & 13                               & 423                              & 7                                & 8                                & 45                               & 00037a8f553c98f5eaa669bb79cde391 & 5                                & 65                              \\\\\n",
       "\t 1                                & 2010                             & 3                                & 13                               & 423                              & 7                                & 8                                & 45                               & 00037a8f553c98f5eaa669bb79cde391 & 2                                & 26                              \\\\\n",
       "\\end{tabular}\n"
      ],
      "text/markdown": [
       "\n",
       "cluster | year | month | price | brand_id | division | category | subcategory | fineline | product_quantity | revenue | \n",
       "|---|---|---|---|---|---|\n",
       "| 1                                | 2010                             | 1                                | 13                               | 423                              | 7                                | 8                                | 45                               | 00037a8f553c98f5eaa669bb79cde391 | 2                                | 26                               | \n",
       "| 2                                | 2010                             | 1                                | 13                               | 423                              | 7                                | 8                                | 45                               | 00037a8f553c98f5eaa669bb79cde391 | 6                                | 78                               | \n",
       "| 4                                | 2010                             | 1                                | 13                               | 423                              | 7                                | 8                                | 45                               | 00037a8f553c98f5eaa669bb79cde391 | 2                                | 26                               | \n",
       "| 2                                | 2010                             | 2                                | 13                               | 423                              | 7                                | 8                                | 45                               | 00037a8f553c98f5eaa669bb79cde391 | 6                                | 78                               | \n",
       "| 4                                | 2010                             | 2                                | 13                               | 423                              | 7                                | 8                                | 45                               | 00037a8f553c98f5eaa669bb79cde391 | 5                                | 65                               | \n",
       "| 1                                | 2010                             | 3                                | 13                               | 423                              | 7                                | 8                                | 45                               | 00037a8f553c98f5eaa669bb79cde391 | 2                                | 26                               | \n",
       "\n",
       "\n"
      ],
      "text/plain": [
       "  cluster year month price brand_id division category subcategory\n",
       "1 1       2010 1     13    423      7        8        45         \n",
       "2 2       2010 1     13    423      7        8        45         \n",
       "3 4       2010 1     13    423      7        8        45         \n",
       "4 2       2010 2     13    423      7        8        45         \n",
       "5 4       2010 2     13    423      7        8        45         \n",
       "6 1       2010 3     13    423      7        8        45         \n",
       "  fineline                         product_quantity revenue\n",
       "1 00037a8f553c98f5eaa669bb79cde391 2                26     \n",
       "2 00037a8f553c98f5eaa669bb79cde391 6                78     \n",
       "3 00037a8f553c98f5eaa669bb79cde391 2                26     \n",
       "4 00037a8f553c98f5eaa669bb79cde391 6                78     \n",
       "5 00037a8f553c98f5eaa669bb79cde391 5                65     \n",
       "6 00037a8f553c98f5eaa669bb79cde391 2                26     "
      ]
     },
     "metadata": {},
     "output_type": "display_data"
    }
   ],
   "source": [
    "revenue_factor$revenue <- revenue_factor$price * revenue_factor$product_quantity\n",
    "head(revenue_factor)"
   ]
  },
  {
   "cell_type": "code",
   "execution_count": 6,
   "metadata": {
    "ExecuteTime": {
     "end_time": "2018-05-02T23:48:53.480831Z",
     "start_time": "2018-05-02T23:48:45.939Z"
    },
    "collapsed": true
   },
   "outputs": [],
   "source": [
    "write.csv(revenue_factor, \"revenue_factor.csv\")"
   ]
  },
  {
   "cell_type": "code",
   "execution_count": 8,
   "metadata": {
    "ExecuteTime": {
     "end_time": "2018-05-03T00:42:44.200773Z",
     "start_time": "2018-05-03T00:42:34.166Z"
    },
    "collapsed": true
   },
   "outputs": [],
   "source": [
    "revenue_factor <- read.csv(file=\"revenue_factor.csv\", header=TRUE, sep=\",\")"
   ]
  },
  {
   "cell_type": "code",
   "execution_count": 91,
   "metadata": {
    "ExecuteTime": {
     "end_time": "2018-05-03T15:02:13.659608Z",
     "start_time": "2018-05-03T15:02:13.466Z"
    }
   },
   "outputs": [
    {
     "data": {
      "text/html": [
       "<table>\n",
       "<thead><tr><th scope=col>X</th><th scope=col>cluster</th><th scope=col>year</th><th scope=col>month</th><th scope=col>price</th><th scope=col>brand_id</th><th scope=col>division</th><th scope=col>category</th><th scope=col>subcategory</th><th scope=col>fineline</th><th scope=col>product_quantity</th><th scope=col>revenue</th></tr></thead>\n",
       "<tbody>\n",
       "\t<tr><td>1                               </td><td>1                               </td><td>2010                            </td><td>1                               </td><td>13                              </td><td>423                             </td><td>7                               </td><td>8                               </td><td>45                              </td><td>00037a8f553c98f5eaa669bb79cde391</td><td>2                               </td><td>26                              </td></tr>\n",
       "\t<tr><td>2                               </td><td>2                               </td><td>2010                            </td><td>1                               </td><td>13                              </td><td>423                             </td><td>7                               </td><td>8                               </td><td>45                              </td><td>00037a8f553c98f5eaa669bb79cde391</td><td>6                               </td><td>78                              </td></tr>\n",
       "\t<tr><td>3                               </td><td>4                               </td><td>2010                            </td><td>1                               </td><td>13                              </td><td>423                             </td><td>7                               </td><td>8                               </td><td>45                              </td><td>00037a8f553c98f5eaa669bb79cde391</td><td>2                               </td><td>26                              </td></tr>\n",
       "\t<tr><td>4                               </td><td>2                               </td><td>2010                            </td><td>2                               </td><td>13                              </td><td>423                             </td><td>7                               </td><td>8                               </td><td>45                              </td><td>00037a8f553c98f5eaa669bb79cde391</td><td>6                               </td><td>78                              </td></tr>\n",
       "\t<tr><td>5                               </td><td>4                               </td><td>2010                            </td><td>2                               </td><td>13                              </td><td>423                             </td><td>7                               </td><td>8                               </td><td>45                              </td><td>00037a8f553c98f5eaa669bb79cde391</td><td>5                               </td><td>65                              </td></tr>\n",
       "\t<tr><td>6                               </td><td>1                               </td><td>2010                            </td><td>3                               </td><td>13                              </td><td>423                             </td><td>7                               </td><td>8                               </td><td>45                              </td><td>00037a8f553c98f5eaa669bb79cde391</td><td>2                               </td><td>26                              </td></tr>\n",
       "</tbody>\n",
       "</table>\n"
      ],
      "text/latex": [
       "\\begin{tabular}{r|llllllllllll}\n",
       " X & cluster & year & month & price & brand\\_id & division & category & subcategory & fineline & product\\_quantity & revenue\\\\\n",
       "\\hline\n",
       "\t 1                                & 1                                & 2010                             & 1                                & 13                               & 423                              & 7                                & 8                                & 45                               & 00037a8f553c98f5eaa669bb79cde391 & 2                                & 26                              \\\\\n",
       "\t 2                                & 2                                & 2010                             & 1                                & 13                               & 423                              & 7                                & 8                                & 45                               & 00037a8f553c98f5eaa669bb79cde391 & 6                                & 78                              \\\\\n",
       "\t 3                                & 4                                & 2010                             & 1                                & 13                               & 423                              & 7                                & 8                                & 45                               & 00037a8f553c98f5eaa669bb79cde391 & 2                                & 26                              \\\\\n",
       "\t 4                                & 2                                & 2010                             & 2                                & 13                               & 423                              & 7                                & 8                                & 45                               & 00037a8f553c98f5eaa669bb79cde391 & 6                                & 78                              \\\\\n",
       "\t 5                                & 4                                & 2010                             & 2                                & 13                               & 423                              & 7                                & 8                                & 45                               & 00037a8f553c98f5eaa669bb79cde391 & 5                                & 65                              \\\\\n",
       "\t 6                                & 1                                & 2010                             & 3                                & 13                               & 423                              & 7                                & 8                                & 45                               & 00037a8f553c98f5eaa669bb79cde391 & 2                                & 26                              \\\\\n",
       "\\end{tabular}\n"
      ],
      "text/markdown": [
       "\n",
       "X | cluster | year | month | price | brand_id | division | category | subcategory | fineline | product_quantity | revenue | \n",
       "|---|---|---|---|---|---|\n",
       "| 1                                | 1                                | 2010                             | 1                                | 13                               | 423                              | 7                                | 8                                | 45                               | 00037a8f553c98f5eaa669bb79cde391 | 2                                | 26                               | \n",
       "| 2                                | 2                                | 2010                             | 1                                | 13                               | 423                              | 7                                | 8                                | 45                               | 00037a8f553c98f5eaa669bb79cde391 | 6                                | 78                               | \n",
       "| 3                                | 4                                | 2010                             | 1                                | 13                               | 423                              | 7                                | 8                                | 45                               | 00037a8f553c98f5eaa669bb79cde391 | 2                                | 26                               | \n",
       "| 4                                | 2                                | 2010                             | 2                                | 13                               | 423                              | 7                                | 8                                | 45                               | 00037a8f553c98f5eaa669bb79cde391 | 6                                | 78                               | \n",
       "| 5                                | 4                                | 2010                             | 2                                | 13                               | 423                              | 7                                | 8                                | 45                               | 00037a8f553c98f5eaa669bb79cde391 | 5                                | 65                               | \n",
       "| 6                                | 1                                | 2010                             | 3                                | 13                               | 423                              | 7                                | 8                                | 45                               | 00037a8f553c98f5eaa669bb79cde391 | 2                                | 26                               | \n",
       "\n",
       "\n"
      ],
      "text/plain": [
       "  X cluster year month price brand_id division category subcategory\n",
       "1 1 1       2010 1     13    423      7        8        45         \n",
       "2 2 2       2010 1     13    423      7        8        45         \n",
       "3 3 4       2010 1     13    423      7        8        45         \n",
       "4 4 2       2010 2     13    423      7        8        45         \n",
       "5 5 4       2010 2     13    423      7        8        45         \n",
       "6 6 1       2010 3     13    423      7        8        45         \n",
       "  fineline                         product_quantity revenue\n",
       "1 00037a8f553c98f5eaa669bb79cde391 2                26     \n",
       "2 00037a8f553c98f5eaa669bb79cde391 6                78     \n",
       "3 00037a8f553c98f5eaa669bb79cde391 2                26     \n",
       "4 00037a8f553c98f5eaa669bb79cde391 6                78     \n",
       "5 00037a8f553c98f5eaa669bb79cde391 5                65     \n",
       "6 00037a8f553c98f5eaa669bb79cde391 2                26     "
      ]
     },
     "metadata": {},
     "output_type": "display_data"
    }
   ],
   "source": [
    "install.packages(\"plyr\", lib='UserLibrary')\n",
    "library('plyr') \n",
    "head(revenue_factor)"
   ]
  },
  {
   "cell_type": "markdown",
   "metadata": {},
   "source": [
    "\n",
    "## Look at product frequency by 5 levels\n",
    "###### level0:    how many times this cluster purchased in that month\n",
    "###### level1:    how many times this cluster purchased a particular division in that month\n",
    "###### level2:    how many times this cluster purchased a particular division & category in that month\n",
    "###### level3:    how many times this cluster purchased a particular division & category & subcategory in that month\n",
    "###### level4:    how many times this cluster purchased a particular division & category & subcategory & fineline in that month\n",
    "###### level5:    how many times this cluster purchased a particular division & category & subcategory & fineline & brand in that month"
   ]
  },
  {
   "cell_type": "code",
   "execution_count": 173,
   "metadata": {
    "ExecuteTime": {
     "end_time": "2018-05-03T18:29:44.567520Z",
     "start_time": "2018-05-03T18:29:35.099Z"
    },
    "scrolled": true
   },
   "outputs": [
    {
     "data": {
      "text/html": [
       "<table>\n",
       "<thead><tr><th></th><th scope=col>cluster</th><th scope=col>year</th><th scope=col>month</th><th scope=col>freq.level0</th></tr></thead>\n",
       "<tbody>\n",
       "\t<tr><th scope=row>1</th><td>1   </td><td>2009</td><td>1   </td><td>4998</td></tr>\n",
       "\t<tr><th scope=row>25</th><td>2   </td><td>2009</td><td>1   </td><td>9341</td></tr>\n",
       "\t<tr><th scope=row>72</th><td>4   </td><td>2009</td><td>1   </td><td>6940</td></tr>\n",
       "\t<tr><th scope=row>2</th><td>1   </td><td>2009</td><td>2   </td><td>3717</td></tr>\n",
       "\t<tr><th scope=row>26</th><td>2   </td><td>2009</td><td>2   </td><td>9723</td></tr>\n",
       "\t<tr><th scope=row>49</th><td>3   </td><td>2009</td><td>2   </td><td>2715</td></tr>\n",
       "</tbody>\n",
       "</table>\n"
      ],
      "text/latex": [
       "\\begin{tabular}{r|llll}\n",
       "  & cluster & year & month & freq.level0\\\\\n",
       "\\hline\n",
       "\t1 & 1    & 2009 & 1    & 4998\\\\\n",
       "\t25 & 2    & 2009 & 1    & 9341\\\\\n",
       "\t72 & 4    & 2009 & 1    & 6940\\\\\n",
       "\t2 & 1    & 2009 & 2    & 3717\\\\\n",
       "\t26 & 2    & 2009 & 2    & 9723\\\\\n",
       "\t49 & 3    & 2009 & 2    & 2715\\\\\n",
       "\\end{tabular}\n"
      ],
      "text/markdown": [
       "\n",
       "| <!--/--> | cluster | year | month | freq.level0 | \n",
       "|---|---|---|---|---|---|\n",
       "| 1 | 1    | 2009 | 1    | 4998 | \n",
       "| 25 | 2    | 2009 | 1    | 9341 | \n",
       "| 72 | 4    | 2009 | 1    | 6940 | \n",
       "| 2 | 1    | 2009 | 2    | 3717 | \n",
       "| 26 | 2    | 2009 | 2    | 9723 | \n",
       "| 49 | 3    | 2009 | 2    | 2715 | \n",
       "\n",
       "\n"
      ],
      "text/plain": [
       "   cluster year month freq.level0\n",
       "1  1       2009 1     4998       \n",
       "25 2       2009 1     9341       \n",
       "72 4       2009 1     6940       \n",
       "2  1       2009 2     3717       \n",
       "26 2       2009 2     9723       \n",
       "49 3       2009 2     2715       "
      ]
     },
     "metadata": {},
     "output_type": "display_data"
    },
    {
     "data": {
      "text/html": [
       "<table>\n",
       "<thead><tr><th></th><th scope=col>cluster</th><th scope=col>year</th><th scope=col>month</th><th scope=col>freq.level0</th></tr></thead>\n",
       "<tbody>\n",
       "\t<tr><th scope=row>1</th><td>1   </td><td>2009</td><td>1   </td><td>4998</td></tr>\n",
       "\t<tr><th scope=row>25</th><td>2   </td><td>2009</td><td>1   </td><td>9341</td></tr>\n",
       "\t<tr><th scope=row>72</th><td>4   </td><td>2009</td><td>1   </td><td>6940</td></tr>\n",
       "\t<tr><th scope=row>2</th><td>1   </td><td>2009</td><td>2   </td><td>3717</td></tr>\n",
       "\t<tr><th scope=row>26</th><td>2   </td><td>2009</td><td>2   </td><td>9723</td></tr>\n",
       "\t<tr><th scope=row>49</th><td>3   </td><td>2009</td><td>2   </td><td>2715</td></tr>\n",
       "</tbody>\n",
       "</table>\n"
      ],
      "text/latex": [
       "\\begin{tabular}{r|llll}\n",
       "  & cluster & year & month & freq.level0\\\\\n",
       "\\hline\n",
       "\t1 & 1    & 2009 & 1    & 4998\\\\\n",
       "\t25 & 2    & 2009 & 1    & 9341\\\\\n",
       "\t72 & 4    & 2009 & 1    & 6940\\\\\n",
       "\t2 & 1    & 2009 & 2    & 3717\\\\\n",
       "\t26 & 2    & 2009 & 2    & 9723\\\\\n",
       "\t49 & 3    & 2009 & 2    & 2715\\\\\n",
       "\\end{tabular}\n"
      ],
      "text/markdown": [
       "\n",
       "| <!--/--> | cluster | year | month | freq.level0 | \n",
       "|---|---|---|---|---|---|\n",
       "| 1 | 1    | 2009 | 1    | 4998 | \n",
       "| 25 | 2    | 2009 | 1    | 9341 | \n",
       "| 72 | 4    | 2009 | 1    | 6940 | \n",
       "| 2 | 1    | 2009 | 2    | 3717 | \n",
       "| 26 | 2    | 2009 | 2    | 9723 | \n",
       "| 49 | 3    | 2009 | 2    | 2715 | \n",
       "\n",
       "\n"
      ],
      "text/plain": [
       "   cluster year month freq.level0\n",
       "1  1       2009 1     4998       \n",
       "25 2       2009 1     9341       \n",
       "72 4       2009 1     6940       \n",
       "2  1       2009 2     3717       \n",
       "26 2       2009 2     9723       \n",
       "49 3       2009 2     2715       "
      ]
     },
     "metadata": {},
     "output_type": "display_data"
    },
    {
     "data": {
      "text/html": [
       "<table>\n",
       "<thead><tr><th scope=col>cluster</th><th scope=col>year</th><th scope=col>month</th><th scope=col>division</th><th scope=col>freq.level1</th></tr></thead>\n",
       "<tbody>\n",
       "\t<tr><td>1   </td><td>2009</td><td>1   </td><td>1   </td><td>152 </td></tr>\n",
       "\t<tr><td>1   </td><td>2009</td><td>1   </td><td>2   </td><td>  4 </td></tr>\n",
       "\t<tr><td>1   </td><td>2009</td><td>1   </td><td>4   </td><td>  1 </td></tr>\n",
       "\t<tr><td>1   </td><td>2009</td><td>1   </td><td>6   </td><td>333 </td></tr>\n",
       "\t<tr><td>1   </td><td>2009</td><td>1   </td><td>7   </td><td>737 </td></tr>\n",
       "\t<tr><td>1   </td><td>2009</td><td>1   </td><td>8   </td><td>132 </td></tr>\n",
       "</tbody>\n",
       "</table>\n"
      ],
      "text/latex": [
       "\\begin{tabular}{r|lllll}\n",
       " cluster & year & month & division & freq.level1\\\\\n",
       "\\hline\n",
       "\t 1    & 2009 & 1    & 1    & 152 \\\\\n",
       "\t 1    & 2009 & 1    & 2    &   4 \\\\\n",
       "\t 1    & 2009 & 1    & 4    &   1 \\\\\n",
       "\t 1    & 2009 & 1    & 6    & 333 \\\\\n",
       "\t 1    & 2009 & 1    & 7    & 737 \\\\\n",
       "\t 1    & 2009 & 1    & 8    & 132 \\\\\n",
       "\\end{tabular}\n"
      ],
      "text/markdown": [
       "\n",
       "cluster | year | month | division | freq.level1 | \n",
       "|---|---|---|---|---|---|\n",
       "| 1    | 2009 | 1    | 1    | 152  | \n",
       "| 1    | 2009 | 1    | 2    |   4  | \n",
       "| 1    | 2009 | 1    | 4    |   1  | \n",
       "| 1    | 2009 | 1    | 6    | 333  | \n",
       "| 1    | 2009 | 1    | 7    | 737  | \n",
       "| 1    | 2009 | 1    | 8    | 132  | \n",
       "\n",
       "\n"
      ],
      "text/plain": [
       "  cluster year month division freq.level1\n",
       "1 1       2009 1     1        152        \n",
       "2 1       2009 1     2          4        \n",
       "3 1       2009 1     4          1        \n",
       "4 1       2009 1     6        333        \n",
       "5 1       2009 1     7        737        \n",
       "6 1       2009 1     8        132        "
      ]
     },
     "metadata": {},
     "output_type": "display_data"
    },
    {
     "data": {
      "text/html": [
       "<table>\n",
       "<thead><tr><th scope=col>cluster</th><th scope=col>year</th><th scope=col>month</th><th scope=col>division</th><th scope=col>category</th><th scope=col>freq.level2</th></tr></thead>\n",
       "<tbody>\n",
       "\t<tr><td>1   </td><td>2009</td><td>1   </td><td>1   </td><td> 1  </td><td>120 </td></tr>\n",
       "\t<tr><td>1   </td><td>2009</td><td>1   </td><td>1   </td><td> 2  </td><td>  1 </td></tr>\n",
       "\t<tr><td>1   </td><td>2009</td><td>1   </td><td>1   </td><td> 6  </td><td> 31 </td></tr>\n",
       "\t<tr><td>1   </td><td>2009</td><td>1   </td><td>2   </td><td> 3  </td><td>  2 </td></tr>\n",
       "\t<tr><td>1   </td><td>2009</td><td>1   </td><td>2   </td><td> 6  </td><td>  1 </td></tr>\n",
       "\t<tr><td>1   </td><td>2009</td><td>1   </td><td>2   </td><td>10  </td><td>  1 </td></tr>\n",
       "</tbody>\n",
       "</table>\n"
      ],
      "text/latex": [
       "\\begin{tabular}{r|llllll}\n",
       " cluster & year & month & division & category & freq.level2\\\\\n",
       "\\hline\n",
       "\t 1    & 2009 & 1    & 1    &  1   & 120 \\\\\n",
       "\t 1    & 2009 & 1    & 1    &  2   &   1 \\\\\n",
       "\t 1    & 2009 & 1    & 1    &  6   &  31 \\\\\n",
       "\t 1    & 2009 & 1    & 2    &  3   &   2 \\\\\n",
       "\t 1    & 2009 & 1    & 2    &  6   &   1 \\\\\n",
       "\t 1    & 2009 & 1    & 2    & 10   &   1 \\\\\n",
       "\\end{tabular}\n"
      ],
      "text/markdown": [
       "\n",
       "cluster | year | month | division | category | freq.level2 | \n",
       "|---|---|---|---|---|---|\n",
       "| 1    | 2009 | 1    | 1    |  1   | 120  | \n",
       "| 1    | 2009 | 1    | 1    |  2   |   1  | \n",
       "| 1    | 2009 | 1    | 1    |  6   |  31  | \n",
       "| 1    | 2009 | 1    | 2    |  3   |   2  | \n",
       "| 1    | 2009 | 1    | 2    |  6   |   1  | \n",
       "| 1    | 2009 | 1    | 2    | 10   |   1  | \n",
       "\n",
       "\n"
      ],
      "text/plain": [
       "  cluster year month division category freq.level2\n",
       "1 1       2009 1     1         1       120        \n",
       "2 1       2009 1     1         2         1        \n",
       "3 1       2009 1     1         6        31        \n",
       "4 1       2009 1     2         3         2        \n",
       "5 1       2009 1     2         6         1        \n",
       "6 1       2009 1     2        10         1        "
      ]
     },
     "metadata": {},
     "output_type": "display_data"
    },
    {
     "data": {
      "text/html": [
       "<table>\n",
       "<thead><tr><th scope=col>cluster</th><th scope=col>year</th><th scope=col>month</th><th scope=col>division</th><th scope=col>category</th><th scope=col>subcategory</th><th scope=col>freq.level3</th></tr></thead>\n",
       "<tbody>\n",
       "\t<tr><td>1   </td><td>2009</td><td>1   </td><td>1   </td><td>1   </td><td> 8  </td><td>27  </td></tr>\n",
       "\t<tr><td>1   </td><td>2009</td><td>1   </td><td>1   </td><td>1   </td><td>11  </td><td> 1  </td></tr>\n",
       "\t<tr><td>1   </td><td>2009</td><td>1   </td><td>1   </td><td>1   </td><td>14  </td><td>81  </td></tr>\n",
       "\t<tr><td>1   </td><td>2009</td><td>1   </td><td>1   </td><td>1   </td><td>15  </td><td> 7  </td></tr>\n",
       "\t<tr><td>1   </td><td>2009</td><td>1   </td><td>1   </td><td>1   </td><td>22  </td><td> 4  </td></tr>\n",
       "\t<tr><td>1   </td><td>2009</td><td>1   </td><td>1   </td><td>2   </td><td>13  </td><td> 1  </td></tr>\n",
       "</tbody>\n",
       "</table>\n"
      ],
      "text/latex": [
       "\\begin{tabular}{r|lllllll}\n",
       " cluster & year & month & division & category & subcategory & freq.level3\\\\\n",
       "\\hline\n",
       "\t 1    & 2009 & 1    & 1    & 1    &  8   & 27  \\\\\n",
       "\t 1    & 2009 & 1    & 1    & 1    & 11   &  1  \\\\\n",
       "\t 1    & 2009 & 1    & 1    & 1    & 14   & 81  \\\\\n",
       "\t 1    & 2009 & 1    & 1    & 1    & 15   &  7  \\\\\n",
       "\t 1    & 2009 & 1    & 1    & 1    & 22   &  4  \\\\\n",
       "\t 1    & 2009 & 1    & 1    & 2    & 13   &  1  \\\\\n",
       "\\end{tabular}\n"
      ],
      "text/markdown": [
       "\n",
       "cluster | year | month | division | category | subcategory | freq.level3 | \n",
       "|---|---|---|---|---|---|\n",
       "| 1    | 2009 | 1    | 1    | 1    |  8   | 27   | \n",
       "| 1    | 2009 | 1    | 1    | 1    | 11   |  1   | \n",
       "| 1    | 2009 | 1    | 1    | 1    | 14   | 81   | \n",
       "| 1    | 2009 | 1    | 1    | 1    | 15   |  7   | \n",
       "| 1    | 2009 | 1    | 1    | 1    | 22   |  4   | \n",
       "| 1    | 2009 | 1    | 1    | 2    | 13   |  1   | \n",
       "\n",
       "\n"
      ],
      "text/plain": [
       "  cluster year month division category subcategory freq.level3\n",
       "1 1       2009 1     1        1         8          27         \n",
       "2 1       2009 1     1        1        11           1         \n",
       "3 1       2009 1     1        1        14          81         \n",
       "4 1       2009 1     1        1        15           7         \n",
       "5 1       2009 1     1        1        22           4         \n",
       "6 1       2009 1     1        2        13           1         "
      ]
     },
     "metadata": {},
     "output_type": "display_data"
    },
    {
     "data": {
      "text/html": [
       "<table>\n",
       "<thead><tr><th></th><th scope=col>cluster</th><th scope=col>year</th><th scope=col>month</th><th scope=col>division</th><th scope=col>category</th><th scope=col>subcategory</th><th scope=col>fineline</th><th scope=col>freq.level4</th></tr></thead>\n",
       "<tbody>\n",
       "\t<tr><th scope=row>37</th><td>1                               </td><td>2009                            </td><td>1                               </td><td>6                               </td><td> 5                              </td><td> 7                              </td><td>0003c4475c5448e96dff4cf2ccd462ee</td><td>1                               </td></tr>\n",
       "\t<tr><th scope=row>38</th><td>2                               </td><td>2009                            </td><td>1                               </td><td>6                               </td><td> 5                              </td><td> 7                              </td><td>0003c4475c5448e96dff4cf2ccd462ee</td><td>1                               </td></tr>\n",
       "\t<tr><th scope=row>39</th><td>4                               </td><td>2009                            </td><td>1                               </td><td>6                               </td><td> 5                              </td><td> 7                              </td><td>0003c4475c5448e96dff4cf2ccd462ee</td><td>1                               </td></tr>\n",
       "\t<tr><th scope=row>120</th><td>1                               </td><td>2009                            </td><td>1                               </td><td>7                               </td><td>16                              </td><td>34                              </td><td>00044b827af2dcdf2a587403c3368bae</td><td>1                               </td></tr>\n",
       "\t<tr><th scope=row>121</th><td>2                               </td><td>2009                            </td><td>1                               </td><td>7                               </td><td>16                              </td><td>34                              </td><td>00044b827af2dcdf2a587403c3368bae</td><td>1                               </td></tr>\n",
       "\t<tr><th scope=row>122</th><td>4                               </td><td>2009                            </td><td>1                               </td><td>7                               </td><td>16                              </td><td>34                              </td><td>00044b827af2dcdf2a587403c3368bae</td><td>1                               </td></tr>\n",
       "</tbody>\n",
       "</table>\n"
      ],
      "text/latex": [
       "\\begin{tabular}{r|llllllll}\n",
       "  & cluster & year & month & division & category & subcategory & fineline & freq.level4\\\\\n",
       "\\hline\n",
       "\t37 & 1                                & 2009                             & 1                                & 6                                &  5                               &  7                               & 0003c4475c5448e96dff4cf2ccd462ee & 1                               \\\\\n",
       "\t38 & 2                                & 2009                             & 1                                & 6                                &  5                               &  7                               & 0003c4475c5448e96dff4cf2ccd462ee & 1                               \\\\\n",
       "\t39 & 4                                & 2009                             & 1                                & 6                                &  5                               &  7                               & 0003c4475c5448e96dff4cf2ccd462ee & 1                               \\\\\n",
       "\t120 & 1                                & 2009                             & 1                                & 7                                & 16                               & 34                               & 00044b827af2dcdf2a587403c3368bae & 1                               \\\\\n",
       "\t121 & 2                                & 2009                             & 1                                & 7                                & 16                               & 34                               & 00044b827af2dcdf2a587403c3368bae & 1                               \\\\\n",
       "\t122 & 4                                & 2009                             & 1                                & 7                                & 16                               & 34                               & 00044b827af2dcdf2a587403c3368bae & 1                               \\\\\n",
       "\\end{tabular}\n"
      ],
      "text/markdown": [
       "\n",
       "| <!--/--> | cluster | year | month | division | category | subcategory | fineline | freq.level4 | \n",
       "|---|---|---|---|---|---|\n",
       "| 37 | 1                                | 2009                             | 1                                | 6                                |  5                               |  7                               | 0003c4475c5448e96dff4cf2ccd462ee | 1                                | \n",
       "| 38 | 2                                | 2009                             | 1                                | 6                                |  5                               |  7                               | 0003c4475c5448e96dff4cf2ccd462ee | 1                                | \n",
       "| 39 | 4                                | 2009                             | 1                                | 6                                |  5                               |  7                               | 0003c4475c5448e96dff4cf2ccd462ee | 1                                | \n",
       "| 120 | 1                                | 2009                             | 1                                | 7                                | 16                               | 34                               | 00044b827af2dcdf2a587403c3368bae | 1                                | \n",
       "| 121 | 2                                | 2009                             | 1                                | 7                                | 16                               | 34                               | 00044b827af2dcdf2a587403c3368bae | 1                                | \n",
       "| 122 | 4                                | 2009                             | 1                                | 7                                | 16                               | 34                               | 00044b827af2dcdf2a587403c3368bae | 1                                | \n",
       "\n",
       "\n"
      ],
      "text/plain": [
       "    cluster year month division category subcategory\n",
       "37  1       2009 1     6         5        7         \n",
       "38  2       2009 1     6         5        7         \n",
       "39  4       2009 1     6         5        7         \n",
       "120 1       2009 1     7        16       34         \n",
       "121 2       2009 1     7        16       34         \n",
       "122 4       2009 1     7        16       34         \n",
       "    fineline                         freq.level4\n",
       "37  0003c4475c5448e96dff4cf2ccd462ee 1          \n",
       "38  0003c4475c5448e96dff4cf2ccd462ee 1          \n",
       "39  0003c4475c5448e96dff4cf2ccd462ee 1          \n",
       "120 00044b827af2dcdf2a587403c3368bae 1          \n",
       "121 00044b827af2dcdf2a587403c3368bae 1          \n",
       "122 00044b827af2dcdf2a587403c3368bae 1          "
      ]
     },
     "metadata": {},
     "output_type": "display_data"
    },
    {
     "data": {
      "text/html": [
       "<table>\n",
       "<thead><tr><th></th><th scope=col>cluster</th><th scope=col>year</th><th scope=col>month</th><th scope=col>division</th><th scope=col>category</th><th scope=col>subcategory</th><th scope=col>fineline</th><th scope=col>brand_id</th><th scope=col>freq.level5</th></tr></thead>\n",
       "<tbody>\n",
       "\t<tr><th scope=row>37</th><td>1                               </td><td>2009                            </td><td>1                               </td><td>6                               </td><td> 5                              </td><td> 7                              </td><td>0003c4475c5448e96dff4cf2ccd462ee</td><td>677                             </td><td>1                               </td></tr>\n",
       "\t<tr><th scope=row>38</th><td>2                               </td><td>2009                            </td><td>1                               </td><td>6                               </td><td> 5                              </td><td> 7                              </td><td>0003c4475c5448e96dff4cf2ccd462ee</td><td>677                             </td><td>1                               </td></tr>\n",
       "\t<tr><th scope=row>39</th><td>4                               </td><td>2009                            </td><td>1                               </td><td>6                               </td><td> 5                              </td><td> 7                              </td><td>0003c4475c5448e96dff4cf2ccd462ee</td><td>677                             </td><td>1                               </td></tr>\n",
       "\t<tr><th scope=row>120</th><td>1                               </td><td>2009                            </td><td>1                               </td><td>7                               </td><td>16                              </td><td>34                              </td><td>00044b827af2dcdf2a587403c3368bae</td><td>172                             </td><td>1                               </td></tr>\n",
       "\t<tr><th scope=row>121</th><td>2                               </td><td>2009                            </td><td>1                               </td><td>7                               </td><td>16                              </td><td>34                              </td><td>00044b827af2dcdf2a587403c3368bae</td><td>172                             </td><td>1                               </td></tr>\n",
       "\t<tr><th scope=row>122</th><td>4                               </td><td>2009                            </td><td>1                               </td><td>7                               </td><td>16                              </td><td>34                              </td><td>00044b827af2dcdf2a587403c3368bae</td><td>172                             </td><td>1                               </td></tr>\n",
       "</tbody>\n",
       "</table>\n"
      ],
      "text/latex": [
       "\\begin{tabular}{r|lllllllll}\n",
       "  & cluster & year & month & division & category & subcategory & fineline & brand\\_id & freq.level5\\\\\n",
       "\\hline\n",
       "\t37 & 1                                & 2009                             & 1                                & 6                                &  5                               &  7                               & 0003c4475c5448e96dff4cf2ccd462ee & 677                              & 1                               \\\\\n",
       "\t38 & 2                                & 2009                             & 1                                & 6                                &  5                               &  7                               & 0003c4475c5448e96dff4cf2ccd462ee & 677                              & 1                               \\\\\n",
       "\t39 & 4                                & 2009                             & 1                                & 6                                &  5                               &  7                               & 0003c4475c5448e96dff4cf2ccd462ee & 677                              & 1                               \\\\\n",
       "\t120 & 1                                & 2009                             & 1                                & 7                                & 16                               & 34                               & 00044b827af2dcdf2a587403c3368bae & 172                              & 1                               \\\\\n",
       "\t121 & 2                                & 2009                             & 1                                & 7                                & 16                               & 34                               & 00044b827af2dcdf2a587403c3368bae & 172                              & 1                               \\\\\n",
       "\t122 & 4                                & 2009                             & 1                                & 7                                & 16                               & 34                               & 00044b827af2dcdf2a587403c3368bae & 172                              & 1                               \\\\\n",
       "\\end{tabular}\n"
      ],
      "text/markdown": [
       "\n",
       "| <!--/--> | cluster | year | month | division | category | subcategory | fineline | brand_id | freq.level5 | \n",
       "|---|---|---|---|---|---|\n",
       "| 37 | 1                                | 2009                             | 1                                | 6                                |  5                               |  7                               | 0003c4475c5448e96dff4cf2ccd462ee | 677                              | 1                                | \n",
       "| 38 | 2                                | 2009                             | 1                                | 6                                |  5                               |  7                               | 0003c4475c5448e96dff4cf2ccd462ee | 677                              | 1                                | \n",
       "| 39 | 4                                | 2009                             | 1                                | 6                                |  5                               |  7                               | 0003c4475c5448e96dff4cf2ccd462ee | 677                              | 1                                | \n",
       "| 120 | 1                                | 2009                             | 1                                | 7                                | 16                               | 34                               | 00044b827af2dcdf2a587403c3368bae | 172                              | 1                                | \n",
       "| 121 | 2                                | 2009                             | 1                                | 7                                | 16                               | 34                               | 00044b827af2dcdf2a587403c3368bae | 172                              | 1                                | \n",
       "| 122 | 4                                | 2009                             | 1                                | 7                                | 16                               | 34                               | 00044b827af2dcdf2a587403c3368bae | 172                              | 1                                | \n",
       "\n",
       "\n"
      ],
      "text/plain": [
       "    cluster year month division category subcategory\n",
       "37  1       2009 1     6         5        7         \n",
       "38  2       2009 1     6         5        7         \n",
       "39  4       2009 1     6         5        7         \n",
       "120 1       2009 1     7        16       34         \n",
       "121 2       2009 1     7        16       34         \n",
       "122 4       2009 1     7        16       34         \n",
       "    fineline                         brand_id freq.level5\n",
       "37  0003c4475c5448e96dff4cf2ccd462ee 677      1          \n",
       "38  0003c4475c5448e96dff4cf2ccd462ee 677      1          \n",
       "39  0003c4475c5448e96dff4cf2ccd462ee 677      1          \n",
       "120 00044b827af2dcdf2a587403c3368bae 172      1          \n",
       "121 00044b827af2dcdf2a587403c3368bae 172      1          \n",
       "122 00044b827af2dcdf2a587403c3368bae 172      1          "
      ]
     },
     "metadata": {},
     "output_type": "display_data"
    }
   ],
   "source": [
    "level0 <- c('cluster','year','month')\n",
    "level0 <- count(revenue_factor, level0)\n",
    "level0 <- level0[which(level0$year==2009),]\n",
    "level0 <- level0[order(level0$month),]\n",
    "colnames(level0)[4]<-'freq.level0'\n",
    "head(level0)\n",
    "\n",
    "level1 <- c('cluster','year','month','division')\n",
    "level1 <- count(revenue_factor, level1)\n",
    "level1 <- level1[which(level1$year==2009),]\n",
    "level1 <- level1[order(level1$month),]\n",
    "colnames(level1)[5]<-'freq.level1'\n",
    "\n",
    "level2 <- c('cluster','year','month','division',\"category\")\n",
    "level2 <- count(revenue_factor, level2)\n",
    "level2 <- level2[which(level2$year==2009),]\n",
    "level2 <- level2[order(level2$month),]\n",
    "colnames(level2)[6]<-'freq.level2'\n",
    "\n",
    "level3 <- c('cluster','year','month',\"division\",'category','subcategory')\n",
    "level3 <- count(revenue_factor, level3)\n",
    "level3 <- level3[which(level3$year==2009),]\n",
    "level3 <- level3[order(level3$month),]\n",
    "colnames(level3)[7]<-'freq.level3'\n",
    "\n",
    "level4 <- c('cluster','year','month',\"division\",'category','subcategory','fineline')\n",
    "level4 <- count(revenue_factor, level4)\n",
    "level4 <- level4[which(level4$year==2009),]\n",
    "level4 <- level4[order(level4$month),]\n",
    "colnames(level4)[8]<-'freq.level4'\n",
    "\n",
    "level5 <- c('cluster','year','month',\"division\",'category','subcategory','fineline','brand_id')\n",
    "level5 <- count(revenue_factor, level5)\n",
    "level5 <- level5[which(level5$year==2009),]\n",
    "level5 <- level5[order(level5$month),]\n",
    "colnames(level5)[9]<-'freq.level5'\n",
    "\n",
    "head(level0) #freq.level0: how many times this cluster purchased in that month\n",
    "head(level1) #freq.level1: how many times this cluster purchased a particular division in that month\n",
    "head(level2) #freq.level2: how many times this cluster purchased a particular division & category in that month\n",
    "head(level3) #freq.level3: how many times this cluster purchased a particular division & category & subcategory in that month\n",
    "head(level4) #freq.level4: how many times this cluster purchased a particular division & category & subcategory & fineline in that month\n",
    "head(level5) #freq.level5: how many times this cluster purchased a particular division & category & subcategory & fineline & brand in that month"
   ]
  },
  {
   "cell_type": "markdown",
   "metadata": {},
   "source": [
    "### Explore level0\n",
    "we can see from the graphs below, customers in cluster 2, 3, 4 tend to pusrchase more as the time goes by in a year"
   ]
  },
  {
   "cell_type": "code",
   "execution_count": 174,
   "metadata": {
    "ExecuteTime": {
     "end_time": "2018-05-03T18:30:05.969260Z",
     "start_time": "2018-05-03T18:30:05.277Z"
    },
    "scrolled": true
   },
   "outputs": [
    {
     "data": {
      "image/png": "[encoded data removed]",
      "text/plain": [
       "plot without title"
      ]
     },
     "metadata": {},
     "output_type": "display_data"
    }
   ],
   "source": [
    "#freq.level0 : how many times this cluster purchased in that month\n",
    "tmp1 <- level0[which(level0$cluster==1),]\n",
    "tmp2 <- level0[which(level0$cluster==2),]\n",
    "tmp3 <- level0[which(level0$cluster==3),]\n",
    "tmp4 <- level0[which(level0$cluster==4),]\n",
    "\n",
    "#customer_id with 4 segementation: cluster1, 2, 3, 4\n",
    "#          recency  frequency  monetary\n",
    "#cluster1:    0         0         0     (471852)\n",
    "#cluster2:    3         9         9     (161684)\n",
    "#cluster3:    8         2         2     (176119)\n",
    "#cluster4:    6         6         6     (190345)\n",
    "\n",
    "par( mfrow = c(1, 4))\n",
    "plot(x=tmp1$month,y=tmp1$freq.level0)\n",
    "lines(lowess(x=tmp1$month,y=tmp1$freq.level0), col=\"blue\", lty = 2)\n",
    "plot(x=tmp2$month,y=tmp2$freq.level0)\n",
    "lines(lowess(x=tmp2$month,y=tmp2$freq.level0), col=\"blue\", lty = 2)\n",
    "plot(x=tmp3$month,y=tmp3$freq.level0)\n",
    "lines(lowess(x=tmp3$month,y=tmp3$freq.level0), col=\"blue\", lty = 2)\n",
    "plot(x=tmp4$month,y=tmp4$freq.level0)\n",
    "lines(lowess(x=tmp4$month,y=tmp4$freq.level0), col=\"blue\", lty = 2)\n",
    "#as we can see from the graphs below, cluster 2, 3, 4 tend to pusrchase more as the time goes by in a year"
   ]
  },
  {
   "cell_type": "markdown",
   "metadata": {},
   "source": [
    "### Explore level1, 2, 3, 4, 5\n",
    "we can see from the graphs below, customers in cluster 2, 3, 4 tend to pusrchase more as the time goes by in a year"
   ]
  },
  {
   "cell_type": "code",
   "execution_count": 213,
   "metadata": {
    "ExecuteTime": {
     "end_time": "2018-05-03T23:04:26.857147Z",
     "start_time": "2018-05-03T23:05:13.147Z"
    },
    "collapsed": true
   },
   "outputs": [],
   "source": [
    "price <- unique(revenue_factor[,c(\"price\",\"brand_id\",\"division\",\"category\",\"subcategory\",\"fineline\")])"
   ]
  },
  {
   "cell_type": "code",
   "execution_count": 266,
   "metadata": {
    "ExecuteTime": {
     "end_time": "2018-05-04T00:35:57.204256Z",
     "start_time": "2018-05-04T00:35:56.568Z"
    }
   },
   "outputs": [
    {
     "data": {
      "text/html": [
       "<table>\n",
       "<thead><tr><th></th><th scope=col>division</th><th scope=col>cluster</th><th scope=col>year</th><th scope=col>month</th><th scope=col>freq.level0</th><th scope=col>freq.level1</th><th scope=col>division_freq_percentage</th><th scope=col>price</th></tr></thead>\n",
       "<tbody>\n",
       "\t<tr><th scope=row>478</th><td>16        </td><td>1         </td><td>2009      </td><td>1         </td><td>4998      </td><td>1685      </td><td>0.33713485</td><td>22.01296  </td></tr>\n",
       "\t<tr><th scope=row>424</th><td>15        </td><td>1         </td><td>2009      </td><td>1         </td><td>4998      </td><td>1680      </td><td>0.33613445</td><td>17.17364  </td></tr>\n",
       "\t<tr><th scope=row>173</th><td> 7        </td><td>1         </td><td>2009      </td><td>1         </td><td>4998      </td><td> 737      </td><td>0.14745898</td><td>35.53786  </td></tr>\n",
       "\t<tr><th scope=row>151</th><td> 6        </td><td>1         </td><td>2009      </td><td>1         </td><td>4998      </td><td> 333      </td><td>0.06662665</td><td>16.71414  </td></tr>\n",
       "\t<tr><th scope=row>528</th><td>17        </td><td>1         </td><td>2009      </td><td>1         </td><td>4998      </td><td> 176      </td><td>0.03521409</td><td>10.18689  </td></tr>\n",
       "\t<tr><th scope=row>1</th><td> 1        </td><td>1         </td><td>2009      </td><td>1         </td><td>4998      </td><td> 152      </td><td>0.03041216</td><td>65.04477  </td></tr>\n",
       "</tbody>\n",
       "</table>\n"
      ],
      "text/latex": [
       "\\begin{tabular}{r|llllllll}\n",
       "  & division & cluster & year & month & freq.level0 & freq.level1 & division\\_freq\\_percentage & price\\\\\n",
       "\\hline\n",
       "\t478 & 16         & 1          & 2009       & 1          & 4998       & 1685       & 0.33713485 & 22.01296  \\\\\n",
       "\t424 & 15         & 1          & 2009       & 1          & 4998       & 1680       & 0.33613445 & 17.17364  \\\\\n",
       "\t173 &  7         & 1          & 2009       & 1          & 4998       &  737       & 0.14745898 & 35.53786  \\\\\n",
       "\t151 &  6         & 1          & 2009       & 1          & 4998       &  333       & 0.06662665 & 16.71414  \\\\\n",
       "\t528 & 17         & 1          & 2009       & 1          & 4998       &  176       & 0.03521409 & 10.18689  \\\\\n",
       "\t1 &  1         & 1          & 2009       & 1          & 4998       &  152       & 0.03041216 & 65.04477  \\\\\n",
       "\\end{tabular}\n"
      ],
      "text/markdown": [
       "\n",
       "| <!--/--> | division | cluster | year | month | freq.level0 | freq.level1 | division_freq_percentage | price | \n",
       "|---|---|---|---|---|---|\n",
       "| 478 | 16         | 1          | 2009       | 1          | 4998       | 1685       | 0.33713485 | 22.01296   | \n",
       "| 424 | 15         | 1          | 2009       | 1          | 4998       | 1680       | 0.33613445 | 17.17364   | \n",
       "| 173 |  7         | 1          | 2009       | 1          | 4998       |  737       | 0.14745898 | 35.53786   | \n",
       "| 151 |  6         | 1          | 2009       | 1          | 4998       |  333       | 0.06662665 | 16.71414   | \n",
       "| 528 | 17         | 1          | 2009       | 1          | 4998       |  176       | 0.03521409 | 10.18689   | \n",
       "| 1 |  1         | 1          | 2009       | 1          | 4998       |  152       | 0.03041216 | 65.04477   | \n",
       "\n",
       "\n"
      ],
      "text/plain": [
       "    division cluster year month freq.level0 freq.level1\n",
       "478 16       1       2009 1     4998        1685       \n",
       "424 15       1       2009 1     4998        1680       \n",
       "173  7       1       2009 1     4998         737       \n",
       "151  6       1       2009 1     4998         333       \n",
       "528 17       1       2009 1     4998         176       \n",
       "1    1       1       2009 1     4998         152       \n",
       "    division_freq_percentage price   \n",
       "478 0.33713485               22.01296\n",
       "424 0.33613445               17.17364\n",
       "173 0.14745898               35.53786\n",
       "151 0.06662665               16.71414\n",
       "528 0.03521409               10.18689\n",
       "1   0.03041216               65.04477"
      ]
     },
     "metadata": {},
     "output_type": "display_data"
    },
    {
     "data": {
      "text/html": [
       "<table>\n",
       "<thead><tr><th></th><th scope=col>division</th><th scope=col>category</th><th scope=col>cluster</th><th scope=col>year</th><th scope=col>month</th><th scope=col>freq.level0</th><th scope=col>freq.level1</th><th scope=col>division_freq_percentage</th><th scope=col>freq.level2</th><th scope=col>category_freq_percentage</th><th scope=col>price</th></tr></thead>\n",
       "<tbody>\n",
       "\t<tr><th scope=row>336</th><td> 4          </td><td>1           </td><td>1           </td><td>2009        </td><td>1           </td><td>4998        </td><td>  1         </td><td>0.0002000800</td><td>  1         </td><td>1.0000000   </td><td> 4.75000    </td></tr>\n",
       "\t<tr><th scope=row>4905</th><td>23          </td><td>2           </td><td>1           </td><td>2009        </td><td>1           </td><td>4998        </td><td> 13         </td><td>0.0026010404</td><td> 11         </td><td>0.8461538   </td><td>42.04167    </td></tr>\n",
       "\t<tr><th scope=row>3</th><td> 1          </td><td>1           </td><td>1           </td><td>2009        </td><td>1           </td><td>4998        </td><td>152         </td><td>0.0304121649</td><td>120         </td><td>0.7894737   </td><td>63.83088    </td></tr>\n",
       "\t<tr><th scope=row>1952</th><td> 8          </td><td>1           </td><td>1           </td><td>2009        </td><td>1           </td><td>4998        </td><td>132         </td><td>0.0264105642</td><td> 92         </td><td>0.6969697   </td><td>14.48370    </td></tr>\n",
       "\t<tr><th scope=row>2534</th><td>13          </td><td>1           </td><td>1           </td><td>2009        </td><td>1           </td><td>4998        </td><td> 63         </td><td>0.0126050420</td><td> 33         </td><td>0.5238095   </td><td>15.57778    </td></tr>\n",
       "\t<tr><th scope=row>190</th><td> 2          </td><td>3           </td><td>1           </td><td>2009        </td><td>1           </td><td>4998        </td><td>  4         </td><td>0.0008003201</td><td>  2         </td><td>0.5000000   </td><td>19.52083    </td></tr>\n",
       "</tbody>\n",
       "</table>\n"
      ],
      "text/latex": [
       "\\begin{tabular}{r|lllllllllll}\n",
       "  & division & category & cluster & year & month & freq.level0 & freq.level1 & division\\_freq\\_percentage & freq.level2 & category\\_freq\\_percentage & price\\\\\n",
       "\\hline\n",
       "\t336 &  4           & 1            & 1            & 2009         & 1            & 4998         &   1          & 0.0002000800 &   1          & 1.0000000    &  4.75000    \\\\\n",
       "\t4905 & 23           & 2            & 1            & 2009         & 1            & 4998         &  13          & 0.0026010404 &  11          & 0.8461538    & 42.04167    \\\\\n",
       "\t3 &  1           & 1            & 1            & 2009         & 1            & 4998         & 152          & 0.0304121649 & 120          & 0.7894737    & 63.83088    \\\\\n",
       "\t1952 &  8           & 1            & 1            & 2009         & 1            & 4998         & 132          & 0.0264105642 &  92          & 0.6969697    & 14.48370    \\\\\n",
       "\t2534 & 13           & 1            & 1            & 2009         & 1            & 4998         &  63          & 0.0126050420 &  33          & 0.5238095    & 15.57778    \\\\\n",
       "\t190 &  2           & 3            & 1            & 2009         & 1            & 4998         &   4          & 0.0008003201 &   2          & 0.5000000    & 19.52083    \\\\\n",
       "\\end{tabular}\n"
      ],
      "text/markdown": [
       "\n",
       "| <!--/--> | division | category | cluster | year | month | freq.level0 | freq.level1 | division_freq_percentage | freq.level2 | category_freq_percentage | price | \n",
       "|---|---|---|---|---|---|\n",
       "| 336 |  4           | 1            | 1            | 2009         | 1            | 4998         |   1          | 0.0002000800 |   1          | 1.0000000    |  4.75000     | \n",
       "| 4905 | 23           | 2            | 1            | 2009         | 1            | 4998         |  13          | 0.0026010404 |  11          | 0.8461538    | 42.04167     | \n",
       "| 3 |  1           | 1            | 1            | 2009         | 1            | 4998         | 152          | 0.0304121649 | 120          | 0.7894737    | 63.83088     | \n",
       "| 1952 |  8           | 1            | 1            | 2009         | 1            | 4998         | 132          | 0.0264105642 |  92          | 0.6969697    | 14.48370     | \n",
       "| 2534 | 13           | 1            | 1            | 2009         | 1            | 4998         |  63          | 0.0126050420 |  33          | 0.5238095    | 15.57778     | \n",
       "| 190 |  2           | 3            | 1            | 2009         | 1            | 4998         |   4          | 0.0008003201 |   2          | 0.5000000    | 19.52083     | \n",
       "\n",
       "\n"
      ],
      "text/plain": [
       "     division category cluster year month freq.level0 freq.level1\n",
       "336   4       1        1       2009 1     4998          1        \n",
       "4905 23       2        1       2009 1     4998         13        \n",
       "3     1       1        1       2009 1     4998        152        \n",
       "1952  8       1        1       2009 1     4998        132        \n",
       "2534 13       1        1       2009 1     4998         63        \n",
       "190   2       3        1       2009 1     4998          4        \n",
       "     division_freq_percentage freq.level2 category_freq_percentage price   \n",
       "336  0.0002000800               1         1.0000000                 4.75000\n",
       "4905 0.0026010404              11         0.8461538                42.04167\n",
       "3    0.0304121649             120         0.7894737                63.83088\n",
       "1952 0.0264105642              92         0.6969697                14.48370\n",
       "2534 0.0126050420              33         0.5238095                15.57778\n",
       "190  0.0008003201               2         0.5000000                19.52083"
      ]
     },
     "metadata": {},
     "output_type": "display_data"
    },
    {
     "data": {
      "text/html": [
       "<table>\n",
       "<thead><tr><th></th><th scope=col>division</th><th scope=col>category</th><th scope=col>subcategory</th><th scope=col>cluster</th><th scope=col>year</th><th scope=col>month</th><th scope=col>freq.level0</th><th scope=col>freq.level1</th><th scope=col>division_freq_percentage</th><th scope=col>freq.level2</th><th scope=col>category_freq_percentage</th><th scope=col>freq.level3</th><th scope=col>subcategory_freq_percentage</th><th scope=col>price</th></tr></thead>\n",
       "<tbody>\n",
       "\t<tr><th scope=row>314</th><td>1           </td><td> 2          </td><td>13          </td><td>1           </td><td>2009        </td><td>1           </td><td>4998        </td><td>152         </td><td>0.0304121649</td><td>1           </td><td>0.006578947 </td><td>1           </td><td>1           </td><td>69.00000    </td></tr>\n",
       "\t<tr><th scope=row>580</th><td>2           </td><td> 3          </td><td>33          </td><td>1           </td><td>2009        </td><td>1           </td><td>4998        </td><td>  4         </td><td>0.0008003201</td><td>2           </td><td>0.500000000 </td><td>2           </td><td>1           </td><td>19.52083    </td></tr>\n",
       "\t<tr><th scope=row>593</th><td>2           </td><td> 6          </td><td>27          </td><td>1           </td><td>2009        </td><td>1           </td><td>4998        </td><td>  4         </td><td>0.0008003201</td><td>1           </td><td>0.250000000 </td><td>1           </td><td>1           </td><td>46.79167    </td></tr>\n",
       "\t<tr><th scope=row>668</th><td>2           </td><td>10          </td><td>30          </td><td>1           </td><td>2009        </td><td>1           </td><td>4998        </td><td>  4         </td><td>0.0008003201</td><td>1           </td><td>0.250000000 </td><td>1           </td><td>1           </td><td>45.56731    </td></tr>\n",
       "\t<tr><th scope=row>744</th><td>4           </td><td> 1          </td><td> 1          </td><td>1           </td><td>2009        </td><td>1           </td><td>4998        </td><td>  1         </td><td>0.0002000800</td><td>1           </td><td>1.000000000 </td><td>1           </td><td>1           </td><td> 4.75000    </td></tr>\n",
       "\t<tr><th scope=row>1344</th><td>6           </td><td> 8          </td><td>17          </td><td>1           </td><td>2009        </td><td>1           </td><td>4998        </td><td>333         </td><td>0.0666266507</td><td>7           </td><td>0.021021021 </td><td>7           </td><td>1           </td><td>21.82353    </td></tr>\n",
       "</tbody>\n",
       "</table>\n"
      ],
      "text/latex": [
       "\\begin{tabular}{r|llllllllllllll}\n",
       "  & division & category & subcategory & cluster & year & month & freq.level0 & freq.level1 & division\\_freq\\_percentage & freq.level2 & category\\_freq\\_percentage & freq.level3 & subcategory\\_freq\\_percentage & price\\\\\n",
       "\\hline\n",
       "\t314 & 1            &  2           & 13           & 1            & 2009         & 1            & 4998         & 152          & 0.0304121649 & 1            & 0.006578947  & 1            & 1            & 69.00000    \\\\\n",
       "\t580 & 2            &  3           & 33           & 1            & 2009         & 1            & 4998         &   4          & 0.0008003201 & 2            & 0.500000000  & 2            & 1            & 19.52083    \\\\\n",
       "\t593 & 2            &  6           & 27           & 1            & 2009         & 1            & 4998         &   4          & 0.0008003201 & 1            & 0.250000000  & 1            & 1            & 46.79167    \\\\\n",
       "\t668 & 2            & 10           & 30           & 1            & 2009         & 1            & 4998         &   4          & 0.0008003201 & 1            & 0.250000000  & 1            & 1            & 45.56731    \\\\\n",
       "\t744 & 4            &  1           &  1           & 1            & 2009         & 1            & 4998         &   1          & 0.0002000800 & 1            & 1.000000000  & 1            & 1            &  4.75000    \\\\\n",
       "\t1344 & 6            &  8           & 17           & 1            & 2009         & 1            & 4998         & 333          & 0.0666266507 & 7            & 0.021021021  & 7            & 1            & 21.82353    \\\\\n",
       "\\end{tabular}\n"
      ],
      "text/markdown": [
       "\n",
       "| <!--/--> | division | category | subcategory | cluster | year | month | freq.level0 | freq.level1 | division_freq_percentage | freq.level2 | category_freq_percentage | freq.level3 | subcategory_freq_percentage | price | \n",
       "|---|---|---|---|---|---|\n",
       "| 314 | 1            |  2           | 13           | 1            | 2009         | 1            | 4998         | 152          | 0.0304121649 | 1            | 0.006578947  | 1            | 1            | 69.00000     | \n",
       "| 580 | 2            |  3           | 33           | 1            | 2009         | 1            | 4998         |   4          | 0.0008003201 | 2            | 0.500000000  | 2            | 1            | 19.52083     | \n",
       "| 593 | 2            |  6           | 27           | 1            | 2009         | 1            | 4998         |   4          | 0.0008003201 | 1            | 0.250000000  | 1            | 1            | 46.79167     | \n",
       "| 668 | 2            | 10           | 30           | 1            | 2009         | 1            | 4998         |   4          | 0.0008003201 | 1            | 0.250000000  | 1            | 1            | 45.56731     | \n",
       "| 744 | 4            |  1           |  1           | 1            | 2009         | 1            | 4998         |   1          | 0.0002000800 | 1            | 1.000000000  | 1            | 1            |  4.75000     | \n",
       "| 1344 | 6            |  8           | 17           | 1            | 2009         | 1            | 4998         | 333          | 0.0666266507 | 7            | 0.021021021  | 7            | 1            | 21.82353     | \n",
       "\n",
       "\n"
      ],
      "text/plain": [
       "     division category subcategory cluster year month freq.level0 freq.level1\n",
       "314  1         2       13          1       2009 1     4998        152        \n",
       "580  2         3       33          1       2009 1     4998          4        \n",
       "593  2         6       27          1       2009 1     4998          4        \n",
       "668  2        10       30          1       2009 1     4998          4        \n",
       "744  4         1        1          1       2009 1     4998          1        \n",
       "1344 6         8       17          1       2009 1     4998        333        \n",
       "     division_freq_percentage freq.level2 category_freq_percentage freq.level3\n",
       "314  0.0304121649             1           0.006578947              1          \n",
       "580  0.0008003201             2           0.500000000              2          \n",
       "593  0.0008003201             1           0.250000000              1          \n",
       "668  0.0008003201             1           0.250000000              1          \n",
       "744  0.0002000800             1           1.000000000              1          \n",
       "1344 0.0666266507             7           0.021021021              7          \n",
       "     subcategory_freq_percentage price   \n",
       "314  1                           69.00000\n",
       "580  1                           19.52083\n",
       "593  1                           46.79167\n",
       "668  1                           45.56731\n",
       "744  1                            4.75000\n",
       "1344 1                           21.82353"
      ]
     },
     "metadata": {},
     "output_type": "display_data"
    }
   ],
   "source": [
    "#freq.level1: how frequently this cluster purchased a particular division in that month in 2009\n",
    "division_freq <- merge(level0, level1, by = c('cluster','year','month'), all.y=TRUE)\n",
    "division_freq$division_freq_percentage <- division_freq$freq.level1/division_freq$freq.level0\n",
    "#add mean price of that division \n",
    "price_of_division = aggregate(price~division, price, mean )\n",
    "division_freq <- merge(division_freq, price_of_division, by = c(\"division\"), all.y=TRUE)\n",
    "division_freq <- division_freq[order(division_freq$cluster, division_freq$month, -division_freq$division_freq_percentage),]\n",
    "head(division_freq)\n",
    "\n",
    "\n",
    "#freq.level2: how many times this cluster purchased a particular division & category in that month\n",
    "temp <- division_freq\n",
    "temp$price<-NULL\n",
    "category_freq <- merge(temp, level2, by = c('cluster','year','month','division'), all.y=TRUE)\n",
    "category_freq$category_freq_percentage <- category_freq$freq.level2/category_freq$freq.level1\n",
    "#add mean price of that division & category \n",
    "price_of_category = aggregate(price~division+category, price, mean )\n",
    "category_freq <- merge(category_freq, price_of_category, by = c(\"division\",\"category\"), all.y=TRUE)\n",
    "category_freq <- category_freq[order(category_freq$cluster, category_freq$month, -category_freq$category_freq_percentage),]\n",
    "head(category_freq)\n",
    "\n",
    "\n",
    "#freq.level3: how many times this cluster purchased a particular division & category & subcategory in that month\n",
    "temp <- category_freq\n",
    "temp$price<-NULL\n",
    "subcategory_freq <- merge(temp, level3, by = c('cluster','year','month','division','category'), all.y=TRUE)\n",
    "subcategory_freq$subcategory_freq_percentage <- subcategory_freq$freq.level3/subcategory_freq$freq.level2\n",
    "#add mean price of that division & category & subcategory \n",
    "price_of_subcategory <- aggregate(price~division+category+subcategory, price, mean )\n",
    "subcategory_freq <- merge(subcategory_freq, price_of_subcategory, by = c(\"division\",\"category\",\"subcategory\"), all.y=TRUE)\n",
    "subcategory_freq <- subcategory_freq[order(subcategory_freq$cluster, subcategory_freq$month, -subcategory_freq$subcategory_freq_percentage),]\n",
    "head(subcategory_freq)"
   ]
  },
  {
   "cell_type": "markdown",
   "metadata": {},
   "source": [
    "### Level1: division\n",
    "#### how frequently this cluster purchased a particular division in a particular month in 2009"
   ]
  },
  {
   "cell_type": "markdown",
   "metadata": {},
   "source": [
    "#### Let's see from the graph: \n",
    "when set division_freq_percentage cutoff as 0.03, divisions people buy more frequently are 16,15,7,6,1,17"
   ]
  },
  {
   "cell_type": "code",
   "execution_count": 299,
   "metadata": {
    "ExecuteTime": {
     "end_time": "2018-05-04T01:09:41.799650Z",
     "start_time": "2018-05-04T01:09:41.209Z"
    }
   },
   "outputs": [
    {
     "data": {
      "image/png": "[encoded data removed]",
      "text/plain": [
       "plot without title"
      ]
     },
     "metadata": {},
     "output_type": "display_data"
    }
   ],
   "source": [
    "#freq.level1 graphs   \n",
    "tmp1 <- division_freq[which(division_freq$cluster==1& division_freq$division_freq_percentage>0.03),]\n",
    "tmp2 <- division_freq[which(division_freq$cluster==2& division_freq$division_freq_percentage>0.03),]\n",
    "tmp3 <- division_freq[which(division_freq$cluster==3& division_freq$division_freq_percentage>0.03),]\n",
    "tmp4 <- division_freq[which(division_freq$cluster==4& division_freq$division_freq_percentage>0.03),]\n",
    "#& division_freq$division==6\n",
    "#customer_id with 4 segementation: cluster1, 2, 3, 4\n",
    "#          recency  frequency  monetary\n",
    "#cluster1:    0         0         0     (471852)\n",
    "#cluster2:    3         9         9     (161684)\n",
    "#cluster3:    8         2         2     (176119)\n",
    "#cluster4:    6         6         6     (190345)\n",
    "par(mfrow = c(1, 4))\n",
    "plot(x=tmp1$month,y=tmp1$division_freq_percentage,col=tmp1$division)\n",
    "legend(x = 'topleft',pch=unique(tmp1$division),col=unique(tmp1$division),legend=paste(unique(tmp1$division)))\n",
    "plot(x=tmp2$month,y=tmp2$division_freq_percentage,col=tmp2$division)\n",
    "legend(x = 'topleft',pch=unique(tmp2$division),col=unique(tmp2$division),legend=paste(unique(tmp2$division)))\n",
    "plot(x=tmp3$month,y=tmp3$division_freq_percentage,col=tmp3$division)\n",
    "legend(x = 'topleft',pch=unique(tmp3$division),col=unique(tmp3$division),legend=paste(unique(tmp3$division)))\n",
    "plot(x=tmp4$month,y=tmp4$division_freq_percentage,col=tmp4$division)\n",
    "legend(x = 'topleft',pch=unique(tmp4$division),col=unique(tmp4$division),legend=paste(unique(tmp4$division)))\n",
    "#as we can see from the graphs below, cluster 2, 3, 4 tend to pusrchase more as the time goes by in a year\n",
    "#we can see 4 division are mostly bought"
   ]
  },
  {
   "cell_type": "markdown",
   "metadata": {},
   "source": [
    "#### Predicting whether this customer will buy this division's product or not"
   ]
  },
  {
   "cell_type": "code",
   "execution_count": 313,
   "metadata": {
    "ExecuteTime": {
     "end_time": "2018-05-04T01:41:40.049197Z",
     "start_time": "2018-05-04T01:41:39.650Z"
    }
   },
   "outputs": [
    {
     "name": "stderr",
     "output_type": "stream",
     "text": [
      "Warning message in predict.lm(model, validationData):\n",
      "“prediction from a rank-deficient fit may be misleading”"
     ]
    },
    {
     "data": {
      "text/html": [
       "0.000349472304047383"
      ],
      "text/latex": [
       "0.000349472304047383"
      ],
      "text/markdown": [
       "0.000349472304047383"
      ],
      "text/plain": [
       "[1] 0.0003494723"
      ]
     },
     "metadata": {},
     "output_type": "display_data"
    }
   ],
   "source": [
    "#possibility of purchase = division_freq_percentage\n",
    "isTraining = runif(nrow(division_freq)) < .8\n",
    "#Split into training and validationData \n",
    "trainingData = subset(division_freq,isTraining) \n",
    "validationData = subset(division_freq,!isTraining)\n",
    "\n",
    "model <- lm(division_freq_percentage ~ price + factor(cluster) + factor(month) + factor(division), data = trainingData)\n",
    "\n",
    "#Check MSE: 0.000349472304047383 , not too high\n",
    "mean((validationData$division_freq_percentage - predict(model,validationData))^2)"
   ]
  },
  {
   "cell_type": "code",
   "execution_count": 229,
   "metadata": {
    "ExecuteTime": {
     "end_time": "2018-05-03T23:24:34.361844Z",
     "start_time": "2018-05-03T23:24:34.061Z"
    },
    "scrolled": true
   },
   "outputs": [
    {
     "data": {
      "text/plain": [
       "\n",
       "Call:\n",
       "lm(formula = division_freq_percentage ~ price + factor(cluster) + \n",
       "    factor(month) + factor(division), data = division_freq)\n",
       "\n",
       "Residuals:\n",
       "      Min        1Q    Median        3Q       Max \n",
       "-0.070077 -0.000969 -0.000005  0.001425  0.161956 \n",
       "\n",
       "Coefficients: (1 not defined because of singularities)\n",
       "                     Estimate Std. Error t value Pr(>|t|)    \n",
       "(Intercept)        -9.371e-03  7.288e-03  -1.286 0.198927    \n",
       "price               8.779e-04  1.114e-04   7.882 1.34e-14 ***\n",
       "factor(cluster)2   -1.738e-04  2.416e-03  -0.072 0.942656    \n",
       "factor(cluster)3   -1.554e-04  2.510e-03  -0.062 0.950648    \n",
       "factor(cluster)4   -1.683e-04  2.420e-03  -0.070 0.944599    \n",
       "factor(month)2      3.389e-06  4.272e-03   0.001 0.999367    \n",
       "factor(month)3      1.533e-05  4.297e-03   0.004 0.997155    \n",
       "factor(month)4      2.612e-05  4.312e-03   0.006 0.995169    \n",
       "factor(month)5      6.005e-05  4.395e-03   0.014 0.989101    \n",
       "factor(month)6      6.894e-05  4.394e-03   0.016 0.987485    \n",
       "factor(month)7      1.028e-04  4.338e-03   0.024 0.981094    \n",
       "factor(month)8      2.541e-05  4.344e-03   0.006 0.995334    \n",
       "factor(month)9      5.125e-05  4.347e-03   0.012 0.990596    \n",
       "factor(month)10     1.743e-06  4.203e-03   0.000 0.999669    \n",
       "factor(month)11     2.684e-05  4.229e-03   0.006 0.994939    \n",
       "factor(month)12     2.024e-06  4.247e-03   0.000 0.999620    \n",
       "factor(division)2  -2.032e-02  4.785e-03  -4.246 2.49e-05 ***\n",
       "factor(division)3  -1.369e-02  2.161e-02  -0.634 0.526597    \n",
       "factor(division)4   5.489e-03  7.819e-03   0.702 0.482921    \n",
       "factor(division)5  -1.226e-02  7.875e-03  -1.556 0.120094    \n",
       "factor(division)6   6.725e-02  5.565e-03  12.085  < 2e-16 ***\n",
       "factor(division)7   1.289e-01  4.398e-03  29.313  < 2e-16 ***\n",
       "factor(division)8   1.874e-02  5.509e-03   3.403 0.000708 ***\n",
       "factor(division)9   1.401e-03  6.087e-03   0.230 0.818074    \n",
       "factor(division)10 -3.570e-03  7.295e-03  -0.489 0.624730    \n",
       "factor(division)12  7.405e-03  6.345e-03   1.167 0.243632    \n",
       "factor(division)13  2.834e-03  5.017e-03   0.565 0.572389    \n",
       "factor(division)15  3.151e-01  5.530e-03  56.990  < 2e-16 ***\n",
       "factor(division)16  3.136e-01  5.177e-03  60.570  < 2e-16 ***\n",
       "factor(division)17  3.526e-02  6.087e-03   5.793 1.07e-08 ***\n",
       "factor(division)19 -1.584e-02  5.021e-03  -3.154 0.001684 ** \n",
       "factor(division)20 -8.225e-03  8.735e-03  -0.942 0.346734    \n",
       "factor(division)21  3.523e-03  6.650e-03   0.530 0.596458    \n",
       "factor(division)22  6.104e-03  8.973e-03   0.680 0.496549    \n",
       "factor(division)23 -2.195e-02  4.222e-03  -5.200 2.66e-07 ***\n",
       "factor(division)26         NA         NA      NA       NA    \n",
       "---\n",
       "Signif. codes:  0 ‘***’ 0.001 ‘**’ 0.01 ‘*’ 0.05 ‘.’ 0.1 ‘ ’ 1\n",
       "\n",
       "Residual standard error: 0.02102 on 658 degrees of freedom\n",
       "  (4 observations deleted due to missingness)\n",
       "Multiple R-squared:  0.9653,\tAdjusted R-squared:  0.9635 \n",
       "F-statistic: 537.9 on 34 and 658 DF,  p-value: < 2.2e-16\n"
      ]
     },
     "metadata": {},
     "output_type": "display_data"
    }
   ],
   "source": [
    "model <- lm(division_freq_percentage ~ price + factor(cluster) + factor(month) + factor(division), data = division_freq)\n",
    "summary(model)\n",
    "\n",
    "'''\n",
    "price               8.779e-04  1.114e-04   7.882 1.34e-14 ***\n",
    "factor(division)6   6.725e-02  5.565e-03  12.085  < 2e-16 ***\n",
    "factor(division)15  3.151e-01  5.530e-03  56.990  < 2e-16 ***\n",
    "factor(division)16  3.136e-01  5.177e-03  60.570  < 2e-16 ***\n",
    "\n",
    "'''"
   ]
  },
  {
   "cell_type": "markdown",
   "metadata": {},
   "source": [
    "#### Checking the most popular division in each cluster by eyeballing"
   ]
  },
  {
   "cell_type": "code",
   "execution_count": 305,
   "metadata": {
    "ExecuteTime": {
     "end_time": "2018-05-04T01:13:02.316208Z",
     "start_time": "2018-05-04T01:13:02.040Z"
    },
    "scrolled": true
   },
   "outputs": [
    {
     "data": {
      "text/html": [
       "<table>\n",
       "<thead><tr><th></th><th scope=col>division</th><th scope=col>cluster</th><th scope=col>year</th><th scope=col>month</th><th scope=col>freq.level0</th><th scope=col>freq.level1</th><th scope=col>division_freq_percentage</th><th scope=col>price</th></tr></thead>\n",
       "<tbody>\n",
       "\t<tr><th scope=row>478</th><td>16        </td><td>1         </td><td>2009      </td><td>1         </td><td>4998      </td><td>1685      </td><td>0.33713485</td><td>22.01296  </td></tr>\n",
       "\t<tr><th scope=row>424</th><td>15        </td><td>1         </td><td>2009      </td><td>1         </td><td>4998      </td><td>1680      </td><td>0.33613445</td><td>17.17364  </td></tr>\n",
       "\t<tr><th scope=row>173</th><td> 7        </td><td>1         </td><td>2009      </td><td>1         </td><td>4998      </td><td> 737      </td><td>0.14745898</td><td>35.53786  </td></tr>\n",
       "\t<tr><th scope=row>151</th><td> 6        </td><td>1         </td><td>2009      </td><td>1         </td><td>4998      </td><td> 333      </td><td>0.06662665</td><td>16.71414  </td></tr>\n",
       "\t<tr><th scope=row>528</th><td>17        </td><td>1         </td><td>2009      </td><td>1         </td><td>4998      </td><td> 176      </td><td>0.03521409</td><td>10.18689  </td></tr>\n",
       "\t<tr><th scope=row>1</th><td> 1        </td><td>1         </td><td>2009      </td><td>1         </td><td>4998      </td><td> 152      </td><td>0.03041216</td><td>65.04477  </td></tr>\n",
       "</tbody>\n",
       "</table>\n"
      ],
      "text/latex": [
       "\\begin{tabular}{r|llllllll}\n",
       "  & division & cluster & year & month & freq.level0 & freq.level1 & division\\_freq\\_percentage & price\\\\\n",
       "\\hline\n",
       "\t478 & 16         & 1          & 2009       & 1          & 4998       & 1685       & 0.33713485 & 22.01296  \\\\\n",
       "\t424 & 15         & 1          & 2009       & 1          & 4998       & 1680       & 0.33613445 & 17.17364  \\\\\n",
       "\t173 &  7         & 1          & 2009       & 1          & 4998       &  737       & 0.14745898 & 35.53786  \\\\\n",
       "\t151 &  6         & 1          & 2009       & 1          & 4998       &  333       & 0.06662665 & 16.71414  \\\\\n",
       "\t528 & 17         & 1          & 2009       & 1          & 4998       &  176       & 0.03521409 & 10.18689  \\\\\n",
       "\t1 &  1         & 1          & 2009       & 1          & 4998       &  152       & 0.03041216 & 65.04477  \\\\\n",
       "\\end{tabular}\n"
      ],
      "text/markdown": [
       "\n",
       "| <!--/--> | division | cluster | year | month | freq.level0 | freq.level1 | division_freq_percentage | price | \n",
       "|---|---|---|---|---|---|\n",
       "| 478 | 16         | 1          | 2009       | 1          | 4998       | 1685       | 0.33713485 | 22.01296   | \n",
       "| 424 | 15         | 1          | 2009       | 1          | 4998       | 1680       | 0.33613445 | 17.17364   | \n",
       "| 173 |  7         | 1          | 2009       | 1          | 4998       |  737       | 0.14745898 | 35.53786   | \n",
       "| 151 |  6         | 1          | 2009       | 1          | 4998       |  333       | 0.06662665 | 16.71414   | \n",
       "| 528 | 17         | 1          | 2009       | 1          | 4998       |  176       | 0.03521409 | 10.18689   | \n",
       "| 1 |  1         | 1          | 2009       | 1          | 4998       |  152       | 0.03041216 | 65.04477   | \n",
       "\n",
       "\n"
      ],
      "text/plain": [
       "    division cluster year month freq.level0 freq.level1\n",
       "478 16       1       2009 1     4998        1685       \n",
       "424 15       1       2009 1     4998        1680       \n",
       "173  7       1       2009 1     4998         737       \n",
       "151  6       1       2009 1     4998         333       \n",
       "528 17       1       2009 1     4998         176       \n",
       "1    1       1       2009 1     4998         152       \n",
       "    division_freq_percentage price   \n",
       "478 0.33713485               22.01296\n",
       "424 0.33613445               17.17364\n",
       "173 0.14745898               35.53786\n",
       "151 0.06662665               16.71414\n",
       "528 0.03521409               10.18689\n",
       "1   0.03041216               65.04477"
      ]
     },
     "metadata": {},
     "output_type": "display_data"
    },
    {
     "data": {
      "text/html": [
       "<table>\n",
       "<thead><tr><th></th><th scope=col>division</th><th scope=col>cluster</th><th scope=col>year</th><th scope=col>month</th><th scope=col>freq.level0</th><th scope=col>freq.level1</th><th scope=col>division_freq_percentage</th><th scope=col>price</th></tr></thead>\n",
       "<tbody>\n",
       "\t<tr><th scope=row>480</th><td>16        </td><td>2         </td><td>2009      </td><td>1         </td><td>9341      </td><td>3021      </td><td>0.32341291</td><td>22.01296  </td></tr>\n",
       "\t<tr><th scope=row>443</th><td>15        </td><td>2         </td><td>2009      </td><td>1         </td><td>9341      </td><td>2499      </td><td>0.26753024</td><td>17.17364  </td></tr>\n",
       "\t<tr><th scope=row>196</th><td> 7        </td><td>2         </td><td>2009      </td><td>1         </td><td>9341      </td><td>1678      </td><td>0.17963815</td><td>35.53786  </td></tr>\n",
       "\t<tr><th scope=row>141</th><td> 6        </td><td>2         </td><td>2009      </td><td>1         </td><td>9341      </td><td> 721      </td><td>0.07718660</td><td>16.71414  </td></tr>\n",
       "\t<tr><th scope=row>38</th><td> 1        </td><td>2         </td><td>2009      </td><td>1         </td><td>9341      </td><td> 625      </td><td>0.06690932</td><td>65.04477  </td></tr>\n",
       "\t<tr><th scope=row>523</th><td>17        </td><td>2         </td><td>2009      </td><td>1         </td><td>9341      </td><td> 324      </td><td>0.03468579</td><td>10.18689  </td></tr>\n",
       "</tbody>\n",
       "</table>\n"
      ],
      "text/latex": [
       "\\begin{tabular}{r|llllllll}\n",
       "  & division & cluster & year & month & freq.level0 & freq.level1 & division\\_freq\\_percentage & price\\\\\n",
       "\\hline\n",
       "\t480 & 16         & 2          & 2009       & 1          & 9341       & 3021       & 0.32341291 & 22.01296  \\\\\n",
       "\t443 & 15         & 2          & 2009       & 1          & 9341       & 2499       & 0.26753024 & 17.17364  \\\\\n",
       "\t196 &  7         & 2          & 2009       & 1          & 9341       & 1678       & 0.17963815 & 35.53786  \\\\\n",
       "\t141 &  6         & 2          & 2009       & 1          & 9341       &  721       & 0.07718660 & 16.71414  \\\\\n",
       "\t38 &  1         & 2          & 2009       & 1          & 9341       &  625       & 0.06690932 & 65.04477  \\\\\n",
       "\t523 & 17         & 2          & 2009       & 1          & 9341       &  324       & 0.03468579 & 10.18689  \\\\\n",
       "\\end{tabular}\n"
      ],
      "text/markdown": [
       "\n",
       "| <!--/--> | division | cluster | year | month | freq.level0 | freq.level1 | division_freq_percentage | price | \n",
       "|---|---|---|---|---|---|\n",
       "| 480 | 16         | 2          | 2009       | 1          | 9341       | 3021       | 0.32341291 | 22.01296   | \n",
       "| 443 | 15         | 2          | 2009       | 1          | 9341       | 2499       | 0.26753024 | 17.17364   | \n",
       "| 196 |  7         | 2          | 2009       | 1          | 9341       | 1678       | 0.17963815 | 35.53786   | \n",
       "| 141 |  6         | 2          | 2009       | 1          | 9341       |  721       | 0.07718660 | 16.71414   | \n",
       "| 38 |  1         | 2          | 2009       | 1          | 9341       |  625       | 0.06690932 | 65.04477   | \n",
       "| 523 | 17         | 2          | 2009       | 1          | 9341       |  324       | 0.03468579 | 10.18689   | \n",
       "\n",
       "\n"
      ],
      "text/plain": [
       "    division cluster year month freq.level0 freq.level1\n",
       "480 16       2       2009 1     9341        3021       \n",
       "443 15       2       2009 1     9341        2499       \n",
       "196  7       2       2009 1     9341        1678       \n",
       "141  6       2       2009 1     9341         721       \n",
       "38   1       2       2009 1     9341         625       \n",
       "523 17       2       2009 1     9341         324       \n",
       "    division_freq_percentage price   \n",
       "480 0.32341291               22.01296\n",
       "443 0.26753024               17.17364\n",
       "196 0.17963815               35.53786\n",
       "141 0.07718660               16.71414\n",
       "38  0.06690932               65.04477\n",
       "523 0.03468579               10.18689"
      ]
     },
     "metadata": {},
     "output_type": "display_data"
    },
    {
     "data": {
      "text/html": [
       "<table>\n",
       "<thead><tr><th></th><th scope=col>division</th><th scope=col>cluster</th><th scope=col>year</th><th scope=col>month</th><th scope=col>freq.level0</th><th scope=col>freq.level1</th><th scope=col>division_freq_percentage</th><th scope=col>price</th></tr></thead>\n",
       "<tbody>\n",
       "\t<tr><th scope=row>418</th><td>15        </td><td>3         </td><td>2009      </td><td>2         </td><td>2715      </td><td>1096      </td><td>0.40368324</td><td>17.17364  </td></tr>\n",
       "\t<tr><th scope=row>460</th><td>16        </td><td>3         </td><td>2009      </td><td>2         </td><td>2715      </td><td> 846      </td><td>0.31160221</td><td>22.01296  </td></tr>\n",
       "\t<tr><th scope=row>190</th><td> 7        </td><td>3         </td><td>2009      </td><td>2         </td><td>2715      </td><td> 336      </td><td>0.12375691</td><td>35.53786  </td></tr>\n",
       "\t<tr><th scope=row>143</th><td> 6        </td><td>3         </td><td>2009      </td><td>2         </td><td>2715      </td><td> 158      </td><td>0.05819521</td><td>16.71414  </td></tr>\n",
       "\t<tr><th scope=row>504</th><td>17        </td><td>3         </td><td>2009      </td><td>2         </td><td>2715      </td><td> 105      </td><td>0.03867403</td><td>10.18689  </td></tr>\n",
       "\t<tr><th scope=row>236</th><td> 8        </td><td>3         </td><td>2009      </td><td>2         </td><td>2715      </td><td>  64      </td><td>0.02357274</td><td>17.45221  </td></tr>\n",
       "</tbody>\n",
       "</table>\n"
      ],
      "text/latex": [
       "\\begin{tabular}{r|llllllll}\n",
       "  & division & cluster & year & month & freq.level0 & freq.level1 & division\\_freq\\_percentage & price\\\\\n",
       "\\hline\n",
       "\t418 & 15         & 3          & 2009       & 2          & 2715       & 1096       & 0.40368324 & 17.17364  \\\\\n",
       "\t460 & 16         & 3          & 2009       & 2          & 2715       &  846       & 0.31160221 & 22.01296  \\\\\n",
       "\t190 &  7         & 3          & 2009       & 2          & 2715       &  336       & 0.12375691 & 35.53786  \\\\\n",
       "\t143 &  6         & 3          & 2009       & 2          & 2715       &  158       & 0.05819521 & 16.71414  \\\\\n",
       "\t504 & 17         & 3          & 2009       & 2          & 2715       &  105       & 0.03867403 & 10.18689  \\\\\n",
       "\t236 &  8         & 3          & 2009       & 2          & 2715       &   64       & 0.02357274 & 17.45221  \\\\\n",
       "\\end{tabular}\n"
      ],
      "text/markdown": [
       "\n",
       "| <!--/--> | division | cluster | year | month | freq.level0 | freq.level1 | division_freq_percentage | price | \n",
       "|---|---|---|---|---|---|\n",
       "| 418 | 15         | 3          | 2009       | 2          | 2715       | 1096       | 0.40368324 | 17.17364   | \n",
       "| 460 | 16         | 3          | 2009       | 2          | 2715       |  846       | 0.31160221 | 22.01296   | \n",
       "| 190 |  7         | 3          | 2009       | 2          | 2715       |  336       | 0.12375691 | 35.53786   | \n",
       "| 143 |  6         | 3          | 2009       | 2          | 2715       |  158       | 0.05819521 | 16.71414   | \n",
       "| 504 | 17         | 3          | 2009       | 2          | 2715       |  105       | 0.03867403 | 10.18689   | \n",
       "| 236 |  8         | 3          | 2009       | 2          | 2715       |   64       | 0.02357274 | 17.45221   | \n",
       "\n",
       "\n"
      ],
      "text/plain": [
       "    division cluster year month freq.level0 freq.level1\n",
       "418 15       3       2009 2     2715        1096       \n",
       "460 16       3       2009 2     2715         846       \n",
       "190  7       3       2009 2     2715         336       \n",
       "143  6       3       2009 2     2715         158       \n",
       "504 17       3       2009 2     2715         105       \n",
       "236  8       3       2009 2     2715          64       \n",
       "    division_freq_percentage price   \n",
       "418 0.40368324               17.17364\n",
       "460 0.31160221               22.01296\n",
       "190 0.12375691               35.53786\n",
       "143 0.05819521               16.71414\n",
       "504 0.03867403               10.18689\n",
       "236 0.02357274               17.45221"
      ]
     },
     "metadata": {},
     "output_type": "display_data"
    },
    {
     "data": {
      "text/html": [
       "<table>\n",
       "<thead><tr><th></th><th scope=col>division</th><th scope=col>cluster</th><th scope=col>year</th><th scope=col>month</th><th scope=col>freq.level0</th><th scope=col>freq.level1</th><th scope=col>division_freq_percentage</th><th scope=col>price</th></tr></thead>\n",
       "<tbody>\n",
       "\t<tr><th scope=row>456</th><td>16        </td><td>4         </td><td>2009      </td><td>1         </td><td>6940      </td><td>2372      </td><td>0.34178674</td><td>22.01296  </td></tr>\n",
       "\t<tr><th scope=row>408</th><td>15        </td><td>4         </td><td>2009      </td><td>1         </td><td>6940      </td><td>2074      </td><td>0.29884726</td><td>17.17364  </td></tr>\n",
       "\t<tr><th scope=row>168</th><td> 7        </td><td>4         </td><td>2009      </td><td>1         </td><td>6940      </td><td>1127      </td><td>0.16239193</td><td>35.53786  </td></tr>\n",
       "\t<tr><th scope=row>132</th><td> 6        </td><td>4         </td><td>2009      </td><td>1         </td><td>6940      </td><td> 495      </td><td>0.07132565</td><td>16.71414  </td></tr>\n",
       "\t<tr><th scope=row>17</th><td> 1        </td><td>4         </td><td>2009      </td><td>1         </td><td>6940      </td><td> 275      </td><td>0.03962536</td><td>65.04477  </td></tr>\n",
       "\t<tr><th scope=row>506</th><td>17        </td><td>4         </td><td>2009      </td><td>1         </td><td>6940      </td><td> 245      </td><td>0.03530259</td><td>10.18689  </td></tr>\n",
       "</tbody>\n",
       "</table>\n"
      ],
      "text/latex": [
       "\\begin{tabular}{r|llllllll}\n",
       "  & division & cluster & year & month & freq.level0 & freq.level1 & division\\_freq\\_percentage & price\\\\\n",
       "\\hline\n",
       "\t456 & 16         & 4          & 2009       & 1          & 6940       & 2372       & 0.34178674 & 22.01296  \\\\\n",
       "\t408 & 15         & 4          & 2009       & 1          & 6940       & 2074       & 0.29884726 & 17.17364  \\\\\n",
       "\t168 &  7         & 4          & 2009       & 1          & 6940       & 1127       & 0.16239193 & 35.53786  \\\\\n",
       "\t132 &  6         & 4          & 2009       & 1          & 6940       &  495       & 0.07132565 & 16.71414  \\\\\n",
       "\t17 &  1         & 4          & 2009       & 1          & 6940       &  275       & 0.03962536 & 65.04477  \\\\\n",
       "\t506 & 17         & 4          & 2009       & 1          & 6940       &  245       & 0.03530259 & 10.18689  \\\\\n",
       "\\end{tabular}\n"
      ],
      "text/markdown": [
       "\n",
       "| <!--/--> | division | cluster | year | month | freq.level0 | freq.level1 | division_freq_percentage | price | \n",
       "|---|---|---|---|---|---|\n",
       "| 456 | 16         | 4          | 2009       | 1          | 6940       | 2372       | 0.34178674 | 22.01296   | \n",
       "| 408 | 15         | 4          | 2009       | 1          | 6940       | 2074       | 0.29884726 | 17.17364   | \n",
       "| 168 |  7         | 4          | 2009       | 1          | 6940       | 1127       | 0.16239193 | 35.53786   | \n",
       "| 132 |  6         | 4          | 2009       | 1          | 6940       |  495       | 0.07132565 | 16.71414   | \n",
       "| 17 |  1         | 4          | 2009       | 1          | 6940       |  275       | 0.03962536 | 65.04477   | \n",
       "| 506 | 17         | 4          | 2009       | 1          | 6940       |  245       | 0.03530259 | 10.18689   | \n",
       "\n",
       "\n"
      ],
      "text/plain": [
       "    division cluster year month freq.level0 freq.level1\n",
       "456 16       4       2009 1     6940        2372       \n",
       "408 15       4       2009 1     6940        2074       \n",
       "168  7       4       2009 1     6940        1127       \n",
       "132  6       4       2009 1     6940         495       \n",
       "17   1       4       2009 1     6940         275       \n",
       "506 17       4       2009 1     6940         245       \n",
       "    division_freq_percentage price   \n",
       "456 0.34178674               22.01296\n",
       "408 0.29884726               17.17364\n",
       "168 0.16239193               35.53786\n",
       "132 0.07132565               16.71414\n",
       "17  0.03962536               65.04477\n",
       "506 0.03530259               10.18689"
      ]
     },
     "metadata": {},
     "output_type": "display_data"
    }
   ],
   "source": [
    "division_freq[which(division_freq$cluster==1),][c(1:6),]\n",
    "division_freq[which(division_freq$cluster==2),][c(1:6),]\n",
    "division_freq[which(division_freq$cluster==3),][c(1:6),]\n",
    "division_freq[which(division_freq$cluster==4),][c(1:6),]"
   ]
  },
  {
   "cell_type": "markdown",
   "metadata": {},
   "source": [
    "### how about the quantity in that division they bought? "
   ]
  },
  {
   "cell_type": "markdown",
   "metadata": {},
   "source": [
    "#### Let's see from the graph: \n",
    "when set division_freq_percentage cutoff as 0.04, the division which people buy largest quantity are: 16,15,7,6,1,17\n",
    "\n",
    "Conclusion: the same as before: the division people buy more frequently, the more they will buy."
   ]
  },
  {
   "cell_type": "code",
   "execution_count": 331,
   "metadata": {
    "ExecuteTime": {
     "end_time": "2018-05-04T02:08:55.536273Z",
     "start_time": "2018-05-04T02:08:51.982Z"
    },
    "collapsed": true,
    "scrolled": true
   },
   "outputs": [],
   "source": [
    "month_purchase_quantity = aggregate(product_quantity~cluster+year+month+division, revenue_factor ,sum )\n",
    "month_purchase_quantity <- merge(division_freq, month_purchase_quantity, by = c('cluster','year','month','division'), all.x = TRUE)"
   ]
  },
  {
   "cell_type": "code",
   "execution_count": 338,
   "metadata": {
    "ExecuteTime": {
     "end_time": "2018-05-04T02:13:03.317170Z",
     "start_time": "2018-05-04T02:13:02.732Z"
    }
   },
   "outputs": [
    {
     "data": {
      "image/png": "[encoded data removed]",
      "text/plain": [
       "plot without title"
      ]
     },
     "metadata": {},
     "output_type": "display_data"
    }
   ],
   "source": [
    "tmp1 <- month_purchase_quantity[which(month_purchase_quantity$cluster==1& month_purchase_quantity$division_freq_percentage>0.03),]\n",
    "tmp2 <- month_purchase_quantity[which(month_purchase_quantity$cluster==2& month_purchase_quantity$division_freq_percentage>0.03),]\n",
    "tmp3 <- month_purchase_quantity[which(month_purchase_quantity$cluster==3& month_purchase_quantity$division_freq_percentage>0.03),]\n",
    "tmp4 <- month_purchase_quantity[which(month_purchase_quantity$cluster==4& month_purchase_quantity$division_freq_percentage>0.03),]\n",
    "\n",
    "par(mfrow = c(1, 4))\n",
    "plot(x=tmp1$month,y=tmp1$product_quantity,col=tmp1$division)\n",
    "legend(x = 'topleft',pch=unique(tmp1$division),col=unique(tmp1$division),legend=paste(unique(tmp1$division)))\n",
    "plot(x=tmp2$month,y=tmp2$product_quantity,col=tmp2$division)\n",
    "legend(x = 'topleft',pch=unique(tmp2$division),col=unique(tmp2$division),legend=paste(unique(tmp2$division)))\n",
    "plot(x=tmp3$month,y=tmp3$product_quantity,col=tmp3$division)\n",
    "legend(x = 'topleft',pch=unique(tmp3$division),col=unique(tmp3$division),legend=paste(unique(tmp3$division)))\n",
    "plot(x=tmp4$month,y=tmp4$product_quantity,col=tmp4$division)\n",
    "legend(x = 'topleft',pch=unique(tmp4$division),col=unique(tmp4$division),legend=paste(unique(tmp4$division)))"
   ]
  },
  {
   "cell_type": "markdown",
   "metadata": {
    "ExecuteTime": {
     "end_time": "2018-05-04T02:20:34.329581Z",
     "start_time": "2018-05-04T02:20:34.100Z"
    }
   },
   "source": [
    "#### Checking the divisions which people buy with the highest quantities in each cluster by eyeballing"
   ]
  },
  {
   "cell_type": "code",
   "execution_count": 336,
   "metadata": {
    "ExecuteTime": {
     "end_time": "2018-05-04T02:10:07.441835Z",
     "start_time": "2018-05-04T02:10:07.151Z"
    },
    "scrolled": true
   },
   "outputs": [
    {
     "data": {
      "text/html": [
       "<table>\n",
       "<thead><tr><th></th><th scope=col>cluster</th><th scope=col>year</th><th scope=col>month</th><th scope=col>division</th><th scope=col>freq.level0</th><th scope=col>freq.level1</th><th scope=col>division_freq_percentage</th><th scope=col>price</th><th scope=col>product_quantity</th></tr></thead>\n",
       "<tbody>\n",
       "\t<tr><th scope=row>10</th><td>1         </td><td>2009      </td><td>1         </td><td>15        </td><td>4998      </td><td>1680      </td><td>0.33613445</td><td>17.17364  </td><td>9574      </td></tr>\n",
       "\t<tr><th scope=row>11</th><td>1         </td><td>2009      </td><td>1         </td><td>16        </td><td>4998      </td><td>1685      </td><td>0.33713485</td><td>22.01296  </td><td>5149      </td></tr>\n",
       "\t<tr><th scope=row>5</th><td>1         </td><td>2009      </td><td>1         </td><td> 7        </td><td>4998      </td><td> 737      </td><td>0.14745898</td><td>35.53786  </td><td>1922      </td></tr>\n",
       "\t<tr><th scope=row>4</th><td>1         </td><td>2009      </td><td>1         </td><td> 6        </td><td>4998      </td><td> 333      </td><td>0.06662665</td><td>16.71414  </td><td> 767      </td></tr>\n",
       "\t<tr><th scope=row>12</th><td>1         </td><td>2009      </td><td>1         </td><td>17        </td><td>4998      </td><td> 176      </td><td>0.03521409</td><td>10.18689  </td><td> 475      </td></tr>\n",
       "</tbody>\n",
       "</table>\n"
      ],
      "text/latex": [
       "\\begin{tabular}{r|lllllllll}\n",
       "  & cluster & year & month & division & freq.level0 & freq.level1 & division\\_freq\\_percentage & price & product\\_quantity\\\\\n",
       "\\hline\n",
       "\t10 & 1          & 2009       & 1          & 15         & 4998       & 1680       & 0.33613445 & 17.17364   & 9574      \\\\\n",
       "\t11 & 1          & 2009       & 1          & 16         & 4998       & 1685       & 0.33713485 & 22.01296   & 5149      \\\\\n",
       "\t5 & 1          & 2009       & 1          &  7         & 4998       &  737       & 0.14745898 & 35.53786   & 1922      \\\\\n",
       "\t4 & 1          & 2009       & 1          &  6         & 4998       &  333       & 0.06662665 & 16.71414   &  767      \\\\\n",
       "\t12 & 1          & 2009       & 1          & 17         & 4998       &  176       & 0.03521409 & 10.18689   &  475      \\\\\n",
       "\\end{tabular}\n"
      ],
      "text/markdown": [
       "\n",
       "| <!--/--> | cluster | year | month | division | freq.level0 | freq.level1 | division_freq_percentage | price | product_quantity | \n",
       "|---|---|---|---|---|\n",
       "| 10 | 1          | 2009       | 1          | 15         | 4998       | 1680       | 0.33613445 | 17.17364   | 9574       | \n",
       "| 11 | 1          | 2009       | 1          | 16         | 4998       | 1685       | 0.33713485 | 22.01296   | 5149       | \n",
       "| 5 | 1          | 2009       | 1          |  7         | 4998       |  737       | 0.14745898 | 35.53786   | 1922       | \n",
       "| 4 | 1          | 2009       | 1          |  6         | 4998       |  333       | 0.06662665 | 16.71414   |  767       | \n",
       "| 12 | 1          | 2009       | 1          | 17         | 4998       |  176       | 0.03521409 | 10.18689   |  475       | \n",
       "\n",
       "\n"
      ],
      "text/plain": [
       "   cluster year month division freq.level0 freq.level1 division_freq_percentage\n",
       "10 1       2009 1     15       4998        1680        0.33613445              \n",
       "11 1       2009 1     16       4998        1685        0.33713485              \n",
       "5  1       2009 1      7       4998         737        0.14745898              \n",
       "4  1       2009 1      6       4998         333        0.06662665              \n",
       "12 1       2009 1     17       4998         176        0.03521409              \n",
       "   price    product_quantity\n",
       "10 17.17364 9574            \n",
       "11 22.01296 5149            \n",
       "5  35.53786 1922            \n",
       "4  16.71414  767            \n",
       "12 10.18689  475            "
      ]
     },
     "metadata": {},
     "output_type": "display_data"
    },
    {
     "data": {
      "text/html": [
       "<table>\n",
       "<thead><tr><th></th><th scope=col>cluster</th><th scope=col>year</th><th scope=col>month</th><th scope=col>division</th><th scope=col>freq.level0</th><th scope=col>freq.level1</th><th scope=col>division_freq_percentage</th><th scope=col>price</th><th scope=col>product_quantity</th></tr></thead>\n",
       "<tbody>\n",
       "\t<tr><th scope=row>144</th><td>2         </td><td>2009      </td><td>1         </td><td>15        </td><td>9341      </td><td>2499      </td><td>0.26753024</td><td>17.17364  </td><td>174837    </td></tr>\n",
       "\t<tr><th scope=row>145</th><td>2         </td><td>2009      </td><td>1         </td><td>16        </td><td>9341      </td><td>3021      </td><td>0.32341291</td><td>22.01296  </td><td> 82063    </td></tr>\n",
       "\t<tr><th scope=row>139</th><td>2         </td><td>2009      </td><td>1         </td><td> 7        </td><td>9341      </td><td>1678      </td><td>0.17963815</td><td>35.53786  </td><td> 41043    </td></tr>\n",
       "\t<tr><th scope=row>138</th><td>2         </td><td>2009      </td><td>1         </td><td> 6        </td><td>9341      </td><td> 721      </td><td>0.07718660</td><td>16.71414  </td><td> 13246    </td></tr>\n",
       "\t<tr><th scope=row>146</th><td>2         </td><td>2009      </td><td>1         </td><td>17        </td><td>9341      </td><td> 324      </td><td>0.03468579</td><td>10.18689  </td><td>  6420    </td></tr>\n",
       "</tbody>\n",
       "</table>\n"
      ],
      "text/latex": [
       "\\begin{tabular}{r|lllllllll}\n",
       "  & cluster & year & month & division & freq.level0 & freq.level1 & division\\_freq\\_percentage & price & product\\_quantity\\\\\n",
       "\\hline\n",
       "\t144 & 2          & 2009       & 1          & 15         & 9341       & 2499       & 0.26753024 & 17.17364   & 174837    \\\\\n",
       "\t145 & 2          & 2009       & 1          & 16         & 9341       & 3021       & 0.32341291 & 22.01296   &  82063    \\\\\n",
       "\t139 & 2          & 2009       & 1          &  7         & 9341       & 1678       & 0.17963815 & 35.53786   &  41043    \\\\\n",
       "\t138 & 2          & 2009       & 1          &  6         & 9341       &  721       & 0.07718660 & 16.71414   &  13246    \\\\\n",
       "\t146 & 2          & 2009       & 1          & 17         & 9341       &  324       & 0.03468579 & 10.18689   &   6420    \\\\\n",
       "\\end{tabular}\n"
      ],
      "text/markdown": [
       "\n",
       "| <!--/--> | cluster | year | month | division | freq.level0 | freq.level1 | division_freq_percentage | price | product_quantity | \n",
       "|---|---|---|---|---|\n",
       "| 144 | 2          | 2009       | 1          | 15         | 9341       | 2499       | 0.26753024 | 17.17364   | 174837     | \n",
       "| 145 | 2          | 2009       | 1          | 16         | 9341       | 3021       | 0.32341291 | 22.01296   |  82063     | \n",
       "| 139 | 2          | 2009       | 1          |  7         | 9341       | 1678       | 0.17963815 | 35.53786   |  41043     | \n",
       "| 138 | 2          | 2009       | 1          |  6         | 9341       |  721       | 0.07718660 | 16.71414   |  13246     | \n",
       "| 146 | 2          | 2009       | 1          | 17         | 9341       |  324       | 0.03468579 | 10.18689   |   6420     | \n",
       "\n",
       "\n"
      ],
      "text/plain": [
       "    cluster year month division freq.level0 freq.level1\n",
       "144 2       2009 1     15       9341        2499       \n",
       "145 2       2009 1     16       9341        3021       \n",
       "139 2       2009 1      7       9341        1678       \n",
       "138 2       2009 1      6       9341         721       \n",
       "146 2       2009 1     17       9341         324       \n",
       "    division_freq_percentage price    product_quantity\n",
       "144 0.26753024               17.17364 174837          \n",
       "145 0.32341291               22.01296  82063          \n",
       "139 0.17963815               35.53786  41043          \n",
       "138 0.07718660               16.71414  13246          \n",
       "146 0.03468579               10.18689   6420          "
      ]
     },
     "metadata": {},
     "output_type": "display_data"
    },
    {
     "data": {
      "text/html": [
       "<table>\n",
       "<thead><tr><th></th><th scope=col>cluster</th><th scope=col>year</th><th scope=col>month</th><th scope=col>division</th><th scope=col>freq.level0</th><th scope=col>freq.level1</th><th scope=col>division_freq_percentage</th><th scope=col>price</th><th scope=col>product_quantity</th></tr></thead>\n",
       "<tbody>\n",
       "\t<tr><th scope=row>345</th><td>3         </td><td>2009      </td><td>2         </td><td>15        </td><td>2715      </td><td>1096      </td><td>0.40368324</td><td>17.17364  </td><td>3251      </td></tr>\n",
       "\t<tr><th scope=row>346</th><td>3         </td><td>2009      </td><td>2         </td><td>16        </td><td>2715      </td><td> 846      </td><td>0.31160221</td><td>22.01296  </td><td>1352      </td></tr>\n",
       "\t<tr><th scope=row>340</th><td>3         </td><td>2009      </td><td>2         </td><td> 7        </td><td>2715      </td><td> 336      </td><td>0.12375691</td><td>35.53786  </td><td> 537      </td></tr>\n",
       "\t<tr><th scope=row>339</th><td>3         </td><td>2009      </td><td>2         </td><td> 6        </td><td>2715      </td><td> 158      </td><td>0.05819521</td><td>16.71414  </td><td> 222      </td></tr>\n",
       "\t<tr><th scope=row>347</th><td>3         </td><td>2009      </td><td>2         </td><td>17        </td><td>2715      </td><td> 105      </td><td>0.03867403</td><td>10.18689  </td><td> 217      </td></tr>\n",
       "</tbody>\n",
       "</table>\n"
      ],
      "text/latex": [
       "\\begin{tabular}{r|lllllllll}\n",
       "  & cluster & year & month & division & freq.level0 & freq.level1 & division\\_freq\\_percentage & price & product\\_quantity\\\\\n",
       "\\hline\n",
       "\t345 & 3          & 2009       & 2          & 15         & 2715       & 1096       & 0.40368324 & 17.17364   & 3251      \\\\\n",
       "\t346 & 3          & 2009       & 2          & 16         & 2715       &  846       & 0.31160221 & 22.01296   & 1352      \\\\\n",
       "\t340 & 3          & 2009       & 2          &  7         & 2715       &  336       & 0.12375691 & 35.53786   &  537      \\\\\n",
       "\t339 & 3          & 2009       & 2          &  6         & 2715       &  158       & 0.05819521 & 16.71414   &  222      \\\\\n",
       "\t347 & 3          & 2009       & 2          & 17         & 2715       &  105       & 0.03867403 & 10.18689   &  217      \\\\\n",
       "\\end{tabular}\n"
      ],
      "text/markdown": [
       "\n",
       "| <!--/--> | cluster | year | month | division | freq.level0 | freq.level1 | division_freq_percentage | price | product_quantity | \n",
       "|---|---|---|---|---|\n",
       "| 345 | 3          | 2009       | 2          | 15         | 2715       | 1096       | 0.40368324 | 17.17364   | 3251       | \n",
       "| 346 | 3          | 2009       | 2          | 16         | 2715       |  846       | 0.31160221 | 22.01296   | 1352       | \n",
       "| 340 | 3          | 2009       | 2          |  7         | 2715       |  336       | 0.12375691 | 35.53786   |  537       | \n",
       "| 339 | 3          | 2009       | 2          |  6         | 2715       |  158       | 0.05819521 | 16.71414   |  222       | \n",
       "| 347 | 3          | 2009       | 2          | 17         | 2715       |  105       | 0.03867403 | 10.18689   |  217       | \n",
       "\n",
       "\n"
      ],
      "text/plain": [
       "    cluster year month division freq.level0 freq.level1\n",
       "345 3       2009 2     15       2715        1096       \n",
       "346 3       2009 2     16       2715         846       \n",
       "340 3       2009 2      7       2715         336       \n",
       "339 3       2009 2      6       2715         158       \n",
       "347 3       2009 2     17       2715         105       \n",
       "    division_freq_percentage price    product_quantity\n",
       "345 0.40368324               17.17364 3251            \n",
       "346 0.31160221               22.01296 1352            \n",
       "340 0.12375691               35.53786  537            \n",
       "339 0.05819521               16.71414  222            \n",
       "347 0.03867403               10.18689  217            "
      ]
     },
     "metadata": {},
     "output_type": "display_data"
    },
    {
     "data": {
      "text/html": [
       "<table>\n",
       "<thead><tr><th></th><th scope=col>cluster</th><th scope=col>year</th><th scope=col>month</th><th scope=col>division</th><th scope=col>freq.level0</th><th scope=col>freq.level1</th><th scope=col>division_freq_percentage</th><th scope=col>price</th><th scope=col>product_quantity</th></tr></thead>\n",
       "<tbody>\n",
       "\t<tr><th scope=row>510</th><td>4         </td><td>2009      </td><td>1         </td><td>15        </td><td>6940      </td><td>2074      </td><td>0.29884726</td><td>17.17364  </td><td>25064     </td></tr>\n",
       "\t<tr><th scope=row>511</th><td>4         </td><td>2009      </td><td>1         </td><td>16        </td><td>6940      </td><td>2372      </td><td>0.34178674</td><td>22.01296  </td><td>12644     </td></tr>\n",
       "\t<tr><th scope=row>505</th><td>4         </td><td>2009      </td><td>1         </td><td> 7        </td><td>6940      </td><td>1127      </td><td>0.16239193</td><td>35.53786  </td><td> 4973     </td></tr>\n",
       "\t<tr><th scope=row>504</th><td>4         </td><td>2009      </td><td>1         </td><td> 6        </td><td>6940      </td><td> 495      </td><td>0.07132565</td><td>16.71414  </td><td> 1861     </td></tr>\n",
       "\t<tr><th scope=row>512</th><td>4         </td><td>2009      </td><td>1         </td><td>17        </td><td>6940      </td><td> 245      </td><td>0.03530259</td><td>10.18689  </td><td> 1162     </td></tr>\n",
       "</tbody>\n",
       "</table>\n"
      ],
      "text/latex": [
       "\\begin{tabular}{r|lllllllll}\n",
       "  & cluster & year & month & division & freq.level0 & freq.level1 & division\\_freq\\_percentage & price & product\\_quantity\\\\\n",
       "\\hline\n",
       "\t510 & 4          & 2009       & 1          & 15         & 6940       & 2074       & 0.29884726 & 17.17364   & 25064     \\\\\n",
       "\t511 & 4          & 2009       & 1          & 16         & 6940       & 2372       & 0.34178674 & 22.01296   & 12644     \\\\\n",
       "\t505 & 4          & 2009       & 1          &  7         & 6940       & 1127       & 0.16239193 & 35.53786   &  4973     \\\\\n",
       "\t504 & 4          & 2009       & 1          &  6         & 6940       &  495       & 0.07132565 & 16.71414   &  1861     \\\\\n",
       "\t512 & 4          & 2009       & 1          & 17         & 6940       &  245       & 0.03530259 & 10.18689   &  1162     \\\\\n",
       "\\end{tabular}\n"
      ],
      "text/markdown": [
       "\n",
       "| <!--/--> | cluster | year | month | division | freq.level0 | freq.level1 | division_freq_percentage | price | product_quantity | \n",
       "|---|---|---|---|---|\n",
       "| 510 | 4          | 2009       | 1          | 15         | 6940       | 2074       | 0.29884726 | 17.17364   | 25064      | \n",
       "| 511 | 4          | 2009       | 1          | 16         | 6940       | 2372       | 0.34178674 | 22.01296   | 12644      | \n",
       "| 505 | 4          | 2009       | 1          |  7         | 6940       | 1127       | 0.16239193 | 35.53786   |  4973      | \n",
       "| 504 | 4          | 2009       | 1          |  6         | 6940       |  495       | 0.07132565 | 16.71414   |  1861      | \n",
       "| 512 | 4          | 2009       | 1          | 17         | 6940       |  245       | 0.03530259 | 10.18689   |  1162      | \n",
       "\n",
       "\n"
      ],
      "text/plain": [
       "    cluster year month division freq.level0 freq.level1\n",
       "510 4       2009 1     15       6940        2074       \n",
       "511 4       2009 1     16       6940        2372       \n",
       "505 4       2009 1      7       6940        1127       \n",
       "504 4       2009 1      6       6940         495       \n",
       "512 4       2009 1     17       6940         245       \n",
       "    division_freq_percentage price    product_quantity\n",
       "510 0.29884726               17.17364 25064           \n",
       "511 0.34178674               22.01296 12644           \n",
       "505 0.16239193               35.53786  4973           \n",
       "504 0.07132565               16.71414  1861           \n",
       "512 0.03530259               10.18689  1162           "
      ]
     },
     "metadata": {},
     "output_type": "display_data"
    }
   ],
   "source": [
    "month_purchase_quantity<-month_purchase_quantity[order(month_purchase_quantity$cluster, month_purchase_quantity$month, -month_purchase_quantity$product_quantity),]\n",
    "month_purchase_quantity[which(month_purchase_quantity$cluster==1),][c(1:5),]\n",
    "month_purchase_quantity[which(month_purchase_quantity$cluster==2),][c(1:5),]\n",
    "month_purchase_quantity[which(month_purchase_quantity$cluster==3),][c(1:5),]\n",
    "month_purchase_quantity[which(month_purchase_quantity$cluster==4),][c(1:5),]"
   ]
  },
  {
   "cell_type": "markdown",
   "metadata": {},
   "source": [
    "### Level2: division & category\n",
    "#### how many times this cluster purchased a particular division & category in a particular month in 2009\n",
    "#### similar as division"
   ]
  },
  {
   "cell_type": "markdown",
   "metadata": {},
   "source": [
    "#### Let's see from the graph: \n",
    "when set category_freq_percentage cutoff as 0.3, categories people buy more often are 16,15,7,6,1,17"
   ]
  },
  {
   "cell_type": "code",
   "execution_count": 348,
   "metadata": {
    "ExecuteTime": {
     "end_time": "2018-05-04T02:42:59.873831Z",
     "start_time": "2018-05-04T02:43:48.315Z"
    }
   },
   "outputs": [
    {
     "data": {
      "image/png": "[encoded data removed]",
      "text/plain": [
       "plot without title"
      ]
     },
     "metadata": {},
     "output_type": "display_data"
    }
   ],
   "source": [
    "#freq.leve2 graphs   \n",
    "tmp1 <- category_freq[which(category_freq$cluster==1 &category_freq$category_freq_percentage>0.3),]\n",
    "tmp2 <- category_freq[which(category_freq$cluster==2 &category_freq$category_freq_percentage>0.3),]\n",
    "tmp3 <- category_freq[which(category_freq$cluster==3 &category_freq$category_freq_percentage>0.3),]\n",
    "tmp4 <- category_freq[which(category_freq$cluster==4 &category_freq$category_freq_percentage>0.3),]\n",
    "\n",
    "par(mfrow = c(1, 4))\n",
    "plot(x=tmp1$month,y=tmp1$category_freq_percentage,col=tmp1$category)\n",
    "legend(x = 'topleft',pch=unique(tmp1$category),col=unique(tmp1$category),legend=paste(unique(tmp1$category)))\n",
    "plot(x=tmp2$month,y=tmp2$category_freq_percentage,col=tmp2$category)\n",
    "legend(x = 'topleft',pch=unique(tmp2$category),col=unique(tmp2$category),legend=paste(unique(tmp2$category)))\n",
    "plot(x=tmp3$month,y=tmp3$category_freq_percentage,col=tmp3$category)\n",
    "legend(x = 'topleft',pch=unique(tmp3$category),col=unique(tmp3$category),legend=paste(unique(tmp3$category)))\n",
    "plot(x=tmp4$month,y=tmp4$category_freq_percentage,col=tmp4$category)\n",
    "legend(x = 'topleft',pch=unique(tmp4$category),col=unique(tmp4$category),legend=paste(unique(tmp4$category)))"
   ]
  },
  {
   "cell_type": "markdown",
   "metadata": {},
   "source": [
    "### The rest levels: similar as division and category\n"
   ]
  },
  {
   "cell_type": "code",
   "execution_count": null,
   "metadata": {
    "collapsed": true
   },
   "outputs": [],
   "source": []
  }
 ],
 "metadata": {
  "kernelspec": {
   "display_name": "R",
   "language": "R",
   "name": "ir"
  },
  "language_info": {
   "codemirror_mode": "r",
   "file_extension": ".r",
   "mimetype": "text/x-r-source",
   "name": "R",
   "pygments_lexer": "r",
   "version": "3.3.3"
  }
 },
 "nbformat": 4,
 "nbformat_minor": 2
}
